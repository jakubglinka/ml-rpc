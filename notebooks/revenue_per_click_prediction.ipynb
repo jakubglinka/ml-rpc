{
 "cells": [
  {
   "cell_type": "markdown",
   "metadata": {},
   "source": [
    "## Prediction of Revenue Per Click"
   ]
  },
  {
   "cell_type": "markdown",
   "metadata": {},
   "source": [
    "### Hardware details:\n",
    "\n",
    "We are using AWS `t2.xlarge` instance with following specs:"
   ]
  },
  {
   "cell_type": "code",
   "execution_count": 1,
   "metadata": {
    "scrolled": true
   },
   "outputs": [
    {
     "name": "stdout",
     "output_type": "stream",
     "text": [
      "H/W path    Device  Class      Description\n",
      "==========================================\n",
      "                    system     HVM domU\n",
      "/0                  bus        Motherboard\n",
      "/0/0                memory     96KiB BIOS\n",
      "/0/401              processor  Intel(R) Xeon(R) CPU E5-2676 v3 @ 2.40GHz\n",
      "/0/402              processor  CPU\n",
      "/0/403              processor  CPU\n",
      "/0/404              processor  CPU\n",
      "/0/1000             memory     16GiB System Memory\n",
      "/0/1000/0           memory     16GiB DIMM RAM\n",
      "/0/100              bridge     440FX - 82441FX PMC [Natoma]\n",
      "/0/100/1            bridge     82371SB PIIX3 ISA [Natoma/Triton II]\n",
      "/0/100/1.1          storage    82371SB PIIX3 IDE [Natoma/Triton II]\n",
      "/0/100/1.3          bridge     82371AB/EB/MB PIIX4 ACPI\n",
      "/0/100/2            display    GD 5446\n",
      "/0/100/3            generic    Xen Platform Device\n",
      "/1          eth0    network    Ethernet interface\n"
     ]
    }
   ],
   "source": [
    "!sudo lshw -short"
   ]
  },
  {
   "cell_type": "markdown",
   "metadata": {},
   "source": [
    "### Data acquisition and ETL"
   ]
  },
  {
   "cell_type": "code",
   "execution_count": 2,
   "metadata": {},
   "outputs": [
    {
     "data": {
      "text/plain": [
       "8285423"
      ]
     },
     "execution_count": 2,
     "metadata": {},
     "output_type": "execute_result"
    }
   ],
   "source": [
    "# move tables from s3 to local sql warehouse\n",
    "# spark.read.csv(\"s3n://jakubs-bucket/\", header=True, inferSchema=True)\n",
    "sdf_train = spark.read.csv(\"s3n://jakubs-bucket/rpc/train.csv\", header=True, inferSchema=True)\n",
    "sdf_train.persist()\n",
    "sdf_train.count()"
   ]
  },
  {
   "cell_type": "code",
   "execution_count": 3,
   "metadata": {},
   "outputs": [],
   "source": [
    "# spark.sql(\"drop table rpc.train\")\n",
    "spark.sql('create database rpc');\n",
    "sdf_train.write.saveAsTable('rpc.train')"
   ]
  },
  {
   "cell_type": "markdown",
   "metadata": {},
   "source": [
    "#### Recover weighted binary response set\n",
    "\n",
    "Since we want to model probability of success (conversion) and revenue seperately we need to recover original event dataset. Since h2o models can handle case weights natively we only need to recreate events groups that ended with conversion and without along with their counts and genereated revenue. "
   ]
  },
  {
   "cell_type": "code",
   "execution_count": 72,
   "metadata": {},
   "outputs": [
    {
     "data": {
      "text/plain": [
       "0.03451276639078672"
      ]
     },
     "execution_count": 72,
     "metadata": {},
     "output_type": "execute_result"
    }
   ],
   "source": [
    "# more conversions than clicks (information about detailed user path is lost in this aggregated dataset)\n",
    "sdf.select('Conversions', 'Clicks').filter(col('Conversions') > col('Clicks')).count() /  \\\n",
    "    sdf.filter(col('Conversions') > 0).count()"
   ]
  },
  {
   "cell_type": "code",
   "execution_count": 127,
   "metadata": {},
   "outputs": [],
   "source": [
    "# sdf.select('Date', 'Clicks', 'Conversions', 'Revenue').show(5)\n",
    "\n",
    "from pyspark.sql.functions import udf\n",
    "from pyspark.sql.types import ArrayType, StringType, IntegerType, DoubleType, StructType, StructField, Row\n",
    "\n",
    "# ?udf\n",
    "\n",
    "@udf(returnType=ArrayType(\n",
    "        StructType([\n",
    "            StructField('n', IntegerType(), False),\n",
    "            StructField('y', IntegerType(), False),\n",
    "            StructField('m', DoubleType(), False),\n",
    "        ])))\n",
    "def expand(clicks, conversions, revenue):\n",
    "    \n",
    "    if (conversions > clicks):\n",
    "        conversions = clicks\n",
    "\n",
    "    row0 = Row(n = clicks - conversions, y = 0, m = 0.0)\n",
    "    if ((conversions > 0) & (conversions < clicks)):\n",
    "            row1 = Row(n = conversions, y = 1, m = revenue / conversions)\n",
    "            res = [row0, row1]\n",
    "    elif ((conversions > 0) & (conversions == clicks)):\n",
    "            row1 = Row(n = conversions, y = 1, m = revenue / conversions)\n",
    "            res = [row1]\n",
    "    else:\n",
    "            res = [row0]\n",
    "    return res\n",
    "\n"
   ]
  },
  {
   "cell_type": "code",
   "execution_count": 128,
   "metadata": {
    "scrolled": true
   },
   "outputs": [
    {
     "name": "stdout",
     "output_type": "stream",
     "text": [
      "root\n",
      " |-- Date: timestamp (nullable = true)\n",
      " |-- Keyword_ID: long (nullable = true)\n",
      " |-- Ad_group_ID: long (nullable = true)\n",
      " |-- Campaign_ID: long (nullable = true)\n",
      " |-- Account_ID: long (nullable = true)\n",
      " |-- Device_ID: long (nullable = true)\n",
      " |-- Match_type_ID: long (nullable = true)\n",
      " |-- Revenue: double (nullable = true)\n",
      " |-- Clicks: integer (nullable = true)\n",
      " |-- Conversions: integer (nullable = true)\n",
      " |-- n: integer (nullable = true)\n",
      " |-- y: integer (nullable = true)\n",
      " |-- m: double (nullable = true)\n",
      "\n"
     ]
    }
   ],
   "source": [
    "from pyspark.sql.functions import explode\n",
    "\n",
    "sdf_exp = sdf \\\n",
    "    .withColumn('test', explode(expand(col('Clicks'), col('Conversions'), col('Revenue')))) \\\n",
    "    .withColumn('n', col('test.n')) \\\n",
    "    .withColumn('y', col('test.y')) \\\n",
    "    .withColumn('m', col('test.m')) \\\n",
    "    .drop('test')\n",
    "    \n",
    "sdf_exp.printSchema()"
   ]
  },
  {
   "cell_type": "code",
   "execution_count": 129,
   "metadata": {},
   "outputs": [
    {
     "name": "stdout",
     "output_type": "stream",
     "text": [
      "+------+-----------+-------+---+\n",
      "|Clicks|Conversions|Revenue|  n|\n",
      "+------+-----------+-------+---+\n",
      "+------+-----------+-------+---+\n",
      "\n"
     ]
    }
   ],
   "source": [
    "sdf_exp.select('Clicks','Conversions', 'Revenue', 'n').filter(col('n') == 0).show()"
   ]
  },
  {
   "cell_type": "code",
   "execution_count": 130,
   "metadata": {},
   "outputs": [],
   "source": [
    "spark.sql(\"drop table if exists rpc.train_exp\")\n",
    "sdf_exp.write.saveAsTable('rpc.train_exp')"
   ]
  },
  {
   "cell_type": "markdown",
   "metadata": {},
   "source": [
    "### Task description:"
   ]
  },
  {
   "cell_type": "markdown",
   "metadata": {},
   "source": [
    "#### Advertiser programatic bidding:\n",
    "\n",
    " - The advertiser can set a price for each keyword/match type combination. \n",
    " - She can even refine her price setting by taking the device (computer, mobile, ...) into account. \n",
    " - She is furthermore free to update the prices whenever she wants. \n",
    "\n",
    "The set price mainly determines if her advertisement is shown to the user instead of a competitor’s one. Although the price decides on if the advertisement is shown, the advertiser only has to pay if the user clicks on the advertisement. A click redirects the user to the advertiser’s website offering him products that match what she was searching for. All the money the particular user spends in the next days on the advertiser’s website is attributed to the click, i.e. it is assumed that all the revenue the user generated with her conversions (=bookings, orders) after clicking on the advertisement was triggered by the advertisement.\n",
    "\n",
    "#### Keyword taxonomy:\n",
    "\n",
    "An online platform such as GetYourGuide provides easily thousands of products. Each product can have several relevant keywords such that the number of managed keywords is immense. Therefore, a hierarchy helps to categorize keywords:\n",
    "\n",
    " - **Keywords** belonging to the same product **are collected in an ad group**. \n",
    " - Several ad groups can contain the same keyword, the combination of keyword and ad group is then again unique. \n",
    " - **Ad groups** with a similar scope are bundled **in a campaign**. \n",
    " - **Campaigns** for a common target audience are collected **in the same account**.\n",
    "\n",
    "#### The question:\n",
    "\n",
    "A crucial question to answer when pricing the keywords is how much revenue one can expect from a click. In other words, what is the expected Revenue per Click (RPC). Answering this question is your task in this test."
   ]
  },
  {
   "cell_type": "markdown",
   "metadata": {},
   "source": [
    "#### Evaluation metrics:\n",
    "\n",
    "Click weighted squared distance:"
   ]
  },
  {
   "cell_type": "markdown",
   "metadata": {},
   "source": [
    "$$ cost = \\frac{1}{C} \\sum_{i=1}^{N} \\left[ c_n(r_n - \\hat{r_n})^2 \\right] $$"
   ]
  },
  {
   "cell_type": "markdown",
   "metadata": {},
   "source": [
    "This means that we can drop all rows from dataset where number of click was zero..."
   ]
  },
  {
   "cell_type": "markdown",
   "metadata": {},
   "source": [
    "### Data exploration\n",
    "\n",
    "Tables were previously migrated from S3 bucket to the local spark metastore to speed up accessibility:"
   ]
  },
  {
   "cell_type": "code",
   "execution_count": 1,
   "metadata": {
    "scrolled": true
   },
   "outputs": [],
   "source": [
    "from pyspark.sql import SparkSession\n",
    "spark = SparkSession \\\n",
    "        .builder \\\n",
    "        .appName('Jupyter') \\\n",
    "        .getOrCreate()"
   ]
  },
  {
   "cell_type": "code",
   "execution_count": 2,
   "metadata": {},
   "outputs": [
    {
     "name": "stdout",
     "output_type": "stream",
     "text": [
      "\u001b[01;34m/home/ubuntu/spark-warehouse/\u001b[00m\r\n",
      "└── \u001b[01;34mrpc.db\u001b[00m\r\n",
      "    ├── \u001b[01;34mtrain\u001b[00m\r\n",
      "    │   ├── part-00000-9d40c1cc-fb58-4be1-837f-2f1fe216f702-c000.snappy.parquet\r\n",
      "    │   ├── part-00001-9d40c1cc-fb58-4be1-837f-2f1fe216f702-c000.snappy.parquet\r\n",
      "    │   ├── part-00002-9d40c1cc-fb58-4be1-837f-2f1fe216f702-c000.snappy.parquet\r\n",
      "    │   ├── part-00003-9d40c1cc-fb58-4be1-837f-2f1fe216f702-c000.snappy.parquet\r\n",
      "    │   ├── part-00004-9d40c1cc-fb58-4be1-837f-2f1fe216f702-c000.snappy.parquet\r\n",
      "    │   ├── part-00005-9d40c1cc-fb58-4be1-837f-2f1fe216f702-c000.snappy.parquet\r\n",
      "    │   ├── part-00006-9d40c1cc-fb58-4be1-837f-2f1fe216f702-c000.snappy.parquet\r\n",
      "    │   ├── part-00007-9d40c1cc-fb58-4be1-837f-2f1fe216f702-c000.snappy.parquet\r\n",
      "    │   └── _SUCCESS\r\n",
      "    └── \u001b[01;34mtrain_exp\u001b[00m\r\n",
      "        ├── part-00000-8eb41208-ec2f-4fc1-905c-92f457faa79a-c000.snappy.parquet\r\n",
      "        ├── part-00001-8eb41208-ec2f-4fc1-905c-92f457faa79a-c000.snappy.parquet\r\n",
      "        ├── part-00002-8eb41208-ec2f-4fc1-905c-92f457faa79a-c000.snappy.parquet\r\n",
      "        ├── part-00003-8eb41208-ec2f-4fc1-905c-92f457faa79a-c000.snappy.parquet\r\n",
      "        ├── part-00004-8eb41208-ec2f-4fc1-905c-92f457faa79a-c000.snappy.parquet\r\n",
      "        ├── part-00005-8eb41208-ec2f-4fc1-905c-92f457faa79a-c000.snappy.parquet\r\n",
      "        ├── part-00006-8eb41208-ec2f-4fc1-905c-92f457faa79a-c000.snappy.parquet\r\n",
      "        ├── part-00007-8eb41208-ec2f-4fc1-905c-92f457faa79a-c000.snappy.parquet\r\n",
      "        └── _SUCCESS\r\n",
      "\r\n",
      "3 directories, 18 files\r\n"
     ]
    }
   ],
   "source": [
    "!tree /home/ubuntu/spark-warehouse/"
   ]
  },
  {
   "cell_type": "code",
   "execution_count": 3,
   "metadata": {},
   "outputs": [
    {
     "name": "stdout",
     "output_type": "stream",
     "text": [
      "Filesystem     1K-blocks    Used Available Use% Mounted on\r\n",
      "udev             8207788       0   8207788   0% /dev\r\n",
      "tmpfs            1643152    8772   1634380   1% /run\r\n",
      "/dev/xvda1       8065444 4278500   3770560  54% /\r\n",
      "tmpfs            8215752       0   8215752   0% /dev/shm\r\n",
      "tmpfs               5120       0      5120   0% /run/lock\r\n",
      "tmpfs            8215752       0   8215752   0% /sys/fs/cgroup\r\n",
      "tmpfs            1643152      12   1643140   1% /run/user/1000\r\n"
     ]
    }
   ],
   "source": [
    "!df"
   ]
  },
  {
   "cell_type": "code",
   "execution_count": 4,
   "metadata": {},
   "outputs": [
    {
     "name": "stdout",
     "output_type": "stream",
     "text": [
      "root\n",
      " |-- Date: timestamp (nullable = true)\n",
      " |-- Keyword_ID: long (nullable = true)\n",
      " |-- Ad_group_ID: long (nullable = true)\n",
      " |-- Campaign_ID: long (nullable = true)\n",
      " |-- Account_ID: long (nullable = true)\n",
      " |-- Device_ID: long (nullable = true)\n",
      " |-- Match_type_ID: long (nullable = true)\n",
      " |-- Revenue: double (nullable = true)\n",
      " |-- Clicks: integer (nullable = true)\n",
      " |-- Conversions: integer (nullable = true)\n",
      "\n"
     ]
    },
    {
     "data": {
      "text/plain": [
       "8285423"
      ]
     },
     "execution_count": 4,
     "metadata": {},
     "output_type": "execute_result"
    }
   ],
   "source": [
    "sdf = spark.sql(\"select * from rpc.train\")\n",
    "sdf.printSchema()\n",
    "sdf.persist()\n",
    "sdf.count()"
   ]
  },
  {
   "cell_type": "code",
   "execution_count": 5,
   "metadata": {},
   "outputs": [
    {
     "name": "stdout",
     "output_type": "stream",
     "text": [
      "root\n",
      " |-- Date: timestamp (nullable = true)\n",
      " |-- Keyword_ID: long (nullable = true)\n",
      " |-- Ad_group_ID: long (nullable = true)\n",
      " |-- Campaign_ID: long (nullable = true)\n",
      " |-- Account_ID: long (nullable = true)\n",
      " |-- Device_ID: long (nullable = true)\n",
      " |-- Match_type_ID: long (nullable = true)\n",
      " |-- Revenue: double (nullable = true)\n",
      " |-- Clicks: integer (nullable = true)\n",
      " |-- Conversions: integer (nullable = true)\n",
      " |-- n: integer (nullable = true)\n",
      " |-- y: integer (nullable = true)\n",
      " |-- m: double (nullable = true)\n",
      "\n"
     ]
    },
    {
     "data": {
      "text/plain": [
       "8362990"
      ]
     },
     "execution_count": 5,
     "metadata": {},
     "output_type": "execute_result"
    }
   ],
   "source": [
    "sdf_exp = spark.sql(\"select * from rpc.train_exp\")\n",
    "sdf_exp.printSchema()\n",
    "sdf_exp.persist()\n",
    "sdf_exp.count()"
   ]
  },
  {
   "cell_type": "markdown",
   "metadata": {},
   "source": [
    "### Target variable\n",
    "\n",
    "Hypotheses:\n",
    "\n",
    " - we can aggregate data over time, i.e. probability of Conversion is conditionaly independent of time\n",
    " - Revenue is conidtionaly-independent from probability of conversion &#9989;\n",
    " - Revenue does not depend on time?\n",
    "\n",
    "where conditionality is on search keywords.\n",
    "\n",
    " - target variable is an compound distribution where we need to model conversion at all and conditionally respective revenue\n",
    " - probably we will just use glm model for that here with possibility of extending with tensorflow and rf for revenue\n",
    " - and normal rf as a baseline\n",
    " \n",
    " \n",
    " - we need to explode here !!!"
   ]
  },
  {
   "cell_type": "markdown",
   "metadata": {},
   "source": [
    "### Target variables relationship:"
   ]
  },
  {
   "cell_type": "code",
   "execution_count": 6,
   "metadata": {},
   "outputs": [],
   "source": [
    "from pyspark.sql.functions import col, log, sum\n",
    "pdf = sdf \\\n",
    "        .withColumn('log_prob_of_conv', log(col('Conversions') / col('Clicks'))) \\\n",
    "        .withColumn('prob_of_conv', col('Conversions') / col('Clicks')) \\\n",
    "        .withColumn('log_of_revenue', log(1 + col('Revenue'))) \\\n",
    "        .withColumn('rpc', (col('Revenue') / col('Clicks'))) \\\n",
    "        .select('Clicks', 'Conversions' ,'log_prob_of_conv', 'log_of_revenue', 'rpc') \\\n",
    "        .sample(True, .01).toPandas()"
   ]
  },
  {
   "cell_type": "code",
   "execution_count": 7,
   "metadata": {},
   "outputs": [
    {
     "data": {
      "text/html": [
       "<div>\n",
       "<style scoped>\n",
       "    .dataframe tbody tr th:only-of-type {\n",
       "        vertical-align: middle;\n",
       "    }\n",
       "\n",
       "    .dataframe tbody tr th {\n",
       "        vertical-align: top;\n",
       "    }\n",
       "\n",
       "    .dataframe thead th {\n",
       "        text-align: right;\n",
       "    }\n",
       "</style>\n",
       "<table border=\"1\" class=\"dataframe\">\n",
       "  <thead>\n",
       "    <tr style=\"text-align: right;\">\n",
       "      <th></th>\n",
       "      <th>Clicks</th>\n",
       "      <th>Conversions</th>\n",
       "      <th>log_prob_of_conv</th>\n",
       "      <th>log_of_revenue</th>\n",
       "      <th>rpc</th>\n",
       "    </tr>\n",
       "  </thead>\n",
       "  <tbody>\n",
       "    <tr>\n",
       "      <th>Clicks</th>\n",
       "      <td>1.000000</td>\n",
       "      <td>0.442923</td>\n",
       "      <td>-0.533604</td>\n",
       "      <td>0.168636</td>\n",
       "      <td>0.000379</td>\n",
       "    </tr>\n",
       "    <tr>\n",
       "      <th>Conversions</th>\n",
       "      <td>0.442923</td>\n",
       "      <td>1.000000</td>\n",
       "      <td>-0.072158</td>\n",
       "      <td>0.721638</td>\n",
       "      <td>0.298101</td>\n",
       "    </tr>\n",
       "    <tr>\n",
       "      <th>log_prob_of_conv</th>\n",
       "      <td>-0.533604</td>\n",
       "      <td>-0.072158</td>\n",
       "      <td>1.000000</td>\n",
       "      <td>-0.001462</td>\n",
       "      <td>0.277451</td>\n",
       "    </tr>\n",
       "    <tr>\n",
       "      <th>log_of_revenue</th>\n",
       "      <td>0.168636</td>\n",
       "      <td>0.721638</td>\n",
       "      <td>-0.001462</td>\n",
       "      <td>1.000000</td>\n",
       "      <td>0.434136</td>\n",
       "    </tr>\n",
       "    <tr>\n",
       "      <th>rpc</th>\n",
       "      <td>0.000379</td>\n",
       "      <td>0.298101</td>\n",
       "      <td>0.277451</td>\n",
       "      <td>0.434136</td>\n",
       "      <td>1.000000</td>\n",
       "    </tr>\n",
       "  </tbody>\n",
       "</table>\n",
       "</div>"
      ],
      "text/plain": [
       "                    Clicks  Conversions  log_prob_of_conv  log_of_revenue  \\\n",
       "Clicks            1.000000     0.442923         -0.533604        0.168636   \n",
       "Conversions       0.442923     1.000000         -0.072158        0.721638   \n",
       "log_prob_of_conv -0.533604    -0.072158          1.000000       -0.001462   \n",
       "log_of_revenue    0.168636     0.721638         -0.001462        1.000000   \n",
       "rpc               0.000379     0.298101          0.277451        0.434136   \n",
       "\n",
       "                       rpc  \n",
       "Clicks            0.000379  \n",
       "Conversions       0.298101  \n",
       "log_prob_of_conv  0.277451  \n",
       "log_of_revenue    0.434136  \n",
       "rpc               1.000000  "
      ]
     },
     "execution_count": 7,
     "metadata": {},
     "output_type": "execute_result"
    }
   ],
   "source": [
    "pdf.corr()"
   ]
  },
  {
   "cell_type": "code",
   "execution_count": 8,
   "metadata": {},
   "outputs": [
    {
     "data": {
      "text/html": [
       "<div>\n",
       "<style scoped>\n",
       "    .dataframe tbody tr th:only-of-type {\n",
       "        vertical-align: middle;\n",
       "    }\n",
       "\n",
       "    .dataframe tbody tr th {\n",
       "        vertical-align: top;\n",
       "    }\n",
       "\n",
       "    .dataframe thead th {\n",
       "        text-align: right;\n",
       "    }\n",
       "</style>\n",
       "<table border=\"1\" class=\"dataframe\">\n",
       "  <thead>\n",
       "    <tr style=\"text-align: right;\">\n",
       "      <th></th>\n",
       "      <th>Clicks</th>\n",
       "      <th>Conversions</th>\n",
       "      <th>log_prob_of_conv</th>\n",
       "      <th>log_of_revenue</th>\n",
       "      <th>rpc</th>\n",
       "    </tr>\n",
       "  </thead>\n",
       "  <tbody>\n",
       "    <tr>\n",
       "      <th>count</th>\n",
       "      <td>82782.000000</td>\n",
       "      <td>82782.000000</td>\n",
       "      <td>1671.000000</td>\n",
       "      <td>82782.000000</td>\n",
       "      <td>82782.000000</td>\n",
       "    </tr>\n",
       "    <tr>\n",
       "      <th>mean</th>\n",
       "      <td>3.407492</td>\n",
       "      <td>0.051352</td>\n",
       "      <td>-0.678073</td>\n",
       "      <td>0.172793</td>\n",
       "      <td>54.674856</td>\n",
       "    </tr>\n",
       "    <tr>\n",
       "      <th>std</th>\n",
       "      <td>6.664533</td>\n",
       "      <td>0.509258</td>\n",
       "      <td>0.971514</td>\n",
       "      <td>1.216376</td>\n",
       "      <td>975.829374</td>\n",
       "    </tr>\n",
       "    <tr>\n",
       "      <th>min</th>\n",
       "      <td>2.000000</td>\n",
       "      <td>0.000000</td>\n",
       "      <td>-5.087596</td>\n",
       "      <td>0.000000</td>\n",
       "      <td>0.000000</td>\n",
       "    </tr>\n",
       "    <tr>\n",
       "      <th>25%</th>\n",
       "      <td>2.000000</td>\n",
       "      <td>0.000000</td>\n",
       "      <td>-1.386294</td>\n",
       "      <td>0.000000</td>\n",
       "      <td>0.000000</td>\n",
       "    </tr>\n",
       "    <tr>\n",
       "      <th>50%</th>\n",
       "      <td>2.000000</td>\n",
       "      <td>0.000000</td>\n",
       "      <td>0.000000</td>\n",
       "      <td>0.000000</td>\n",
       "      <td>0.000000</td>\n",
       "    </tr>\n",
       "    <tr>\n",
       "      <th>75%</th>\n",
       "      <td>2.000000</td>\n",
       "      <td>0.000000</td>\n",
       "      <td>0.000000</td>\n",
       "      <td>0.000000</td>\n",
       "      <td>0.000000</td>\n",
       "    </tr>\n",
       "    <tr>\n",
       "      <th>max</th>\n",
       "      <td>549.000000</td>\n",
       "      <td>56.000000</td>\n",
       "      <td>1.386294</td>\n",
       "      <td>12.879032</td>\n",
       "      <td>196002.480000</td>\n",
       "    </tr>\n",
       "  </tbody>\n",
       "</table>\n",
       "</div>"
      ],
      "text/plain": [
       "             Clicks   Conversions  log_prob_of_conv  log_of_revenue  \\\n",
       "count  82782.000000  82782.000000       1671.000000    82782.000000   \n",
       "mean       3.407492      0.051352         -0.678073        0.172793   \n",
       "std        6.664533      0.509258          0.971514        1.216376   \n",
       "min        2.000000      0.000000         -5.087596        0.000000   \n",
       "25%        2.000000      0.000000         -1.386294        0.000000   \n",
       "50%        2.000000      0.000000          0.000000        0.000000   \n",
       "75%        2.000000      0.000000          0.000000        0.000000   \n",
       "max      549.000000     56.000000          1.386294       12.879032   \n",
       "\n",
       "                 rpc  \n",
       "count   82782.000000  \n",
       "mean       54.674856  \n",
       "std       975.829374  \n",
       "min         0.000000  \n",
       "25%         0.000000  \n",
       "50%         0.000000  \n",
       "75%         0.000000  \n",
       "max    196002.480000  "
      ]
     },
     "execution_count": 8,
     "metadata": {},
     "output_type": "execute_result"
    }
   ],
   "source": [
    "pdf.describe()"
   ]
  },
  {
   "cell_type": "code",
   "execution_count": 9,
   "metadata": {
    "scrolled": true
   },
   "outputs": [
    {
     "data": {
      "text/plain": [
       "<matplotlib.axes._subplots.AxesSubplot at 0x7f6a89a99b38>"
      ]
     },
     "execution_count": 9,
     "metadata": {},
     "output_type": "execute_result"
    }
   ],
   "source": [
    "pdf['rpc'].hist(bins=40)"
   ]
  },
  {
   "cell_type": "code",
   "execution_count": 10,
   "metadata": {},
   "outputs": [
    {
     "data": {
      "image/png": "[encoded data removed]",
      "text/plain": [
       "<matplotlib.figure.Figure at 0x7f6a89d7cd30>"
      ]
     },
     "metadata": {},
     "output_type": "display_data"
    }
   ],
   "source": [
    "import pandas as pd\n",
    "import matplotlib.pyplot as plt\n",
    "%matplotlib inline\n",
    "\n",
    "p = pd.plotting.scatter_matrix(pdf, figsize=(11, 8), marker='o',\n",
    "                        hist_kwds={'bins': 20}, s=60, alpha=.8)"
   ]
  },
  {
   "cell_type": "markdown",
   "metadata": {},
   "source": [
    "### Model probability of conversion\n",
    "\n",
    "TODO's:\n",
    "\n",
    " - explode and save spark data frame &#9989;\n",
    " - baseline model\n",
    " - maximum and minimum attainable accuracy\n",
    " - add weighting of classes as a parameter to be tunned"
   ]
  },
  {
   "cell_type": "markdown",
   "metadata": {},
   "source": [
    "#### Class balancing"
   ]
  },
  {
   "cell_type": "code",
   "execution_count": 11,
   "metadata": {},
   "outputs": [
    {
     "name": "stdout",
     "output_type": "stream",
     "text": [
      "Class percentage before weighting: Y==1: 1.38%, Y==0: 98.62%\n"
     ]
    }
   ],
   "source": [
    "tmp_0 = sdf_exp.filter(col('y')==0).agg(sum(col('n')).alias('n')).collect()[0].n\n",
    "tmp_1 = sdf_exp.filter(col('y')==1).agg(sum(col('n')).alias('n')).collect()[0].n\n",
    "p_0 = tmp_0 / (tmp_0 + tmp_1) * 100\n",
    "print('Class percentage before weighting: Y==1: {:2.2f}%, Y==0: {:2.2f}%'.format(100 - p_0, p_0))"
   ]
  },
  {
   "cell_type": "code",
   "execution_count": 12,
   "metadata": {},
   "outputs": [],
   "source": [
    "# class weights\n",
    "N = tmp_0 + tmp_1\n",
    "w_0 = N * .5 / tmp_0\n",
    "w_1 = N * .5 / tmp_1"
   ]
  },
  {
   "cell_type": "code",
   "execution_count": 13,
   "metadata": {},
   "outputs": [
    {
     "name": "stdout",
     "output_type": "stream",
     "text": [
      "Class percentage after balancing: Y==1: 50.00%, Y==0: 50.00%\n"
     ]
    }
   ],
   "source": [
    "from pyspark.sql.functions import when\n",
    "\n",
    "sdf_exp_w = sdf_exp \\\n",
    "            .withColumn('n', when(col('y') == 1, col('n') * w_1).otherwise(col('n') * w_0))\n",
    "    \n",
    "tmp_0 = sdf_exp_w.filter(col('y')==0).agg(sum(col('n')).alias('n')).collect()[0].n\n",
    "tmp_1 = sdf_exp_w.filter(col('y')==1).agg(sum(col('n')).alias('n')).collect()[0].n\n",
    "p_0 = tmp_0 / (tmp_0 + tmp_1) * 100\n",
    "print('Class percentage after balancing: Y==1: {:2.2f}%, Y==0: {:2.2f}%'.format(100 - p_0, p_0))"
   ]
  },
  {
   "cell_type": "markdown",
   "metadata": {},
   "source": [
    "#### Maximum attainable accuracy\n",
    "\n",
    "$$ \\frac{1}{C} \\sum_{n = 1}^N c_n * \\mathrm{max_y}\\{c(y) \\} $$\n",
    "\n",
    "where $c(y)$ is a number of click events that ended with state $y$."
   ]
  },
  {
   "cell_type": "code",
   "execution_count": 14,
   "metadata": {},
   "outputs": [
    {
     "name": "stdout",
     "output_type": "stream",
     "text": [
      "Maximum possible accuracy: 94.42%\n"
     ]
    }
   ],
   "source": [
    "from pyspark.sql.functions import when\n",
    "\n",
    "tmp = sdf_exp_w \\\n",
    "    .groupBy('Date', 'Keyword_ID', 'Match_type_ID') \\\n",
    "    .agg(*[sum('n').alias('Clicks'), sum(when(col('y')==1, col('n')).otherwise(0)).alias('Conversions')]) \\\n",
    "    .select('Conversions', 'Clicks') \\\n",
    "    .withColumn('score', when((col('Clicks') - col('Conversions')) > col('Conversions'), \n",
    "                              col('Clicks') - col('Conversions')).otherwise(col('Conversions'))) \\\n",
    "    .agg(sum(col('score')).alias('score'), sum(col('Clicks')).alias('Clicks')) \\\n",
    "    .collect()\n",
    "    \n",
    "print('Maximum possible accuracy: {:2.2f}%'.format(tmp[0].score / tmp[0].Clicks * 100) )"
   ]
  },
  {
   "cell_type": "markdown",
   "metadata": {},
   "source": [
    "#### Minimum attainable accuracy"
   ]
  },
  {
   "cell_type": "code",
   "execution_count": 15,
   "metadata": {},
   "outputs": [
    {
     "name": "stdout",
     "output_type": "stream",
     "text": [
      "Class majority accuracy: 50.00%\n"
     ]
    }
   ],
   "source": [
    "tmp = sdf_exp_w \\\n",
    "    .groupBy('Date', 'Keyword_ID', 'Match_type_ID') \\\n",
    "    .agg(*[sum('n').alias('Clicks'), sum(when(col('y')==1, col('n')).otherwise(0)).alias('Conversions')]) \\\n",
    "    .select('Conversions', 'Clicks') \\\n",
    "    .withColumn('score', col('Clicks') - col('Conversions')) \\\n",
    "    .agg(sum(col('score')).alias('score'), sum(col('Clicks')).alias('Clicks')) \\\n",
    "    .collect()\n",
    "    \n",
    "print('Class majority accuracy: {:2.2f}%'.format(tmp[0].score / tmp[0].Clicks * 100) )"
   ]
  },
  {
   "cell_type": "markdown",
   "metadata": {},
   "source": [
    "### Average probability of conversion over time"
   ]
  },
  {
   "cell_type": "code",
   "execution_count": 16,
   "metadata": {},
   "outputs": [],
   "source": [
    "tmp = sdf \\\n",
    "        .groupBy('Date') \\\n",
    "        .agg(*[sum(col('Conversions')).alias('Conversions'), \n",
    "           sum(col('Clicks')).alias('Clicks'), \n",
    "           sum(col('Revenue')).alias('Revenue')]) \\\n",
    "        .withColumn('log_prob_of_conv', log(col('Conversions') / col('Clicks'))) \\\n",
    "        .withColumn('prob_of_conv', col('Conversions') / col('Clicks')) \\\n",
    "        .withColumn('log_of_revenue', log(1 + col('Revenue'))) \\\n",
    "        .withColumn('rpc', log(col('Revenue') / col('Clicks'))) \\\n",
    "        .orderBy(col('Date').asc()) \\\n",
    "        .toPandas()"
   ]
  },
  {
   "cell_type": "code",
   "execution_count": 17,
   "metadata": {},
   "outputs": [
    {
     "name": "stderr",
     "output_type": "stream",
     "text": [
      "/home/ubuntu/.local/share/virtualenvs/ml-rpc-LO9Wo36E/lib/python3.5/site-packages/statsmodels/compat/pandas.py:56: FutureWarning: The pandas.core.datetools module is deprecated and will be removed in a future version. Please use the pandas.tseries module instead.\n",
      "  from pandas.core import datetools\n"
     ]
    },
    {
     "data": {
      "image/png": "[encoded data removed]",
      "text/plain": [
       "<matplotlib.figure.Figure at 0x7f6a716ea390>"
      ]
     },
     "metadata": {},
     "output_type": "display_data"
    },
    {
     "data": {
      "text/plain": [
       "<ggplot: (-9223363280908143058)>"
      ]
     },
     "execution_count": 17,
     "metadata": {},
     "output_type": "execute_result"
    }
   ],
   "source": [
    "from plotnine import ggplot, geom_line, aes, theme_bw\n",
    "import plotnine\n",
    "plotnine.options.figure_size = (11, 4)\n",
    "\n",
    "\n",
    "ggplot(aes(x='Date', y='prob_of_conv'), data=tmp) + geom_line() + theme_bw()"
   ]
  },
  {
   "cell_type": "markdown",
   "metadata": {},
   "source": [
    "### Baseline model for `P[Conversion]`: Logistic regression\n",
    "\n",
    "http://docs.h2o.ai/h2o/latest-stable/h2o-docs/booklets/GLMBooklet.pdf  \n",
    "http://docs.h2o.ai/h2o/latest-stable/h2o-docs/data-science/glm.html"
   ]
  },
  {
   "cell_type": "code",
   "execution_count": 18,
   "metadata": {},
   "outputs": [
    {
     "name": "stdout",
     "output_type": "stream",
     "text": [
      "Connecting to H2O server at http://172.31.41.12:54321... successful.\n"
     ]
    },
    {
     "data": {
      "text/html": [
       "<div style=\"overflow:auto\"><table style=\"width:50%\"><tr><td>H2O cluster uptime:</td>\n",
       "<td>05 secs</td></tr>\n",
       "<tr><td>H2O cluster version:</td>\n",
       "<td>3.16.0.2</td></tr>\n",
       "<tr><td>H2O cluster version age:</td>\n",
       "<td>26 days </td></tr>\n",
       "<tr><td>H2O cluster name:</td>\n",
       "<td>sparkling-water-ubuntu_local-1514380256064</td></tr>\n",
       "<tr><td>H2O cluster total nodes:</td>\n",
       "<td>1</td></tr>\n",
       "<tr><td>H2O cluster free memory:</td>\n",
       "<td>10.67 Gb</td></tr>\n",
       "<tr><td>H2O cluster total cores:</td>\n",
       "<td>4</td></tr>\n",
       "<tr><td>H2O cluster allowed cores:</td>\n",
       "<td>4</td></tr>\n",
       "<tr><td>H2O cluster status:</td>\n",
       "<td>accepting new members, healthy</td></tr>\n",
       "<tr><td>H2O connection url:</td>\n",
       "<td>http://172.31.41.12:54321</td></tr>\n",
       "<tr><td>H2O connection proxy:</td>\n",
       "<td>None</td></tr>\n",
       "<tr><td>H2O internal security:</td>\n",
       "<td>False</td></tr>\n",
       "<tr><td>H2O API Extensions:</td>\n",
       "<td>XGBoost, Algos, AutoML, Core V3, Core V4</td></tr>\n",
       "<tr><td>Python version:</td>\n",
       "<td>3.5.2 final</td></tr></table></div>"
      ],
      "text/plain": [
       "--------------------------  ------------------------------------------\n",
       "H2O cluster uptime:         05 secs\n",
       "H2O cluster version:        3.16.0.2\n",
       "H2O cluster version age:    26 days\n",
       "H2O cluster name:           sparkling-water-ubuntu_local-1514380256064\n",
       "H2O cluster total nodes:    1\n",
       "H2O cluster free memory:    10.67 Gb\n",
       "H2O cluster total cores:    4\n",
       "H2O cluster allowed cores:  4\n",
       "H2O cluster status:         accepting new members, healthy\n",
       "H2O connection url:         http://172.31.41.12:54321\n",
       "H2O connection proxy:\n",
       "H2O internal security:      False\n",
       "H2O API Extensions:         XGBoost, Algos, AutoML, Core V3, Core V4\n",
       "Python version:             3.5.2 final\n",
       "--------------------------  ------------------------------------------"
      ]
     },
     "metadata": {},
     "output_type": "display_data"
    },
    {
     "name": "stdout",
     "output_type": "stream",
     "text": [
      "\n",
      "Sparkling Water Context:\n",
      " * H2O name: sparkling-water-ubuntu_local-1514380256064\n",
      " * cluster size: 1\n",
      " * list of used nodes:\n",
      "  (executorId, host, port)\n",
      "  ------------------------\n",
      "  (driver,172.31.41.12,54321)\n",
      "  ------------------------\n",
      "\n",
      "  Open H2O Flow in browser: http://172.31.41.12:54321 (CMD + click in Mac OSX)\n",
      "\n",
      "    \n"
     ]
    }
   ],
   "source": [
    "import h2o\n",
    "from pysparkling import H2OContext\n",
    "hc = H2OContext.getOrCreate(spark)"
   ]
  },
  {
   "cell_type": "code",
   "execution_count": 19,
   "metadata": {},
   "outputs": [],
   "source": [
    "df = hc.as_h2o_frame(sdf_exp_w.sample(fraction=.1, seed=2014, withReplacement=False))"
   ]
  },
  {
   "cell_type": "code",
   "execution_count": 22,
   "metadata": {},
   "outputs": [
    {
     "data": {
      "text/html": [
       "<table>\n",
       "<thead>\n",
       "<tr><th>Date               </th><th style=\"text-align: right;\">   Keyword_ID</th><th style=\"text-align: right;\">  Ad_group_ID</th><th style=\"text-align: right;\">  Campaign_ID</th><th style=\"text-align: right;\">  Account_ID</th><th style=\"text-align: right;\">  Device_ID</th><th style=\"text-align: right;\">  Match_type_ID</th><th style=\"text-align: right;\">  Revenue</th><th style=\"text-align: right;\">  Clicks</th><th style=\"text-align: right;\">  Conversions</th><th style=\"text-align: right;\">      n</th><th style=\"text-align: right;\">  y</th><th style=\"text-align: right;\">  m</th></tr>\n",
       "</thead>\n",
       "<tbody>\n",
       "<tr><td>2015-02-14 00:00:00</td><td style=\"text-align: right;\"> 613188905043</td><td style=\"text-align: right;\">1039018244603</td><td style=\"text-align: right;\">  2.24921e+11</td><td style=\"text-align: right;\"> 8.66124e+11</td><td style=\"text-align: right;\">2.98644e+11</td><td style=\"text-align: right;\">    9.57255e+10</td><td style=\"text-align: right;\">        0</td><td style=\"text-align: right;\">      11</td><td style=\"text-align: right;\">            0</td><td style=\"text-align: right;\">5.57684</td><td style=\"text-align: right;\">  0</td><td style=\"text-align: right;\">  0</td></tr>\n",
       "<tr><td>2015-02-15 00:00:00</td><td style=\"text-align: right;\"> 651456920078</td><td style=\"text-align: right;\"> 599787098040</td><td style=\"text-align: right;\">  1.80781e+11</td><td style=\"text-align: right;\"> 2.1278e+11 </td><td style=\"text-align: right;\">8.4878e+11 </td><td style=\"text-align: right;\">    9.57255e+10</td><td style=\"text-align: right;\">        0</td><td style=\"text-align: right;\">       2</td><td style=\"text-align: right;\">            0</td><td style=\"text-align: right;\">1.01397</td><td style=\"text-align: right;\">  0</td><td style=\"text-align: right;\">  0</td></tr>\n",
       "<tr><td>2015-02-15 00:00:00</td><td style=\"text-align: right;\"> 436148050277</td><td style=\"text-align: right;\"> 544194608471</td><td style=\"text-align: right;\">  7.8505e+11 </td><td style=\"text-align: right;\"> 2.1278e+11 </td><td style=\"text-align: right;\">1.07772e+12</td><td style=\"text-align: right;\">    9.57255e+10</td><td style=\"text-align: right;\">        0</td><td style=\"text-align: right;\">       5</td><td style=\"text-align: right;\">            0</td><td style=\"text-align: right;\">2.53493</td><td style=\"text-align: right;\">  0</td><td style=\"text-align: right;\">  0</td></tr>\n",
       "<tr><td>2015-02-15 00:00:00</td><td style=\"text-align: right;\"> 531509950105</td><td style=\"text-align: right;\"> 383115386558</td><td style=\"text-align: right;\">  3.08618e+11</td><td style=\"text-align: right;\"> 1.51665e+11</td><td style=\"text-align: right;\">8.4878e+11 </td><td style=\"text-align: right;\">    9.57255e+10</td><td style=\"text-align: right;\">        0</td><td style=\"text-align: right;\">       8</td><td style=\"text-align: right;\">            0</td><td style=\"text-align: right;\">4.05588</td><td style=\"text-align: right;\">  0</td><td style=\"text-align: right;\">  0</td></tr>\n",
       "<tr><td>2015-02-15 00:00:00</td><td style=\"text-align: right;\"> 517753208066</td><td style=\"text-align: right;\"> 796281407100</td><td style=\"text-align: right;\">  9.19168e+11</td><td style=\"text-align: right;\"> 2.1278e+11 </td><td style=\"text-align: right;\">1.07772e+12</td><td style=\"text-align: right;\">    8.94414e+11</td><td style=\"text-align: right;\">        0</td><td style=\"text-align: right;\">       2</td><td style=\"text-align: right;\">            0</td><td style=\"text-align: right;\">1.01397</td><td style=\"text-align: right;\">  0</td><td style=\"text-align: right;\">  0</td></tr>\n",
       "<tr><td>2015-02-15 00:00:00</td><td style=\"text-align: right;\"> 193345433025</td><td style=\"text-align: right;\"> 459423427446</td><td style=\"text-align: right;\">  5.35589e+11</td><td style=\"text-align: right;\"> 6.5487e+11 </td><td style=\"text-align: right;\">1.07772e+12</td><td style=\"text-align: right;\">    9.57255e+10</td><td style=\"text-align: right;\">        0</td><td style=\"text-align: right;\">       5</td><td style=\"text-align: right;\">            0</td><td style=\"text-align: right;\">2.53493</td><td style=\"text-align: right;\">  0</td><td style=\"text-align: right;\">  0</td></tr>\n",
       "<tr><td>2015-02-15 00:00:00</td><td style=\"text-align: right;\">1040455937355</td><td style=\"text-align: right;\"> 674249907809</td><td style=\"text-align: right;\">  1.84219e+11</td><td style=\"text-align: right;\"> 2.21354e+11</td><td style=\"text-align: right;\">8.4878e+11 </td><td style=\"text-align: right;\">    8.94414e+11</td><td style=\"text-align: right;\">        0</td><td style=\"text-align: right;\">       2</td><td style=\"text-align: right;\">            0</td><td style=\"text-align: right;\">1.01397</td><td style=\"text-align: right;\">  0</td><td style=\"text-align: right;\">  0</td></tr>\n",
       "<tr><td>2015-02-15 00:00:00</td><td style=\"text-align: right;\"> 826047552533</td><td style=\"text-align: right;\"> 746720565219</td><td style=\"text-align: right;\">  5.5128e+11 </td><td style=\"text-align: right;\"> 2.1278e+11 </td><td style=\"text-align: right;\">8.4878e+11 </td><td style=\"text-align: right;\">    9.57255e+10</td><td style=\"text-align: right;\">        0</td><td style=\"text-align: right;\">       2</td><td style=\"text-align: right;\">            0</td><td style=\"text-align: right;\">1.01397</td><td style=\"text-align: right;\">  0</td><td style=\"text-align: right;\">  0</td></tr>\n",
       "<tr><td>2015-02-15 00:00:00</td><td style=\"text-align: right;\"> 676133823720</td><td style=\"text-align: right;\"> 873951396261</td><td style=\"text-align: right;\">  6.18753e+11</td><td style=\"text-align: right;\"> 2.1278e+11 </td><td style=\"text-align: right;\">8.4878e+11 </td><td style=\"text-align: right;\">    9.57255e+10</td><td style=\"text-align: right;\">        0</td><td style=\"text-align: right;\">       8</td><td style=\"text-align: right;\">            0</td><td style=\"text-align: right;\">4.05588</td><td style=\"text-align: right;\">  0</td><td style=\"text-align: right;\">  0</td></tr>\n",
       "<tr><td>2015-02-15 00:00:00</td><td style=\"text-align: right;\"> 823513706874</td><td style=\"text-align: right;\"> 374847310558</td><td style=\"text-align: right;\">  9.82714e+11</td><td style=\"text-align: right;\"> 8.61287e+11</td><td style=\"text-align: right;\">2.98644e+11</td><td style=\"text-align: right;\">    9.57255e+10</td><td style=\"text-align: right;\">        0</td><td style=\"text-align: right;\">       2</td><td style=\"text-align: right;\">            0</td><td style=\"text-align: right;\">1.01397</td><td style=\"text-align: right;\">  0</td><td style=\"text-align: right;\">  0</td></tr>\n",
       "</tbody>\n",
       "</table>"
      ]
     },
     "metadata": {},
     "output_type": "display_data"
    },
    {
     "data": {
      "text/plain": []
     },
     "execution_count": 22,
     "metadata": {},
     "output_type": "execute_result"
    }
   ],
   "source": [
    "df"
   ]
  },
  {
   "cell_type": "code",
   "execution_count": 37,
   "metadata": {
    "scrolled": false
   },
   "outputs": [],
   "source": [
    "df['Keyword_ID'] = df['Keyword_ID'].asfactor()\n",
    "df['Ad_group_ID'] = df['Ad_group_ID'].asfactor()\n",
    "df['Campaign_ID'] = df['Campaign_ID'].asfactor()\n",
    "df['Match_type_ID'] = df['Match_type_ID'].asfactor()"
   ]
  },
  {
   "cell_type": "code",
   "execution_count": 38,
   "metadata": {},
   "outputs": [
    {
     "data": {
      "text/plain": [
       "2358"
      ]
     },
     "execution_count": 38,
     "metadata": {},
     "output_type": "execute_result"
    }
   ],
   "source": [
    "tmp = df['Campaign_ID']\n",
    "len(tmp.categories())"
   ]
  },
  {
   "cell_type": "code",
   "execution_count": 98,
   "metadata": {},
   "outputs": [
    {
     "name": "stdout",
     "output_type": "stream",
     "text": [
      "glm Model Build progress: |███████████████████████████████████████████████| 100%\n"
     ]
    },
    {
     "name": "stderr",
     "output_type": "stream",
     "text": [
      "/home/ubuntu/.local/share/virtualenvs/ml-rpc-LO9Wo36E/lib/python3.5/site-packages/h2o/job.py:69: UserWarning: Reached maximum number of iterations 50!\n",
      "  warnings.warn(w)\n"
     ]
    }
   ],
   "source": [
    "from h2o.estimators.glm import H2OGeneralizedLinearEstimator\n",
    "\n",
    "predictors = ['Keyword_ID', 'Campaign_ID', 'Match_type_ID']\n",
    "# int_list = ['Campaign_ID', 'Match_type_ID']\n",
    "response = 'y'\n",
    "weights_col = 'n'\n",
    "\n",
    "glm_model = H2OGeneralizedLinearEstimator(family= \"binomial\", lambda_ = .0000000001, standardize = True ,alpha = 1.0)\n",
    "glm_model.train(predictors, response, training_frame=df, weights_column='n')"
   ]
  },
  {
   "cell_type": "code",
   "execution_count": 99,
   "metadata": {
    "scrolled": false
   },
   "outputs": [
    {
     "name": "stdout",
     "output_type": "stream",
     "text": [
      "Model Details\n",
      "=============\n",
      "H2OGeneralizedLinearEstimator :  Generalized Linear Modeling\n",
      "Model Key:  GLM_model_python_1514380425483_40\n",
      "\n",
      "\n",
      "ModelMetricsBinomialGLM: glm\n",
      "** Reported on train data. **\n",
      "\n",
      "MSE: 0.16919941332646565\n",
      "RMSE: 0.4113385628973603\n",
      "LogLoss: 0.5144361906632796\n",
      "Null degrees of freedom: 837122\n",
      "Residual degrees of freedom: 620423\n",
      "Null deviance: 3886788.6368275704\n",
      "Residual deviance: 2884681.079644884\n",
      "AIC: 3318081.079644884\n",
      "AUC: 0.8408406944780964\n",
      "Gini: 0.6816813889561928\n",
      "Confusion Matrix (Act/Pred) for max f1 @ threshold = 0.43639804451074704: \n"
     ]
    },
    {
     "data": {
      "text/html": [
       "<div style=\"overflow:auto\"><table style=\"width:50%\"><tr><td><b></b></td>\n",
       "<td><b>0</b></td>\n",
       "<td><b>1</b></td>\n",
       "<td><b>Error</b></td>\n",
       "<td><b>Rate</b></td></tr>\n",
       "<tr><td>0</td>\n",
       "<td>943158.0</td>\n",
       "<td>460987.0</td>\n",
       "<td>0.3283</td>\n",
       "<td> (460987.0/1404145.0)</td></tr>\n",
       "<tr><td>1</td>\n",
       "<td>189749.0</td>\n",
       "<td>1209835.0</td>\n",
       "<td>0.1356</td>\n",
       "<td> (189749.0/1399584.0)</td></tr>\n",
       "<tr><td>Total</td>\n",
       "<td>1132907.0</td>\n",
       "<td>1670822.0</td>\n",
       "<td>0.2321</td>\n",
       "<td> (650736.0/2803729.0)</td></tr></table></div>"
      ],
      "text/plain": [
       "       0            1            Error    Rate\n",
       "-----  -----------  -----------  -------  --------------------\n",
       "0      943158       460987       0.3283   (460987.0/1404145.0)\n",
       "1      189749       1.20984e+06  0.1356   (189749.0/1399584.0)\n",
       "Total  1.13291e+06  1.67082e+06  0.2321   (650736.0/2803729.0)"
      ]
     },
     "metadata": {},
     "output_type": "display_data"
    },
    {
     "name": "stdout",
     "output_type": "stream",
     "text": [
      "Maximum Metrics: Maximum metrics at their respective thresholds\n",
      "\n"
     ]
    },
    {
     "data": {
      "text/html": [
       "<div style=\"overflow:auto\"><table style=\"width:50%\"><tr><td><b>metric</b></td>\n",
       "<td><b>threshold</b></td>\n",
       "<td><b>value</b></td>\n",
       "<td><b>idx</b></td></tr>\n",
       "<tr><td>max f1</td>\n",
       "<td>0.4363980</td>\n",
       "<td>0.7880618</td>\n",
       "<td>214.0</td></tr>\n",
       "<tr><td>max f2</td>\n",
       "<td>0.3176808</td>\n",
       "<td>0.8687730</td>\n",
       "<td>277.0</td></tr>\n",
       "<tr><td>max f0point5</td>\n",
       "<td>0.5002283</td>\n",
       "<td>0.7685407</td>\n",
       "<td>181.0</td></tr>\n",
       "<tr><td>max accuracy</td>\n",
       "<td>0.4536893</td>\n",
       "<td>0.7717002</td>\n",
       "<td>205.0</td></tr>\n",
       "<tr><td>max precision</td>\n",
       "<td>0.9908529</td>\n",
       "<td>0.9827269</td>\n",
       "<td>0.0</td></tr>\n",
       "<tr><td>max recall</td>\n",
       "<td>0.0273226</td>\n",
       "<td>1.0</td>\n",
       "<td>395.0</td></tr>\n",
       "<tr><td>max specificity</td>\n",
       "<td>0.9908529</td>\n",
       "<td>0.9999859</td>\n",
       "<td>0.0</td></tr>\n",
       "<tr><td>max absolute_mcc</td>\n",
       "<td>0.4457613</td>\n",
       "<td>0.5490666</td>\n",
       "<td>209.0</td></tr>\n",
       "<tr><td>max min_per_class_accuracy</td>\n",
       "<td>0.4984316</td>\n",
       "<td>0.7682076</td>\n",
       "<td>182.0</td></tr>\n",
       "<tr><td>max mean_per_class_accuracy</td>\n",
       "<td>0.4536893</td>\n",
       "<td>0.7718136</td>\n",
       "<td>205.0</td></tr></table></div>"
      ],
      "text/plain": [
       "metric                       threshold    value     idx\n",
       "---------------------------  -----------  --------  -----\n",
       "max f1                       0.436398     0.788062  214\n",
       "max f2                       0.317681     0.868773  277\n",
       "max f0point5                 0.500228     0.768541  181\n",
       "max accuracy                 0.453689     0.7717    205\n",
       "max precision                0.990853     0.982727  0\n",
       "max recall                   0.0273226    1         395\n",
       "max specificity              0.990853     0.999986  0\n",
       "max absolute_mcc             0.445761     0.549067  209\n",
       "max min_per_class_accuracy   0.498432     0.768208  182\n",
       "max mean_per_class_accuracy  0.453689     0.771814  205"
      ]
     },
     "metadata": {},
     "output_type": "display_data"
    },
    {
     "name": "stdout",
     "output_type": "stream",
     "text": [
      "Gains/Lift Table: Avg response rate: 51.33 %\n",
      "\n"
     ]
    },
    {
     "data": {
      "text/html": [
       "<div style=\"overflow:auto\"><table style=\"width:50%\"><tr><td><b></b></td>\n",
       "<td><b>group</b></td>\n",
       "<td><b>cumulative_data_fraction</b></td>\n",
       "<td><b>lower_threshold</b></td>\n",
       "<td><b>lift</b></td>\n",
       "<td><b>cumulative_lift</b></td>\n",
       "<td><b>response_rate</b></td>\n",
       "<td><b>cumulative_response_rate</b></td>\n",
       "<td><b>capture_rate</b></td>\n",
       "<td><b>cumulative_capture_rate</b></td>\n",
       "<td><b>gain</b></td>\n",
       "<td><b>cumulative_gain</b></td></tr>\n",
       "<tr><td></td>\n",
       "<td>1</td>\n",
       "<td>0.0103422</td>\n",
       "<td>0.9233707</td>\n",
       "<td>1.7846686</td>\n",
       "<td>1.7846686</td>\n",
       "<td>0.9159856</td>\n",
       "<td>0.9159856</td>\n",
       "<td>0.0184574</td>\n",
       "<td>0.0184574</td>\n",
       "<td>78.4668626</td>\n",
       "<td>78.4668626</td></tr>\n",
       "<tr><td></td>\n",
       "<td>2</td>\n",
       "<td>0.0265559</td>\n",
       "<td>0.8974591</td>\n",
       "<td>1.7462753</td>\n",
       "<td>1.7612276</td>\n",
       "<td>0.8962801</td>\n",
       "<td>0.9039544</td>\n",
       "<td>0.0283136</td>\n",
       "<td>0.0467709</td>\n",
       "<td>74.6275292</td>\n",
       "<td>76.1227586</td></tr>\n",
       "<tr><td></td>\n",
       "<td>3</td>\n",
       "<td>0.0310096</td>\n",
       "<td>0.8912956</td>\n",
       "<td>1.7613707</td>\n",
       "<td>1.7612481</td>\n",
       "<td>0.9040278</td>\n",
       "<td>0.9039650</td>\n",
       "<td>0.0078447</td>\n",
       "<td>0.0546156</td>\n",
       "<td>76.1370668</td>\n",
       "<td>76.1248136</td></tr>\n",
       "<tr><td></td>\n",
       "<td>4</td>\n",
       "<td>0.0410159</td>\n",
       "<td>0.8872760</td>\n",
       "<td>1.7060807</td>\n",
       "<td>1.7477894</td>\n",
       "<td>0.8756502</td>\n",
       "<td>0.8970572</td>\n",
       "<td>0.0170716</td>\n",
       "<td>0.0716872</td>\n",
       "<td>70.6080737</td>\n",
       "<td>74.7789416</td></tr>\n",
       "<tr><td></td>\n",
       "<td>5</td>\n",
       "<td>0.0532070</td>\n",
       "<td>0.8801303</td>\n",
       "<td>1.7190604</td>\n",
       "<td>1.7412069</td>\n",
       "<td>0.8823120</td>\n",
       "<td>0.8936787</td>\n",
       "<td>0.0209572</td>\n",
       "<td>0.0926444</td>\n",
       "<td>71.9060362</td>\n",
       "<td>74.1206854</td></tr>\n",
       "<tr><td></td>\n",
       "<td>6</td>\n",
       "<td>0.1026235</td>\n",
       "<td>0.8319082</td>\n",
       "<td>1.7059037</td>\n",
       "<td>1.7242072</td>\n",
       "<td>0.8755593</td>\n",
       "<td>0.8849536</td>\n",
       "<td>0.0842999</td>\n",
       "<td>0.1769443</td>\n",
       "<td>70.5903672</td>\n",
       "<td>72.4207229</td></tr>\n",
       "<tr><td></td>\n",
       "<td>7</td>\n",
       "<td>0.1536757</td>\n",
       "<td>0.7671246</td>\n",
       "<td>1.6534215</td>\n",
       "<td>1.7006917</td>\n",
       "<td>0.8486227</td>\n",
       "<td>0.8728842</td>\n",
       "<td>0.0844106</td>\n",
       "<td>0.2613549</td>\n",
       "<td>65.3421480</td>\n",
       "<td>70.0691719</td></tr>\n",
       "<tr><td></td>\n",
       "<td>8</td>\n",
       "<td>0.2047484</td>\n",
       "<td>0.7169291</td>\n",
       "<td>1.6486124</td>\n",
       "<td>1.6877010</td>\n",
       "<td>0.8461544</td>\n",
       "<td>0.8662167</td>\n",
       "<td>0.0841992</td>\n",
       "<td>0.3455541</td>\n",
       "<td>64.8612429</td>\n",
       "<td>68.7700978</td></tr>\n",
       "<tr><td></td>\n",
       "<td>9</td>\n",
       "<td>0.3061358</td>\n",
       "<td>0.6356226</td>\n",
       "<td>1.5331840</td>\n",
       "<td>1.6365274</td>\n",
       "<td>0.7869105</td>\n",
       "<td>0.8399517</td>\n",
       "<td>0.1554455</td>\n",
       "<td>0.5009996</td>\n",
       "<td>53.3184031</td>\n",
       "<td>63.6527385</td></tr>\n",
       "<tr><td></td>\n",
       "<td>10</td>\n",
       "<td>0.4071689</td>\n",
       "<td>0.5668473</td>\n",
       "<td>1.3740187</td>\n",
       "<td>1.5713897</td>\n",
       "<td>0.7052185</td>\n",
       "<td>0.8065196</td>\n",
       "<td>0.1388213</td>\n",
       "<td>0.6398209</td>\n",
       "<td>37.4018734</td>\n",
       "<td>57.1389675</td></tr>\n",
       "<tr><td></td>\n",
       "<td>11</td>\n",
       "<td>0.5078468</td>\n",
       "<td>0.4966991</td>\n",
       "<td>1.2891816</td>\n",
       "<td>1.5154434</td>\n",
       "<td>0.6616756</td>\n",
       "<td>0.7778051</td>\n",
       "<td>0.1297922</td>\n",
       "<td>0.7696131</td>\n",
       "<td>28.9181592</td>\n",
       "<td>51.5443410</td></tr>\n",
       "<tr><td></td>\n",
       "<td>12</td>\n",
       "<td>0.6076765</td>\n",
       "<td>0.4334202</td>\n",
       "<td>0.9782136</td>\n",
       "<td>1.4271867</td>\n",
       "<td>0.5020706</td>\n",
       "<td>0.7325071</td>\n",
       "<td>0.0976548</td>\n",
       "<td>0.8672679</td>\n",
       "<td>-2.1786371</td>\n",
       "<td>42.7186747</td></tr>\n",
       "<tr><td></td>\n",
       "<td>13</td>\n",
       "<td>0.7064905</td>\n",
       "<td>0.3636670</td>\n",
       "<td>0.6556586</td>\n",
       "<td>1.3192763</td>\n",
       "<td>0.3365184</td>\n",
       "<td>0.6771218</td>\n",
       "<td>0.0647882</td>\n",
       "<td>0.9320561</td>\n",
       "<td>-34.4341355</td>\n",
       "<td>31.9276271</td></tr>\n",
       "<tr><td></td>\n",
       "<td>14</td>\n",
       "<td>0.8046625</td>\n",
       "<td>0.2843767</td>\n",
       "<td>0.4101218</td>\n",
       "<td>1.2083558</td>\n",
       "<td>0.2104960</td>\n",
       "<td>0.6201916</td>\n",
       "<td>0.0402625</td>\n",
       "<td>0.9723186</td>\n",
       "<td>-58.9878177</td>\n",
       "<td>20.8355796</td></tr>\n",
       "<tr><td></td>\n",
       "<td>15</td>\n",
       "<td>0.9024913</td>\n",
       "<td>0.1878186</td>\n",
       "<td>0.1953527</td>\n",
       "<td>1.0985477</td>\n",
       "<td>0.1002652</td>\n",
       "<td>0.5638323</td>\n",
       "<td>0.0191111</td>\n",
       "<td>0.9914297</td>\n",
       "<td>-80.4647319</td>\n",
       "<td>9.8547706</td></tr>\n",
       "<tr><td></td>\n",
       "<td>16</td>\n",
       "<td>1.0</td>\n",
       "<td>0.0036489</td>\n",
       "<td>0.0878926</td>\n",
       "<td>1.0</td>\n",
       "<td>0.0451111</td>\n",
       "<td>0.5132525</td>\n",
       "<td>0.0085703</td>\n",
       "<td>1.0</td>\n",
       "<td>-91.2107383</td>\n",
       "<td>0.0</td></tr></table></div>"
      ],
      "text/plain": [
       "    group    cumulative_data_fraction    lower_threshold    lift       cumulative_lift    response_rate    cumulative_response_rate    capture_rate    cumulative_capture_rate    gain      cumulative_gain\n",
       "--  -------  --------------------------  -----------------  ---------  -----------------  ---------------  --------------------------  --------------  -------------------------  --------  -----------------\n",
       "    1        0.0103422                   0.923371           1.78467    1.78467            0.915986         0.915986                    0.0184574       0.0184574                  78.4669   78.4669\n",
       "    2        0.0265559                   0.897459           1.74628    1.76123            0.89628          0.903954                    0.0283136       0.0467709                  74.6275   76.1228\n",
       "    3        0.0310096                   0.891296           1.76137    1.76125            0.904028         0.903965                    0.00784466      0.0546156                  76.1371   76.1248\n",
       "    4        0.0410159                   0.887276           1.70608    1.74779            0.87565          0.897057                    0.0170716       0.0716872                  70.6081   74.7789\n",
       "    5        0.053207                    0.88013            1.71906    1.74121            0.882312         0.893679                    0.0209572       0.0926444                  71.906    74.1207\n",
       "    6        0.102624                    0.831908           1.7059     1.72421            0.875559         0.884954                    0.0842999       0.176944                   70.5904   72.4207\n",
       "    7        0.153676                    0.767125           1.65342    1.70069            0.848623         0.872884                    0.0844106       0.261355                   65.3421   70.0692\n",
       "    8        0.204748                    0.716929           1.64861    1.6877             0.846154         0.866217                    0.0841992       0.345554                   64.8612   68.7701\n",
       "    9        0.306136                    0.635623           1.53318    1.63653            0.78691          0.839952                    0.155446        0.501                      53.3184   63.6527\n",
       "    10       0.407169                    0.566847           1.37402    1.57139            0.705219         0.80652                     0.138821        0.639821                   37.4019   57.139\n",
       "    11       0.507847                    0.496699           1.28918    1.51544            0.661676         0.777805                    0.129792        0.769613                   28.9182   51.5443\n",
       "    12       0.607677                    0.43342            0.978214   1.42719            0.502071         0.732507                    0.0976548       0.867268                   -2.17864  42.7187\n",
       "    13       0.70649                     0.363667           0.655659   1.31928            0.336518         0.677122                    0.0647882       0.932056                   -34.4341  31.9276\n",
       "    14       0.804662                    0.284377           0.410122   1.20836            0.210496         0.620192                    0.0402625       0.972319                   -58.9878  20.8356\n",
       "    15       0.902491                    0.187819           0.195353   1.09855            0.100265         0.563832                    0.0191111       0.99143                    -80.4647  9.85477\n",
       "    16       1                           0.00364888         0.0878926  1                  0.0451111        0.513252                    0.0085703       1                          -91.2107  0"
      ]
     },
     "metadata": {},
     "output_type": "display_data"
    },
    {
     "name": "stdout",
     "output_type": "stream",
     "text": [
      "\n",
      "Scoring History: \n"
     ]
    },
    {
     "data": {
      "text/html": [
       "<div style=\"overflow:auto\"><table style=\"width:50%\"><tr><td><b></b></td>\n",
       "<td><b>timestamp</b></td>\n",
       "<td><b>duration</b></td>\n",
       "<td><b>iterations</b></td>\n",
       "<td><b>negative_log_likelihood</b></td>\n",
       "<td><b>objective</b></td></tr>\n",
       "<tr><td></td>\n",
       "<td>2017-12-27 13:52:59</td>\n",
       "<td> 0.000 sec</td>\n",
       "<td>0</td>\n",
       "<td>1943394.3184138</td>\n",
       "<td>0.6931459</td></tr>\n",
       "<tr><td></td>\n",
       "<td>2017-12-27 13:53:00</td>\n",
       "<td> 0.655 sec</td>\n",
       "<td>1</td>\n",
       "<td>1908584.3532165</td>\n",
       "<td>0.6807303</td></tr>\n",
       "<tr><td></td>\n",
       "<td>2017-12-27 13:53:00</td>\n",
       "<td> 0.879 sec</td>\n",
       "<td>2</td>\n",
       "<td>1898466.9275342</td>\n",
       "<td>0.6771217</td></tr>\n",
       "<tr><td></td>\n",
       "<td>2017-12-27 13:53:00</td>\n",
       "<td> 1.031 sec</td>\n",
       "<td>3</td>\n",
       "<td>1841386.5368891</td>\n",
       "<td>0.6567630</td></tr>\n",
       "<tr><td></td>\n",
       "<td>2017-12-27 13:53:00</td>\n",
       "<td> 1.169 sec</td>\n",
       "<td>4</td>\n",
       "<td>1823875.0006360</td>\n",
       "<td>0.6505172</td></tr>\n",
       "<tr><td>---</td>\n",
       "<td>---</td>\n",
       "<td>---</td>\n",
       "<td>---</td>\n",
       "<td>---</td>\n",
       "<td>---</td></tr>\n",
       "<tr><td></td>\n",
       "<td>2017-12-27 13:53:06</td>\n",
       "<td> 7.216 sec</td>\n",
       "<td>46</td>\n",
       "<td>1446534.1846430</td>\n",
       "<td>0.5159327</td></tr>\n",
       "<tr><td></td>\n",
       "<td>2017-12-27 13:53:06</td>\n",
       "<td> 7.364 sec</td>\n",
       "<td>47</td>\n",
       "<td>1448681.7950776</td>\n",
       "<td>0.5166987</td></tr>\n",
       "<tr><td></td>\n",
       "<td>2017-12-27 13:53:07</td>\n",
       "<td> 7.491 sec</td>\n",
       "<td>48</td>\n",
       "<td>1449046.8475006</td>\n",
       "<td>0.5168289</td></tr>\n",
       "<tr><td></td>\n",
       "<td>2017-12-27 13:53:07</td>\n",
       "<td> 7.632 sec</td>\n",
       "<td>49</td>\n",
       "<td>1447036.3825581</td>\n",
       "<td>0.5161118</td></tr>\n",
       "<tr><td></td>\n",
       "<td>2017-12-27 13:53:07</td>\n",
       "<td> 7.780 sec</td>\n",
       "<td>50</td>\n",
       "<td>1442340.5398224</td>\n",
       "<td>0.5144369</td></tr></table></div>"
      ],
      "text/plain": [
       "     timestamp            duration    iterations    negative_log_likelihood    objective\n",
       "---  -------------------  ----------  ------------  -------------------------  ------------------\n",
       "     2017-12-27 13:52:59  0.000 sec   0             1943394.3184137852         0.6931458573885206\n",
       "     2017-12-27 13:53:00  0.655 sec   1             1908584.3532165375         0.6807302699858183\n",
       "     2017-12-27 13:53:00  0.879 sec   2             1898466.9275341537         0.6771217120888833\n",
       "     2017-12-27 13:53:00  1.031 sec   3             1841386.5368891365         0.6567629898776065\n",
       "     2017-12-27 13:53:00  1.169 sec   4             1823875.0006359937         0.6505171951383276\n",
       "---  ---                  ---         ---           ---                        ---\n",
       "     2017-12-27 13:53:06  7.216 sec   46            1446534.184643019          0.5159326917844341\n",
       "     2017-12-27 13:53:06  7.364 sec   47            1448681.7950775623         0.5166986581586172\n",
       "     2017-12-27 13:53:07  7.491 sec   48            1449046.847500646          0.5168288507104124\n",
       "     2017-12-27 13:53:07  7.632 sec   49            1447036.3825580627         0.5161117868407878\n",
       "     2017-12-27 13:53:07  7.780 sec   50            1442340.539822442          0.5144369429397593"
      ]
     },
     "metadata": {},
     "output_type": "display_data"
    },
    {
     "name": "stdout",
     "output_type": "stream",
     "text": [
      "\n",
      "See the whole table with table.as_data_frame()\n"
     ]
    },
    {
     "data": {
      "text/plain": []
     },
     "execution_count": 99,
     "metadata": {},
     "output_type": "execute_result"
    }
   ],
   "source": [
    "glm_model"
   ]
  },
  {
   "cell_type": "code",
   "execution_count": null,
   "metadata": {},
   "outputs": [],
   "source": [
    "glm_model.std_coef_plot(nu)"
   ]
  },
  {
   "cell_type": "code",
   "execution_count": null,
   "metadata": {},
   "outputs": [],
   "source": []
  }
 ],
 "metadata": {
  "kernelspec": {
   "display_name": "Python 3",
   "language": "python",
   "name": "python3"
  },
  "language_info": {
   "codemirror_mode": {
    "name": "ipython",
    "version": 3
   },
   "file_extension": ".py",
   "mimetype": "text/x-python",
   "name": "python",
   "nbconvert_exporter": "python",
   "pygments_lexer": "ipython3",
   "version": "3.5.2"
  }
 },
 "nbformat": 4,
 "nbformat_minor": 2
}
