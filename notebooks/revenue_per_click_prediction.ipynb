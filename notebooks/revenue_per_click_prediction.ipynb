{
 "cells": [
  {
   "cell_type": "markdown",
   "metadata": {},
   "source": [
    "## Prediction of Revenue Per Click"
   ]
  },
  {
   "cell_type": "code",
   "execution_count": 131,
   "metadata": {},
   "outputs": [
    {
     "data": {
      "text/plain": [
       "Ellipsis"
      ]
     },
     "execution_count": 131,
     "metadata": {},
     "output_type": "execute_result"
    }
   ],
   "source": [
    "# user settings\n",
    "min_clicks_per_keyword = 100\n",
    "pval_keyword = .01\n",
    "...\n"
   ]
  },
  {
   "cell_type": "markdown",
   "metadata": {},
   "source": [
    "### Architecture details:"
   ]
  },
  {
   "cell_type": "markdown",
   "metadata": {},
   "source": [
    "![alt text](https://i0.wp.com/blog.h2o.ai/wp-content/uploads/2017/04/hdi-image5.jpg?resize=700%2C394)"
   ]
  },
  {
   "cell_type": "markdown",
   "metadata": {
    "scrolled": false
   },
   "source": [
    "As a master node we are using AWS `t2.x2large` instance with following specs:"
   ]
  },
  {
   "cell_type": "code",
   "execution_count": 78,
   "metadata": {},
   "outputs": [
    {
     "name": "stdout",
     "output_type": "stream",
     "text": [
      "H/W path    Device  Class      Description\n",
      "==========================================\n",
      "                    system     HVM domU\n",
      "/0                  bus        Motherboard\n",
      "/0/0                memory     96KiB BIOS\n",
      "/0/401              processor  Intel(R) Xeon(R) CPU E5-2676 v3 @ 2.40GHz\n",
      "/0/402              processor  CPU\n",
      "/0/403              processor  CPU\n",
      "/0/404              processor  CPU\n",
      "/0/405              processor  CPU\n",
      "/0/406              processor  CPU\n",
      "/0/407              processor  CPU\n",
      "/0/408              processor  CPU\n",
      "/0/1000             memory     32GiB System Memory\n",
      "/0/1000/0           memory     16GiB DIMM RAM\n",
      "/0/1000/1           memory     16GiB DIMM RAM\n",
      "/0/100              bridge     440FX - 82441FX PMC [Natoma]\n",
      "/0/100/1            bridge     82371SB PIIX3 ISA [Natoma/Triton II]\n",
      "/0/100/1.1          storage    82371SB PIIX3 IDE [Natoma/Triton II]\n",
      "/0/100/1.3          bridge     82371AB/EB/MB PIIX4 ACPI\n",
      "/0/100/2            display    GD 5446\n",
      "/0/100/3            generic    Xen Platform Device\n",
      "/1          eth0    network    Ethernet interface\n"
     ]
    }
   ],
   "source": [
    "!sudo lshw -short"
   ]
  },
  {
   "cell_type": "markdown",
   "metadata": {},
   "source": [
    "### Data acquisition and ETL"
   ]
  },
  {
   "cell_type": "code",
   "execution_count": 5,
   "metadata": {},
   "outputs": [
    {
     "data": {
      "text/plain": [
       "8285423"
      ]
     },
     "execution_count": 5,
     "metadata": {},
     "output_type": "execute_result"
    }
   ],
   "source": [
    "# move tables from s3 to local sql warehouse\n",
    "# spark.read.csv(\"s3n://jakubs-bucket/\", header=True, inferSchema=True)\n",
    "sdf_train = spark.read.csv(\"s3n://jakubs-bucket/rpc/train.csv\", header=True, inferSchema=True)\n",
    "sdf_train.persist()\n",
    "sdf_train.count()"
   ]
  },
  {
   "cell_type": "code",
   "execution_count": 6,
   "metadata": {
    "scrolled": false
   },
   "outputs": [],
   "source": [
    "# spark.sql(\"drop table rpc.train\")\n",
    "# spark.sql('create database rpc');\n",
    "sdf_train.write.saveAsTable('rpc.train')"
   ]
  },
  {
   "cell_type": "markdown",
   "metadata": {},
   "source": [
    "#### Recover weighted binary response set\n",
    "\n",
    "Since we want to model probability of success (conversion) and revenue seperately we need to recover original event dataset. Since h2o models can handle case weights natively we only need to recreate events groups that ended with conversion and without along with their counts and genereated revenue. "
   ]
  },
  {
   "cell_type": "code",
   "execution_count": 15,
   "metadata": {},
   "outputs": [
    {
     "data": {
      "text/plain": [
       "0.03451276639078672"
      ]
     },
     "execution_count": 15,
     "metadata": {},
     "output_type": "execute_result"
    }
   ],
   "source": [
    "# more conversions than clicks (information about detailed user path is lost in this aggregated dataset)\n",
    "from pyspark.sql.functions import col\n",
    "\n",
    "sdf.select('Conversions', 'Clicks').filter(col('Conversions') > col('Clicks')).count() /  \\\n",
    "    sdf.filter(col('Conversions') > 0).count()"
   ]
  },
  {
   "cell_type": "code",
   "execution_count": 16,
   "metadata": {},
   "outputs": [],
   "source": [
    "# sdf.select('Date', 'Clicks', 'Conversions', 'Revenue').show(5)\n",
    "\n",
    "from pyspark.sql.functions import udf\n",
    "from pyspark.sql.types import ArrayType, StringType, IntegerType, DoubleType, StructType, StructField, Row\n",
    "\n",
    "# ?udf\n",
    "\n",
    "@udf(returnType=ArrayType(\n",
    "        StructType([\n",
    "            StructField('n', IntegerType(), False),\n",
    "            StructField('y', IntegerType(), False),\n",
    "            StructField('m', DoubleType(), False),\n",
    "        ])))\n",
    "def expand(clicks, conversions, revenue):\n",
    "    \n",
    "    if (conversions > clicks):\n",
    "        conversions = clicks\n",
    "\n",
    "    row0 = Row(n = clicks - conversions, y = 0, m = 0.0)\n",
    "    if ((conversions > 0) & (conversions < clicks)):\n",
    "            row1 = Row(n = conversions, y = 1, m = revenue / conversions)\n",
    "            res = [row0, row1]\n",
    "    elif ((conversions > 0) & (conversions == clicks)):\n",
    "            row1 = Row(n = conversions, y = 1, m = revenue / conversions)\n",
    "            res = [row1]\n",
    "    else:\n",
    "            res = [row0]\n",
    "    return res\n",
    "\n"
   ]
  },
  {
   "cell_type": "code",
   "execution_count": 17,
   "metadata": {},
   "outputs": [
    {
     "name": "stdout",
     "output_type": "stream",
     "text": [
      "root\n",
      " |-- Date: timestamp (nullable = true)\n",
      " |-- Keyword_ID: long (nullable = true)\n",
      " |-- Ad_group_ID: long (nullable = true)\n",
      " |-- Campaign_ID: long (nullable = true)\n",
      " |-- Account_ID: long (nullable = true)\n",
      " |-- Device_ID: long (nullable = true)\n",
      " |-- Match_type_ID: long (nullable = true)\n",
      " |-- Revenue: double (nullable = true)\n",
      " |-- Clicks: integer (nullable = true)\n",
      " |-- Conversions: integer (nullable = true)\n",
      " |-- n: integer (nullable = true)\n",
      " |-- y: integer (nullable = true)\n",
      " |-- m: double (nullable = true)\n",
      "\n"
     ]
    }
   ],
   "source": [
    "from pyspark.sql.functions import explode\n",
    "\n",
    "sdf_exp = sdf \\\n",
    "    .withColumn('test', explode(expand(col('Clicks'), col('Conversions'), col('Revenue')))) \\\n",
    "    .withColumn('n', col('test.n')) \\\n",
    "    .withColumn('y', col('test.y')) \\\n",
    "    .withColumn('m', col('test.m')) \\\n",
    "    .drop('test')\n",
    "    \n",
    "sdf_exp.printSchema()"
   ]
  },
  {
   "cell_type": "code",
   "execution_count": 79,
   "metadata": {},
   "outputs": [
    {
     "name": "stdout",
     "output_type": "stream",
     "text": [
      "+------+-----------+-------+---+\n",
      "|Clicks|Conversions|Revenue|  n|\n",
      "+------+-----------+-------+---+\n",
      "+------+-----------+-------+---+\n",
      "\n"
     ]
    }
   ],
   "source": [
    "sdf_exp.select('Clicks','Conversions', 'Revenue', 'n').filter(col('n') == 0).show()"
   ]
  },
  {
   "cell_type": "code",
   "execution_count": 19,
   "metadata": {},
   "outputs": [],
   "source": [
    "spark.sql(\"drop table if exists rpc.train_exp\")\n",
    "sdf_exp.write.saveAsTable('rpc.train_exp')"
   ]
  },
  {
   "cell_type": "markdown",
   "metadata": {},
   "source": [
    "### Task description:"
   ]
  },
  {
   "cell_type": "markdown",
   "metadata": {},
   "source": [
    "#### Advertiser programatic bidding:\n",
    "\n",
    " - The advertiser can set a price for each keyword/match type combination. \n",
    " - She can even refine her price setting by taking the device (computer, mobile, ...) into account. \n",
    " - She is furthermore free to update the prices whenever she wants. \n",
    "\n",
    "The set price mainly determines if her advertisement is shown to the user instead of a competitor’s one. Although the price decides on if the advertisement is shown, the advertiser only has to pay if the user clicks on the advertisement. A click redirects the user to the advertiser’s website offering him products that match what she was searching for. All the money the particular user spends in the next days on the advertiser’s website is attributed to the click, i.e. it is assumed that all the revenue the user generated with her conversions (=bookings, orders) after clicking on the advertisement was triggered by the advertisement.\n",
    "\n",
    "#### Keyword taxonomy:\n",
    "\n",
    "An online platform such as GetYourGuide provides easily thousands of products. Each product can have several relevant keywords such that the number of managed keywords is immense. Therefore, a hierarchy helps to categorize keywords:\n",
    "\n",
    " - **Keywords** belonging to the same product **are collected in an ad group**. \n",
    " - Several ad groups can contain the same keyword, the combination of keyword and ad group is then again unique. \n",
    " - **Ad groups** with a similar scope are bundled **in a campaign**. \n",
    " - **Campaigns** for a common target audience are collected **in the same account**.\n",
    "\n",
    "#### The question:\n",
    "\n",
    "A crucial question to answer when pricing the keywords is how much revenue one can expect from a click. In other words, what is the expected Revenue per Click (RPC). Answering this question is your task in this test."
   ]
  },
  {
   "cell_type": "markdown",
   "metadata": {},
   "source": [
    "#### Evaluation metrics:\n",
    "\n",
    "Click weighted squared distance:"
   ]
  },
  {
   "cell_type": "markdown",
   "metadata": {},
   "source": [
    "$$ cost = \\frac{1}{C} \\sum_{i=1}^{N} \\left[ c_n(r_n - \\hat{r_n})^2 \\right] $$"
   ]
  },
  {
   "cell_type": "markdown",
   "metadata": {},
   "source": [
    "This means that we can drop all rows from dataset where number of click was zero..."
   ]
  },
  {
   "cell_type": "markdown",
   "metadata": {},
   "source": [
    "### Data exploration\n",
    "\n",
    "Tables were previously migrated from S3 bucket to the local spark metastore to speed up accessibility:"
   ]
  },
  {
   "cell_type": "code",
   "execution_count": 2,
   "metadata": {
    "scrolled": true
   },
   "outputs": [],
   "source": [
    "from pyspark.sql import SparkSession\n",
    "spark = SparkSession \\\n",
    "        .builder \\\n",
    "        .appName('Jupyter') \\\n",
    "        .getOrCreate()"
   ]
  },
  {
   "cell_type": "code",
   "execution_count": 3,
   "metadata": {},
   "outputs": [
    {
     "data": {
      "text/html": [
       "\n",
       "            <div>\n",
       "                <p><b>SparkSession - hive</b></p>\n",
       "                \n",
       "        <div>\n",
       "            <p><b>SparkContext</b></p>\n",
       "\n",
       "            <p><a href=\"http://172.31.46.219:4040\">Spark UI</a></p>\n",
       "\n",
       "            <dl>\n",
       "              <dt>Version</dt>\n",
       "                <dd><code>v2.2.0</code></dd>\n",
       "              <dt>Master</dt>\n",
       "                <dd><code>local[8]</code></dd>\n",
       "              <dt>AppName</dt>\n",
       "                <dd><code>PySparkShell</code></dd>\n",
       "            </dl>\n",
       "        </div>\n",
       "        \n",
       "            </div>\n",
       "        "
      ],
      "text/plain": [
       "<pyspark.sql.session.SparkSession at 0x7fed0890e2b0>"
      ]
     },
     "execution_count": 3,
     "metadata": {},
     "output_type": "execute_result"
    }
   ],
   "source": [
    "spark"
   ]
  },
  {
   "cell_type": "code",
   "execution_count": 4,
   "metadata": {},
   "outputs": [
    {
     "name": "stdout",
     "output_type": "stream",
     "text": [
      "\u001b[01;34m/home/ubuntu/spark-warehouse/\u001b[00m\r\n",
      "└── \u001b[01;34mrpc.db\u001b[00m\r\n",
      "    ├── \u001b[01;34mtrain\u001b[00m\r\n",
      "    │   ├── part-00000-8605fd82-a644-472a-baf9-34511d5143bc-c000.snappy.parquet\r\n",
      "    │   ├── part-00001-8605fd82-a644-472a-baf9-34511d5143bc-c000.snappy.parquet\r\n",
      "    │   ├── part-00002-8605fd82-a644-472a-baf9-34511d5143bc-c000.snappy.parquet\r\n",
      "    │   ├── part-00003-8605fd82-a644-472a-baf9-34511d5143bc-c000.snappy.parquet\r\n",
      "    │   ├── part-00004-8605fd82-a644-472a-baf9-34511d5143bc-c000.snappy.parquet\r\n",
      "    │   ├── part-00005-8605fd82-a644-472a-baf9-34511d5143bc-c000.snappy.parquet\r\n",
      "    │   ├── part-00006-8605fd82-a644-472a-baf9-34511d5143bc-c000.snappy.parquet\r\n",
      "    │   ├── part-00007-8605fd82-a644-472a-baf9-34511d5143bc-c000.snappy.parquet\r\n",
      "    │   └── _SUCCESS\r\n",
      "    └── \u001b[01;34mtrain_exp\u001b[00m\r\n",
      "        ├── part-00000-fce9b096-f3d3-4b2a-a79e-e6c62953810f-c000.snappy.parquet\r\n",
      "        ├── part-00001-fce9b096-f3d3-4b2a-a79e-e6c62953810f-c000.snappy.parquet\r\n",
      "        ├── part-00002-fce9b096-f3d3-4b2a-a79e-e6c62953810f-c000.snappy.parquet\r\n",
      "        ├── part-00003-fce9b096-f3d3-4b2a-a79e-e6c62953810f-c000.snappy.parquet\r\n",
      "        ├── part-00004-fce9b096-f3d3-4b2a-a79e-e6c62953810f-c000.snappy.parquet\r\n",
      "        ├── part-00005-fce9b096-f3d3-4b2a-a79e-e6c62953810f-c000.snappy.parquet\r\n",
      "        ├── part-00006-fce9b096-f3d3-4b2a-a79e-e6c62953810f-c000.snappy.parquet\r\n",
      "        ├── part-00007-fce9b096-f3d3-4b2a-a79e-e6c62953810f-c000.snappy.parquet\r\n",
      "        └── _SUCCESS\r\n",
      "\r\n",
      "3 directories, 18 files\r\n"
     ]
    }
   ],
   "source": [
    "!tree /home/ubuntu/spark-warehouse/"
   ]
  },
  {
   "cell_type": "code",
   "execution_count": 5,
   "metadata": {},
   "outputs": [
    {
     "name": "stdout",
     "output_type": "stream",
     "text": [
      "Filesystem     1K-blocks    Used Available Use% Mounted on\r\n",
      "udev            16465320       0  16465320   0% /dev\r\n",
      "tmpfs            3294660    8784   3285876   1% /run\r\n",
      "/dev/xvda1       8065444 4217840   3831220  53% /\r\n",
      "tmpfs           16473284       0  16473284   0% /dev/shm\r\n",
      "tmpfs               5120       0      5120   0% /run/lock\r\n",
      "tmpfs           16473284       0  16473284   0% /sys/fs/cgroup\r\n",
      "tmpfs            3294660      12   3294648   1% /run/user/1000\r\n"
     ]
    }
   ],
   "source": [
    "!df"
   ]
  },
  {
   "cell_type": "code",
   "execution_count": 6,
   "metadata": {},
   "outputs": [
    {
     "name": "stdout",
     "output_type": "stream",
     "text": [
      "root\n",
      " |-- Date: timestamp (nullable = true)\n",
      " |-- Keyword_ID: long (nullable = true)\n",
      " |-- Ad_group_ID: long (nullable = true)\n",
      " |-- Campaign_ID: long (nullable = true)\n",
      " |-- Account_ID: long (nullable = true)\n",
      " |-- Device_ID: long (nullable = true)\n",
      " |-- Match_type_ID: long (nullable = true)\n",
      " |-- Revenue: double (nullable = true)\n",
      " |-- Clicks: integer (nullable = true)\n",
      " |-- Conversions: integer (nullable = true)\n",
      "\n"
     ]
    },
    {
     "data": {
      "text/plain": [
       "8285423"
      ]
     },
     "execution_count": 6,
     "metadata": {},
     "output_type": "execute_result"
    }
   ],
   "source": [
    "sdf = spark.sql(\"select * from rpc.train\")\n",
    "sdf.printSchema()\n",
    "sdf.persist()\n",
    "sdf.count()"
   ]
  },
  {
   "cell_type": "code",
   "execution_count": 7,
   "metadata": {},
   "outputs": [
    {
     "name": "stdout",
     "output_type": "stream",
     "text": [
      "root\n",
      " |-- Date: timestamp (nullable = true)\n",
      " |-- Keyword_ID: long (nullable = true)\n",
      " |-- Ad_group_ID: long (nullable = true)\n",
      " |-- Campaign_ID: long (nullable = true)\n",
      " |-- Account_ID: long (nullable = true)\n",
      " |-- Device_ID: long (nullable = true)\n",
      " |-- Match_type_ID: long (nullable = true)\n",
      " |-- Revenue: double (nullable = true)\n",
      " |-- Clicks: integer (nullable = true)\n",
      " |-- Conversions: integer (nullable = true)\n",
      " |-- n: integer (nullable = true)\n",
      " |-- y: integer (nullable = true)\n",
      " |-- m: double (nullable = true)\n",
      "\n"
     ]
    },
    {
     "data": {
      "text/plain": [
       "8362990"
      ]
     },
     "execution_count": 7,
     "metadata": {},
     "output_type": "execute_result"
    }
   ],
   "source": [
    "sdf_exp = spark.sql(\"select * from rpc.train_exp\")\n",
    "sdf_exp.printSchema()\n",
    "sdf_exp.persist()\n",
    "sdf_exp.count()"
   ]
  },
  {
   "cell_type": "markdown",
   "metadata": {},
   "source": [
    "### Target variable\n",
    "\n",
    "Hypotheses:\n",
    "\n",
    " - we can aggregate data over time, i.e. probability of Conversion is conditionaly independent of time\n",
    " - Revenue is conidtionaly-independent from probability of conversion &#9989;\n",
    " - Revenue does not depend on time?\n",
    "\n",
    "where conditionality is on search keywords.\n",
    "\n",
    " - target variable is an compound distribution where we need to model conversion at all and conditionally respective revenue\n",
    " - probably we will just use glm model for that here with possibility of extending with tensorflow and rf for revenue\n",
    " - and normal rf as a baseline\n",
    " \n",
    " \n",
    " - we need to explode here !!!"
   ]
  },
  {
   "cell_type": "markdown",
   "metadata": {},
   "source": [
    "### Target variables relationship:"
   ]
  },
  {
   "cell_type": "code",
   "execution_count": 8,
   "metadata": {},
   "outputs": [],
   "source": [
    "from pyspark.sql.functions import col, log, sum\n",
    "pdf = sdf \\\n",
    "        .withColumn('log_prob_of_conv', log(col('Conversions') / col('Clicks'))) \\\n",
    "        .withColumn('prob_of_conv', col('Conversions') / col('Clicks')) \\\n",
    "        .withColumn('log_of_revenue', log(1 + col('Revenue'))) \\\n",
    "        .withColumn('rpc', (col('Revenue') / col('Clicks'))) \\\n",
    "        .select('Clicks', 'Conversions' ,'log_prob_of_conv', 'log_of_revenue', 'rpc') \\\n",
    "        .sample(True, .01).toPandas()"
   ]
  },
  {
   "cell_type": "code",
   "execution_count": 9,
   "metadata": {},
   "outputs": [
    {
     "data": {
      "text/html": [
       "<div>\n",
       "<style scoped>\n",
       "    .dataframe tbody tr th:only-of-type {\n",
       "        vertical-align: middle;\n",
       "    }\n",
       "\n",
       "    .dataframe tbody tr th {\n",
       "        vertical-align: top;\n",
       "    }\n",
       "\n",
       "    .dataframe thead th {\n",
       "        text-align: right;\n",
       "    }\n",
       "</style>\n",
       "<table border=\"1\" class=\"dataframe\">\n",
       "  <thead>\n",
       "    <tr style=\"text-align: right;\">\n",
       "      <th></th>\n",
       "      <th>Clicks</th>\n",
       "      <th>Conversions</th>\n",
       "      <th>log_prob_of_conv</th>\n",
       "      <th>log_of_revenue</th>\n",
       "      <th>rpc</th>\n",
       "    </tr>\n",
       "  </thead>\n",
       "  <tbody>\n",
       "    <tr>\n",
       "      <th>Clicks</th>\n",
       "      <td>1.000000</td>\n",
       "      <td>0.279966</td>\n",
       "      <td>-0.593669</td>\n",
       "      <td>0.163586</td>\n",
       "      <td>0.001101</td>\n",
       "    </tr>\n",
       "    <tr>\n",
       "      <th>Conversions</th>\n",
       "      <td>0.279966</td>\n",
       "      <td>1.000000</td>\n",
       "      <td>0.042629</td>\n",
       "      <td>0.671729</td>\n",
       "      <td>0.396272</td>\n",
       "    </tr>\n",
       "    <tr>\n",
       "      <th>log_prob_of_conv</th>\n",
       "      <td>-0.593669</td>\n",
       "      <td>0.042629</td>\n",
       "      <td>1.000000</td>\n",
       "      <td>-0.011041</td>\n",
       "      <td>0.436153</td>\n",
       "    </tr>\n",
       "    <tr>\n",
       "      <th>log_of_revenue</th>\n",
       "      <td>0.163586</td>\n",
       "      <td>0.671729</td>\n",
       "      <td>-0.011041</td>\n",
       "      <td>1.000000</td>\n",
       "      <td>0.650799</td>\n",
       "    </tr>\n",
       "    <tr>\n",
       "      <th>rpc</th>\n",
       "      <td>0.001101</td>\n",
       "      <td>0.396272</td>\n",
       "      <td>0.436153</td>\n",
       "      <td>0.650799</td>\n",
       "      <td>1.000000</td>\n",
       "    </tr>\n",
       "  </tbody>\n",
       "</table>\n",
       "</div>"
      ],
      "text/plain": [
       "                    Clicks  Conversions  log_prob_of_conv  log_of_revenue  \\\n",
       "Clicks            1.000000     0.279966         -0.593669        0.163586   \n",
       "Conversions       0.279966     1.000000          0.042629        0.671729   \n",
       "log_prob_of_conv -0.593669     0.042629          1.000000       -0.011041   \n",
       "log_of_revenue    0.163586     0.671729         -0.011041        1.000000   \n",
       "rpc               0.001101     0.396272          0.436153        0.650799   \n",
       "\n",
       "                       rpc  \n",
       "Clicks            0.001101  \n",
       "Conversions       0.396272  \n",
       "log_prob_of_conv  0.436153  \n",
       "log_of_revenue    0.650799  \n",
       "rpc               1.000000  "
      ]
     },
     "execution_count": 9,
     "metadata": {},
     "output_type": "execute_result"
    }
   ],
   "source": [
    "pdf.corr()"
   ]
  },
  {
   "cell_type": "code",
   "execution_count": 10,
   "metadata": {},
   "outputs": [
    {
     "data": {
      "text/html": [
       "<div>\n",
       "<style scoped>\n",
       "    .dataframe tbody tr th:only-of-type {\n",
       "        vertical-align: middle;\n",
       "    }\n",
       "\n",
       "    .dataframe tbody tr th {\n",
       "        vertical-align: top;\n",
       "    }\n",
       "\n",
       "    .dataframe thead th {\n",
       "        text-align: right;\n",
       "    }\n",
       "</style>\n",
       "<table border=\"1\" class=\"dataframe\">\n",
       "  <thead>\n",
       "    <tr style=\"text-align: right;\">\n",
       "      <th></th>\n",
       "      <th>Clicks</th>\n",
       "      <th>Conversions</th>\n",
       "      <th>log_prob_of_conv</th>\n",
       "      <th>log_of_revenue</th>\n",
       "      <th>rpc</th>\n",
       "    </tr>\n",
       "  </thead>\n",
       "  <tbody>\n",
       "    <tr>\n",
       "      <th>count</th>\n",
       "      <td>82540.000000</td>\n",
       "      <td>82540.000000</td>\n",
       "      <td>1575.000000</td>\n",
       "      <td>82540.000000</td>\n",
       "      <td>82540.000000</td>\n",
       "    </tr>\n",
       "    <tr>\n",
       "      <th>mean</th>\n",
       "      <td>3.325963</td>\n",
       "      <td>0.048110</td>\n",
       "      <td>-0.668742</td>\n",
       "      <td>0.163523</td>\n",
       "      <td>49.699482</td>\n",
       "    </tr>\n",
       "    <tr>\n",
       "      <th>std</th>\n",
       "      <td>5.005996</td>\n",
       "      <td>0.524101</td>\n",
       "      <td>0.955553</td>\n",
       "      <td>1.185124</td>\n",
       "      <td>594.808611</td>\n",
       "    </tr>\n",
       "    <tr>\n",
       "      <th>min</th>\n",
       "      <td>2.000000</td>\n",
       "      <td>0.000000</td>\n",
       "      <td>-4.705016</td>\n",
       "      <td>0.000000</td>\n",
       "      <td>0.000000</td>\n",
       "    </tr>\n",
       "    <tr>\n",
       "      <th>25%</th>\n",
       "      <td>2.000000</td>\n",
       "      <td>0.000000</td>\n",
       "      <td>-1.386294</td>\n",
       "      <td>0.000000</td>\n",
       "      <td>0.000000</td>\n",
       "    </tr>\n",
       "    <tr>\n",
       "      <th>50%</th>\n",
       "      <td>2.000000</td>\n",
       "      <td>0.000000</td>\n",
       "      <td>0.000000</td>\n",
       "      <td>0.000000</td>\n",
       "      <td>0.000000</td>\n",
       "    </tr>\n",
       "    <tr>\n",
       "      <th>75%</th>\n",
       "      <td>2.000000</td>\n",
       "      <td>0.000000</td>\n",
       "      <td>0.000000</td>\n",
       "      <td>0.000000</td>\n",
       "      <td>0.000000</td>\n",
       "    </tr>\n",
       "    <tr>\n",
       "      <th>max</th>\n",
       "      <td>342.000000</td>\n",
       "      <td>85.000000</td>\n",
       "      <td>1.945910</td>\n",
       "      <td>11.945582</td>\n",
       "      <td>53471.520000</td>\n",
       "    </tr>\n",
       "  </tbody>\n",
       "</table>\n",
       "</div>"
      ],
      "text/plain": [
       "             Clicks   Conversions  log_prob_of_conv  log_of_revenue  \\\n",
       "count  82540.000000  82540.000000       1575.000000    82540.000000   \n",
       "mean       3.325963      0.048110         -0.668742        0.163523   \n",
       "std        5.005996      0.524101          0.955553        1.185124   \n",
       "min        2.000000      0.000000         -4.705016        0.000000   \n",
       "25%        2.000000      0.000000         -1.386294        0.000000   \n",
       "50%        2.000000      0.000000          0.000000        0.000000   \n",
       "75%        2.000000      0.000000          0.000000        0.000000   \n",
       "max      342.000000     85.000000          1.945910       11.945582   \n",
       "\n",
       "                rpc  \n",
       "count  82540.000000  \n",
       "mean      49.699482  \n",
       "std      594.808611  \n",
       "min        0.000000  \n",
       "25%        0.000000  \n",
       "50%        0.000000  \n",
       "75%        0.000000  \n",
       "max    53471.520000  "
      ]
     },
     "execution_count": 10,
     "metadata": {},
     "output_type": "execute_result"
    }
   ],
   "source": [
    "pdf.describe()"
   ]
  },
  {
   "cell_type": "code",
   "execution_count": 11,
   "metadata": {
    "scrolled": true
   },
   "outputs": [
    {
     "data": {
      "text/plain": [
       "<matplotlib.axes._subplots.AxesSubplot at 0x7fecfa9f44a8>"
      ]
     },
     "execution_count": 11,
     "metadata": {},
     "output_type": "execute_result"
    }
   ],
   "source": [
    "pdf['rpc'].hist(bins=40)"
   ]
  },
  {
   "cell_type": "code",
   "execution_count": 12,
   "metadata": {},
   "outputs": [
    {
     "data": {
      "image/png": "[encoded data removed]",
      "text/plain": [
       "<matplotlib.figure.Figure at 0x7fecfa1112b0>"
      ]
     },
     "metadata": {},
     "output_type": "display_data"
    }
   ],
   "source": [
    "import pandas as pd\n",
    "import matplotlib.pyplot as plt\n",
    "%matplotlib inline\n",
    "\n",
    "p = pd.plotting.scatter_matrix(pdf, figsize=(11, 8), marker='o',\n",
    "                        hist_kwds={'bins': 20}, s=60, alpha=.8)"
   ]
  },
  {
   "cell_type": "markdown",
   "metadata": {},
   "source": [
    "### Model probability of conversion\n",
    "\n",
    "TODO's:\n",
    "\n",
    " - explode and save spark data frame &#9989;\n",
    " - baseline model\n",
    " - maximum and minimum attainable accuracy\n",
    " - add weighting of classes as a parameter to be tunned"
   ]
  },
  {
   "cell_type": "markdown",
   "metadata": {},
   "source": [
    "#### Class balancing"
   ]
  },
  {
   "cell_type": "code",
   "execution_count": 13,
   "metadata": {},
   "outputs": [
    {
     "name": "stdout",
     "output_type": "stream",
     "text": [
      "Class percentage before weighting: Y==1: 1.38%, Y==0: 98.62%\n"
     ]
    }
   ],
   "source": [
    "tmp_0 = sdf_exp.filter(col('y')==0).agg(sum(col('n')).alias('n')).collect()[0].n\n",
    "tmp_1 = sdf_exp.filter(col('y')==1).agg(sum(col('n')).alias('n')).collect()[0].n\n",
    "p_0 = tmp_0 / (tmp_0 + tmp_1) * 100\n",
    "print('Class percentage before weighting: Y==1: {:2.2f}%, Y==0: {:2.2f}%'.format(100 - p_0, p_0))"
   ]
  },
  {
   "cell_type": "code",
   "execution_count": 14,
   "metadata": {},
   "outputs": [],
   "source": [
    "# class weights\n",
    "N = tmp_0 + tmp_1\n",
    "w_0 = N * .5 / tmp_0\n",
    "w_1 = N * .5 / tmp_1"
   ]
  },
  {
   "cell_type": "code",
   "execution_count": 15,
   "metadata": {},
   "outputs": [
    {
     "name": "stdout",
     "output_type": "stream",
     "text": [
      "Class percentage after balancing: Y==1: 50.00%, Y==0: 50.00%\n"
     ]
    }
   ],
   "source": [
    "from pyspark.sql.functions import when\n",
    "\n",
    "sdf_exp_w = sdf_exp \\\n",
    "            .withColumn('n', when(col('y') == 1, col('n') * w_1).otherwise(col('n') * w_0))\n",
    "    \n",
    "tmp_0 = sdf_exp_w.filter(col('y')==0).agg(sum(col('n')).alias('n')).collect()[0].n\n",
    "tmp_1 = sdf_exp_w.filter(col('y')==1).agg(sum(col('n')).alias('n')).collect()[0].n\n",
    "p_0 = tmp_0 / (tmp_0 + tmp_1) * 100\n",
    "print('Class percentage after balancing: Y==1: {:2.2f}%, Y==0: {:2.2f}%'.format(100 - p_0, p_0))"
   ]
  },
  {
   "cell_type": "markdown",
   "metadata": {},
   "source": [
    "#### Maximum attainable accuracy\n",
    "\n",
    "$$ \\frac{1}{C} \\sum_{n = 1}^N c_n * \\mathrm{max_y}\\{c(y) \\} $$\n",
    "\n",
    "where $c(y)$ is a number of click events that ended with state $y$."
   ]
  },
  {
   "cell_type": "code",
   "execution_count": 17,
   "metadata": {},
   "outputs": [
    {
     "name": "stdout",
     "output_type": "stream",
     "text": [
      "Minimum possible error: 5.58%\n"
     ]
    }
   ],
   "source": [
    "from pyspark.sql.functions import when\n",
    "\n",
    "tmp = sdf_exp_w \\\n",
    "    .groupBy('Date', 'Keyword_ID', 'Match_type_ID') \\\n",
    "    .agg(*[sum('n').alias('Clicks'), sum(when(col('y')==1, col('n')).otherwise(0)).alias('Conversions')]) \\\n",
    "    .select('Conversions', 'Clicks') \\\n",
    "    .withColumn('score', when((col('Clicks') - col('Conversions')) > col('Conversions'), \n",
    "                              col('Clicks') - col('Conversions')).otherwise(col('Conversions'))) \\\n",
    "    .agg(sum(col('score')).alias('score'), sum(col('Clicks')).alias('Clicks')) \\\n",
    "    .collect()\n",
    "    \n",
    "print('Minimum possible error: {:2.2f}%'.format(100 - tmp[0].score / tmp[0].Clicks * 100) )"
   ]
  },
  {
   "cell_type": "markdown",
   "metadata": {},
   "source": [
    "#### Minimum attainable accuracy"
   ]
  },
  {
   "cell_type": "code",
   "execution_count": 18,
   "metadata": {},
   "outputs": [
    {
     "name": "stdout",
     "output_type": "stream",
     "text": [
      "Class majority error: 50.00%\n"
     ]
    }
   ],
   "source": [
    "tmp = sdf_exp_w \\\n",
    "    .groupBy('Date', 'Keyword_ID', 'Match_type_ID') \\\n",
    "    .agg(*[sum('n').alias('Clicks'), sum(when(col('y')==1, col('n')).otherwise(0)).alias('Conversions')]) \\\n",
    "    .select('Conversions', 'Clicks') \\\n",
    "    .withColumn('score', col('Clicks') - col('Conversions')) \\\n",
    "    .agg(sum(col('score')).alias('score'), sum(col('Clicks')).alias('Clicks')) \\\n",
    "    .collect()\n",
    "    \n",
    "print('Class majority error: {:2.2f}%'.format(100 - tmp[0].score / tmp[0].Clicks * 100) )"
   ]
  },
  {
   "cell_type": "markdown",
   "metadata": {},
   "source": [
    "### Average probability of conversion over time"
   ]
  },
  {
   "cell_type": "code",
   "execution_count": 19,
   "metadata": {},
   "outputs": [],
   "source": [
    "tmp = sdf \\\n",
    "        .groupBy('Date') \\\n",
    "        .agg(*[sum(col('Conversions')).alias('Conversions'), \n",
    "           sum(col('Clicks')).alias('Clicks'), \n",
    "           sum(col('Revenue')).alias('Revenue')]) \\\n",
    "        .withColumn('log_prob_of_conv', log(col('Conversions') / col('Clicks'))) \\\n",
    "        .withColumn('prob_of_conv', col('Conversions') / col('Clicks')) \\\n",
    "        .withColumn('log_of_revenue', log(1 + col('Revenue'))) \\\n",
    "        .withColumn('rpc', log(col('Revenue') / col('Clicks'))) \\\n",
    "        .orderBy(col('Date').asc()) \\\n",
    "        .toPandas()"
   ]
  },
  {
   "cell_type": "code",
   "execution_count": 20,
   "metadata": {},
   "outputs": [
    {
     "name": "stderr",
     "output_type": "stream",
     "text": [
      "/home/ubuntu/.local/share/virtualenvs/ml-rpc-LO9Wo36E/lib/python3.5/site-packages/statsmodels/compat/pandas.py:56: FutureWarning: The pandas.core.datetools module is deprecated and will be removed in a future version. Please use the pandas.tseries module instead.\n",
      "  from pandas.core import datetools\n"
     ]
    },
    {
     "data": {
      "image/png": "[encoded data removed]",
      "text/plain": [
       "<matplotlib.figure.Figure at 0x7fece0e0dfd0>"
      ]
     },
     "metadata": {},
     "output_type": "display_data"
    },
    {
     "data": {
      "text/plain": [
       "<ggplot: (-9223363245894662484)>"
      ]
     },
     "execution_count": 20,
     "metadata": {},
     "output_type": "execute_result"
    }
   ],
   "source": [
    "from plotnine import ggplot, geom_line, aes, theme_bw\n",
    "import plotnine\n",
    "plotnine.options.figure_size = (11, 4)\n",
    "\n",
    "\n",
    "ggplot(aes(x='Date', y='prob_of_conv'), data=tmp) + geom_line() + theme_bw()"
   ]
  },
  {
   "cell_type": "markdown",
   "metadata": {},
   "source": [
    "### Remove rare keywords using Chi-Square test of independence"
   ]
  },
  {
   "cell_type": "code",
   "execution_count": 101,
   "metadata": {},
   "outputs": [
    {
     "name": "stdout",
     "output_type": "stream",
     "text": [
      "+------------+-----------------+------------------+------------------+------------------+\n",
      "|  Keyword_ID|                0|                 1|                 n|                 X|\n",
      "+------------+-----------------+------------------+------------------+------------------+\n",
      "|224325004348|97506.51582920473| 634419.9224103128| 731926.4382395175| 393859.2611300016|\n",
      "|168388674416|71210.18583206876|509118.08679383865| 580328.2726259074| 330439.4060572648|\n",
      "|421241223812|39691.90397693724|173818.64830666353|213510.55228360076| 84258.05353449748|\n",
      "|981509692733|27850.74789971986| 54359.15139110278| 82209.89929082264| 8547.577137591827|\n",
      "|928382372783|18634.25636316675|  60673.2317262509| 79307.48808941766|22283.840935491844|\n",
      "+------------+-----------------+------------------+------------------+------------------+\n",
      "only showing top 5 rows\n",
      "\n"
     ]
    },
    {
     "data": {
      "text/plain": [
       "487981"
      ]
     },
     "execution_count": 101,
     "metadata": {},
     "output_type": "execute_result"
    }
   ],
   "source": [
    "from pyspark.sql.functions import pow\n",
    "\n",
    "tmp = sdf_exp_w \\\n",
    "        .select('Keyword_ID', 'y', 'n') \\\n",
    "        .groupBy('Keyword_ID', 'y') \\\n",
    "        .agg(sum(col('n')).alias('n')) \\\n",
    "        .groupBy('Keyword_ID') \\\n",
    "        .pivot('y', [0, 1]).sum('n') \\\n",
    "        .withColumn('1', when(col('1').isNull(), 0.0).otherwise(col('1'))) \\\n",
    "        .withColumn('n', col('0') + col('1')) \\\n",
    "        .withColumn('X', pow(col('0') - col('n') * .5, 2) / (col('n') * .5) * 2.0) \\\n",
    "        .orderBy(col('n').desc()) \\\n",
    "        .persist()\n",
    "        \n",
    "tmp.show(5)\n",
    "tmp.count()"
   ]
  },
  {
   "cell_type": "code",
   "execution_count": 121,
   "metadata": {},
   "outputs": [
    {
     "data": {
      "text/plain": [
       "<matplotlib.axes._subplots.AxesSubplot at 0x7fecd038d320>"
      ]
     },
     "execution_count": 121,
     "metadata": {},
     "output_type": "execute_result"
    },
    {
     "data": {
      "image/png": "[encoded data removed]",
      "text/plain": [
       "<matplotlib.figure.Figure at 0x7fecd039a2e8>"
      ]
     },
     "metadata": {},
     "output_type": "display_data"
    }
   ],
   "source": [
    "tmp.select('X').sample(fraction=.1, withReplacement=False, seed=2014).toPandas()['X'] \\\n",
    "    .hist(bins=30, figsize=(13, 5), range=[0, 200])\n"
   ]
  },
  {
   "cell_type": "markdown",
   "metadata": {},
   "source": [
    "https://en.wikipedia.org/wiki/Chi-squared_distribution#Table_of_χ2_values_vs_p-values"
   ]
  },
  {
   "cell_type": "code",
   "execution_count": 130,
   "metadata": {},
   "outputs": [
    {
     "name": "stdout",
     "output_type": "stream",
     "text": [
      "487981\n",
      "258954\n",
      "42264\n",
      "34685\n"
     ]
    }
   ],
   "source": [
    "# very at least 100 searches and Pval<.01\n",
    "\n",
    "print(tmp.count())\n",
    "print(tmp.filter(col('X') > 3.84).count())\n",
    "print(tmp.filter((col('n') > 100)).count())\n",
    "print(tmp.filter((col('X') > 6.63) & (col('n') > 100)).count())"
   ]
  },
  {
   "cell_type": "markdown",
   "metadata": {},
   "source": [
    "### Baseline model for `P[Conversion]`: Lasso Logistic regression\n",
    "\n",
    "http://docs.h2o.ai/h2o/latest-stable/h2o-docs/booklets/GLMBooklet.pdf  \n",
    "http://docs.h2o.ai/h2o/latest-stable/h2o-docs/data-science/glm.html"
   ]
  },
  {
   "cell_type": "code",
   "execution_count": 22,
   "metadata": {
    "scrolled": false
   },
   "outputs": [
    {
     "name": "stdout",
     "output_type": "stream",
     "text": [
      "Connecting to H2O server at http://172.31.46.219:54321... successful.\n"
     ]
    },
    {
     "data": {
      "text/html": [
       "<div style=\"overflow:auto\"><table style=\"width:50%\"><tr><td>H2O cluster uptime:</td>\n",
       "<td>06 secs</td></tr>\n",
       "<tr><td>H2O cluster version:</td>\n",
       "<td>3.16.0.2</td></tr>\n",
       "<tr><td>H2O cluster version age:</td>\n",
       "<td>27 days </td></tr>\n",
       "<tr><td>H2O cluster name:</td>\n",
       "<td>sparkling-water-ubuntu_local-1514466934557</td></tr>\n",
       "<tr><td>H2O cluster total nodes:</td>\n",
       "<td>1</td></tr>\n",
       "<tr><td>H2O cluster free memory:</td>\n",
       "<td>14.22 Gb</td></tr>\n",
       "<tr><td>H2O cluster total cores:</td>\n",
       "<td>8</td></tr>\n",
       "<tr><td>H2O cluster allowed cores:</td>\n",
       "<td>8</td></tr>\n",
       "<tr><td>H2O cluster status:</td>\n",
       "<td>accepting new members, healthy</td></tr>\n",
       "<tr><td>H2O connection url:</td>\n",
       "<td>http://172.31.46.219:54321</td></tr>\n",
       "<tr><td>H2O connection proxy:</td>\n",
       "<td>None</td></tr>\n",
       "<tr><td>H2O internal security:</td>\n",
       "<td>False</td></tr>\n",
       "<tr><td>H2O API Extensions:</td>\n",
       "<td>XGBoost, Algos, AutoML, Core V3, Core V4</td></tr>\n",
       "<tr><td>Python version:</td>\n",
       "<td>3.5.2 final</td></tr></table></div>"
      ],
      "text/plain": [
       "--------------------------  ------------------------------------------\n",
       "H2O cluster uptime:         06 secs\n",
       "H2O cluster version:        3.16.0.2\n",
       "H2O cluster version age:    27 days\n",
       "H2O cluster name:           sparkling-water-ubuntu_local-1514466934557\n",
       "H2O cluster total nodes:    1\n",
       "H2O cluster free memory:    14.22 Gb\n",
       "H2O cluster total cores:    8\n",
       "H2O cluster allowed cores:  8\n",
       "H2O cluster status:         accepting new members, healthy\n",
       "H2O connection url:         http://172.31.46.219:54321\n",
       "H2O connection proxy:\n",
       "H2O internal security:      False\n",
       "H2O API Extensions:         XGBoost, Algos, AutoML, Core V3, Core V4\n",
       "Python version:             3.5.2 final\n",
       "--------------------------  ------------------------------------------"
      ]
     },
     "metadata": {},
     "output_type": "display_data"
    },
    {
     "name": "stdout",
     "output_type": "stream",
     "text": [
      "\n",
      "Sparkling Water Context:\n",
      " * H2O name: sparkling-water-ubuntu_local-1514466934557\n",
      " * cluster size: 1\n",
      " * list of used nodes:\n",
      "  (executorId, host, port)\n",
      "  ------------------------\n",
      "  (driver,172.31.46.219,54321)\n",
      "  ------------------------\n",
      "\n",
      "  Open H2O Flow in browser: http://172.31.46.219:54321 (CMD + click in Mac OSX)\n",
      "\n",
      "    \n"
     ]
    }
   ],
   "source": [
    "import h2o\n",
    "from pysparkling import H2OContext\n",
    "hc = H2OContext.getOrCreate(spark)"
   ]
  },
  {
   "cell_type": "code",
   "execution_count": 61,
   "metadata": {},
   "outputs": [],
   "source": [
    "h2o.remove_all()\n",
    "df = hc.as_h2o_frame(sdf_exp_w.sample(fraction=.1, seed=2014, withReplacement=False), \n",
    "                     framename='sdf_exp_w_sample')\n",
    "\n",
    "df['Keyword_ID'] = df['Keyword_ID'].asfactor()\n",
    "df['Ad_group_ID'] = df['Ad_group_ID'].asfactor()\n",
    "df['Campaign_ID'] = df['Campaign_ID'].asfactor()\n",
    "df['Match_type_ID'] = df['Match_type_ID'].asfactor()\n",
    "df['Device_ID'] = df['Device_ID'].asfactor()\n",
    "\n",
    "df['Month'] = df['Date'].month().asfactor()\n",
    "df['Week'] = df['Date'].week().asfactor()\n",
    "df['Day'] = df['Date'].dayOfWeek().asfactor()\n",
    "\n",
    "# df.describe()\n",
    "\n",
    "# ll = list(h2o.ls()['key'].values)\n",
    "# ll.remove('sdf_exp_w_sample')\n",
    "# h2o.remove(ll)\n",
    "\n",
    "# h2o.ls()"
   ]
  },
  {
   "cell_type": "code",
   "execution_count": 71,
   "metadata": {},
   "outputs": [
    {
     "ename": "TypeError",
     "evalue": "group_by() takes 2 positional arguments but 3 were given",
     "output_type": "error",
     "traceback": [
      "\u001b[0;31m---------------------------------------------------------------------------\u001b[0m",
      "\u001b[0;31mTypeError\u001b[0m                                 Traceback (most recent call last)",
      "\u001b[0;32m<ipython-input-71-9faa32dfa3f4>\u001b[0m in \u001b[0;36m<module>\u001b[0;34m()\u001b[0m\n\u001b[1;32m      2\u001b[0m \u001b[0;34m\u001b[0m\u001b[0m\n\u001b[1;32m      3\u001b[0m \u001b[0mtmp\u001b[0m \u001b[0;34m=\u001b[0m \u001b[0mdf\u001b[0m\u001b[0;34m[\u001b[0m\u001b[0;36m1\u001b[0m\u001b[0;34m:\u001b[0m\u001b[0;36m1000\u001b[0m\u001b[0;34m,\u001b[0m \u001b[0;34m[\u001b[0m\u001b[0;34m'Keyword_ID'\u001b[0m\u001b[0;34m,\u001b[0m \u001b[0;34m'n'\u001b[0m\u001b[0;34m,\u001b[0m \u001b[0;34m'y'\u001b[0m\u001b[0;34m]\u001b[0m\u001b[0;34m]\u001b[0m\u001b[0;34m\u001b[0m\u001b[0m\n\u001b[0;32m----> 4\u001b[0;31m \u001b[0mtmp\u001b[0m \u001b[0;34m=\u001b[0m \u001b[0mtmp\u001b[0m\u001b[0;34m.\u001b[0m\u001b[0mgroup_by\u001b[0m\u001b[0;34m(\u001b[0m\u001b[0;34m[\u001b[0m\u001b[0;34m'Keyword_ID'\u001b[0m\u001b[0;34m,\u001b[0m \u001b[0;34m'y'\u001b[0m\u001b[0;34m]\u001b[0m\u001b[0;34m,\u001b[0m \u001b[0mnp\u001b[0m\u001b[0;34m.\u001b[0m\u001b[0msum\u001b[0m\u001b[0;34m)\u001b[0m\u001b[0;34m\u001b[0m\u001b[0m\n\u001b[0m\u001b[1;32m      5\u001b[0m \u001b[0mtmp\u001b[0m\u001b[0;34m\u001b[0m\u001b[0m\n\u001b[1;32m      6\u001b[0m \u001b[0;31m# df.pivot(index='Keyword_ID', column='y', value='n')\u001b[0m\u001b[0;34m\u001b[0m\u001b[0;34m\u001b[0m\u001b[0m\n",
      "\u001b[0;31mTypeError\u001b[0m: group_by() takes 2 positional arguments but 3 were given"
     ]
    }
   ],
   "source": [
    "import numpy as np\n",
    "\n",
    "tmp = df[1:1000, ['Keyword_ID', 'n', 'y']]\n",
    "tmp = tmp.group_by(['Keyword_ID', 'y'])\n",
    "tmp\n",
    "# df.pivot(index='Keyword_ID', column='y', value='n')"
   ]
  },
  {
   "cell_type": "code",
   "execution_count": 35,
   "metadata": {},
   "outputs": [],
   "source": [
    "h2o.remove_all()"
   ]
  },
  {
   "cell_type": "code",
   "execution_count": 62,
   "metadata": {},
   "outputs": [
    {
     "name": "stdout",
     "output_type": "stream",
     "text": [
      "GroupBy: \n",
      "  Frame: py_23_sid_9e14; by=[11]\n",
      "  Aggregates: dict_keys([])\n",
      "*** Use get_frame() to get groupby frame ***\n"
     ]
    },
    {
     "data": {
      "text/plain": []
     },
     "execution_count": 62,
     "metadata": {},
     "output_type": "execute_result"
    }
   ],
   "source": [
    "gdf"
   ]
  },
  {
   "cell_type": "code",
   "execution_count": 39,
   "metadata": {},
   "outputs": [],
   "source": [
    "train, validate, test = df.split_frame([.8, .1], seed=2014)"
   ]
  },
  {
   "cell_type": "code",
   "execution_count": 40,
   "metadata": {},
   "outputs": [
    {
     "name": "stdout",
     "output_type": "stream",
     "text": [
      "glm Model Build progress: |███████████████████████████████████████████████| 100%\n"
     ]
    }
   ],
   "source": [
    "from h2o.estimators.glm import H2OGeneralizedLinearEstimator\n",
    "\n",
    "predictors = ['Keyword_ID', 'Ad_group_ID', 'Campaign_ID', 'Account_ID', 'Match_type_ID', 'Device_ID', 'Month', 'Day', 'Week']\n",
    "response = 'y'\n",
    "weights_col = 'n'\n",
    "\n",
    "glm_model = H2OGeneralizedLinearEstimator(family=\"binomial\", \n",
    "                                          lambda_=.00001, \n",
    "                                          standardize=True,\n",
    "                                          alpha=1.0)\n",
    "\n",
    "glm_model.train(predictors, response, training_frame=train, validation_frame=validate, weights_column = weights_col)"
   ]
  },
  {
   "cell_type": "code",
   "execution_count": 41,
   "metadata": {
    "scrolled": false
   },
   "outputs": [
    {
     "name": "stdout",
     "output_type": "stream",
     "text": [
      "Could not find exact threshold 0.48; using closest threshold found 0.47942283242859557.\n",
      "Confusion Matrix (Act/Pred) @ threshold = 0.47942283242859557: \n"
     ]
    },
    {
     "data": {
      "text/html": [
       "<div style=\"overflow:auto\"><table style=\"width:50%\"><tr><td><b></b></td>\n",
       "<td><b>0</b></td>\n",
       "<td><b>1</b></td>\n",
       "<td><b>Error</b></td>\n",
       "<td><b>Rate</b></td></tr>\n",
       "<tr><td>0</td>\n",
       "<td>744634.0</td>\n",
       "<td>379848.0</td>\n",
       "<td>0.3378</td>\n",
       "<td> (379848.0/1124482.0)</td></tr>\n",
       "<tr><td>1</td>\n",
       "<td>371587.0</td>\n",
       "<td>757217.0</td>\n",
       "<td>0.3292</td>\n",
       "<td> (371587.0/1128804.0)</td></tr>\n",
       "<tr><td>Total</td>\n",
       "<td>1116221.0</td>\n",
       "<td>1137065.0</td>\n",
       "<td>0.3335</td>\n",
       "<td> (751435.0/2253286.0)</td></tr></table></div>"
      ],
      "text/plain": [
       "       0            1            Error    Rate\n",
       "-----  -----------  -----------  -------  --------------------\n",
       "0      744634       379848       0.3378   (379848.0/1124482.0)\n",
       "1      371587       757217       0.3292   (371587.0/1128804.0)\n",
       "Total  1.11622e+06  1.13706e+06  0.3335   (751435.0/2253286.0)"
      ]
     },
     "metadata": {},
     "output_type": "display_data"
    },
    {
     "name": "stdout",
     "output_type": "stream",
     "text": [
      "Confusion Matrix (Act/Pred) for max accuracy @ threshold = 0.47810465539726593: \n"
     ]
    },
    {
     "data": {
      "text/html": [
       "<div style=\"overflow:auto\"><table style=\"width:50%\"><tr><td><b></b></td>\n",
       "<td><b>0</b></td>\n",
       "<td><b>1</b></td>\n",
       "<td><b>Error</b></td>\n",
       "<td><b>Rate</b></td></tr>\n",
       "<tr><td>0</td>\n",
       "<td>741362.0</td>\n",
       "<td>383121.0</td>\n",
       "<td>0.3407</td>\n",
       "<td> (383121.0/1124483.0)</td></tr>\n",
       "<tr><td>1</td>\n",
       "<td>367631.0</td>\n",
       "<td>761173.0</td>\n",
       "<td>0.3257</td>\n",
       "<td> (367631.0/1128804.0)</td></tr>\n",
       "<tr><td>Total</td>\n",
       "<td>1108993.0</td>\n",
       "<td>1144294.0</td>\n",
       "<td>0.3332</td>\n",
       "<td> (750752.0/2253287.0)</td></tr></table></div>"
      ],
      "text/plain": [
       "       0            1            Error    Rate\n",
       "-----  -----------  -----------  -------  --------------------\n",
       "0      741362       383121       0.3407   (383121.0/1124483.0)\n",
       "1      367631       761173       0.3257   (367631.0/1128804.0)\n",
       "Total  1.10899e+06  1.14429e+06  0.3332   (750752.0/2253287.0)"
      ]
     },
     "metadata": {},
     "output_type": "display_data"
    },
    {
     "data": {
      "text/plain": [
       "[, ]"
      ]
     },
     "execution_count": 41,
     "metadata": {},
     "output_type": "execute_result"
    }
   ],
   "source": [
    "glm_model.model_performance(train).confusion_matrix(metrics='accuracy', thresholds=[.48])"
   ]
  },
  {
   "cell_type": "code",
   "execution_count": 43,
   "metadata": {},
   "outputs": [
    {
     "name": "stdout",
     "output_type": "stream",
     "text": [
      "Could not find exact threshold 0.48; using closest threshold found 0.4803156946032985.\n",
      "Confusion Matrix (Act/Pred) @ threshold = 0.4803156946032985: \n"
     ]
    },
    {
     "data": {
      "text/html": [
       "<div style=\"overflow:auto\"><table style=\"width:50%\"><tr><td><b></b></td>\n",
       "<td><b>0</b></td>\n",
       "<td><b>1</b></td>\n",
       "<td><b>Error</b></td>\n",
       "<td><b>Rate</b></td></tr>\n",
       "<tr><td>0</td>\n",
       "<td>92253.0</td>\n",
       "<td>46313.0</td>\n",
       "<td>0.3342</td>\n",
       "<td> (46313.0/138566.0)</td></tr>\n",
       "<tr><td>1</td>\n",
       "<td>48045.0</td>\n",
       "<td>84115.0</td>\n",
       "<td>0.3635</td>\n",
       "<td> (48045.0/132160.0)</td></tr>\n",
       "<tr><td>Total</td>\n",
       "<td>140298.0</td>\n",
       "<td>130428.0</td>\n",
       "<td>0.3485</td>\n",
       "<td> (94358.0/270726.0)</td></tr></table></div>"
      ],
      "text/plain": [
       "       0       1       Error    Rate\n",
       "-----  ------  ------  -------  ------------------\n",
       "0      92253   46313   0.3342   (46313.0/138566.0)\n",
       "1      48045   84115   0.3635   (48045.0/132160.0)\n",
       "Total  140298  130428  0.3485   (94358.0/270726.0)"
      ]
     },
     "metadata": {},
     "output_type": "display_data"
    },
    {
     "name": "stdout",
     "output_type": "stream",
     "text": [
      "Confusion Matrix (Act/Pred) for max accuracy @ threshold = 0.511185785069814: \n"
     ]
    },
    {
     "data": {
      "text/html": [
       "<div style=\"overflow:auto\"><table style=\"width:50%\"><tr><td><b></b></td>\n",
       "<td><b>0</b></td>\n",
       "<td><b>1</b></td>\n",
       "<td><b>Error</b></td>\n",
       "<td><b>Rate</b></td></tr>\n",
       "<tr><td>0</td>\n",
       "<td>100703.0</td>\n",
       "<td>37862.0</td>\n",
       "<td>0.2732</td>\n",
       "<td> (37862.0/138565.0)</td></tr>\n",
       "<tr><td>1</td>\n",
       "<td>54504.0</td>\n",
       "<td>77655.0</td>\n",
       "<td>0.4124</td>\n",
       "<td> (54504.0/132159.0)</td></tr>\n",
       "<tr><td>Total</td>\n",
       "<td>155207.0</td>\n",
       "<td>115517.0</td>\n",
       "<td>0.3412</td>\n",
       "<td> (92366.0/270724.0)</td></tr></table></div>"
      ],
      "text/plain": [
       "       0       1       Error    Rate\n",
       "-----  ------  ------  -------  ------------------\n",
       "0      100703  37862   0.2732   (37862.0/138565.0)\n",
       "1      54504   77655   0.4124   (54504.0/132159.0)\n",
       "Total  155207  115517  0.3412   (92366.0/270724.0)"
      ]
     },
     "metadata": {},
     "output_type": "display_data"
    },
    {
     "data": {
      "text/plain": [
       "[, ]"
      ]
     },
     "execution_count": 43,
     "metadata": {},
     "output_type": "execute_result"
    }
   ],
   "source": [
    "glm_model.model_performance(validate).confusion_matrix(metrics='accuracy', thresholds=[.48])"
   ]
  },
  {
   "cell_type": "markdown",
   "metadata": {},
   "source": [
    "#### Tune lasso parameters"
   ]
  },
  {
   "cell_type": "code",
   "execution_count": 51,
   "metadata": {},
   "outputs": [
    {
     "name": "stdout",
     "output_type": "stream",
     "text": [
      "glm Grid Build progress: |████████████████████████████████████████████████| 100%\n"
     ]
    },
    {
     "name": "stderr",
     "output_type": "stream",
     "text": [
      "/home/ubuntu/.local/share/virtualenvs/ml-rpc-LO9Wo36E/lib/python3.5/site-packages/h2o/job.py:69: UserWarning: Reached maximum number of iterations 50!\n",
      "  warnings.warn(w)\n"
     ]
    }
   ],
   "source": [
    "from h2o.grid import H2OGridSearch\n",
    "import numpy as np\n",
    "\n",
    "lambda_grid = list(np.logspace(start=-7.0, stop=-1.0, num=50, base=10.0))\n",
    "\n",
    "g = H2OGridSearch(\n",
    "        model=H2OGeneralizedLinearEstimator(family=\"binomial\", alpha=1.0),\n",
    "        hyper_params={\"lambda\": lambda_grid}\n",
    "    )\n",
    "\n",
    "g.train(predictors, response, training_frame=train, validation_frame=validate, weights_column = weights_col)"
   ]
  },
  {
   "cell_type": "code",
   "execution_count": 52,
   "metadata": {},
   "outputs": [
    {
     "data": {
      "text/html": [
       "<div>\n",
       "<style scoped>\n",
       "    .dataframe tbody tr th:only-of-type {\n",
       "        vertical-align: middle;\n",
       "    }\n",
       "\n",
       "    .dataframe tbody tr th {\n",
       "        vertical-align: top;\n",
       "    }\n",
       "\n",
       "    .dataframe thead th {\n",
       "        text-align: right;\n",
       "    }\n",
       "</style>\n",
       "<table border=\"1\" class=\"dataframe\">\n",
       "  <thead>\n",
       "    <tr style=\"text-align: right;\">\n",
       "      <th></th>\n",
       "      <th>Model_ID</th>\n",
       "      <th>AUC</th>\n",
       "      <th>lambda</th>\n",
       "    </tr>\n",
       "  </thead>\n",
       "  <tbody>\n",
       "    <tr>\n",
       "      <th>21</th>\n",
       "      <td>Grid_GLM_py_12_sid_9e14_model_python_151441812...</td>\n",
       "      <td>0.826830</td>\n",
       "      <td>1.206793e-05</td>\n",
       "    </tr>\n",
       "    <tr>\n",
       "      <th>14</th>\n",
       "      <td>Grid_GLM_py_12_sid_9e14_model_python_151441812...</td>\n",
       "      <td>0.802519</td>\n",
       "      <td>1.599859e-05</td>\n",
       "    </tr>\n",
       "    <tr>\n",
       "      <th>40</th>\n",
       "      <td>Grid_GLM_py_12_sid_9e14_model_python_151441812...</td>\n",
       "      <td>0.788225</td>\n",
       "      <td>2.120951e-05</td>\n",
       "    </tr>\n",
       "    <tr>\n",
       "      <th>10</th>\n",
       "      <td>Grid_GLM_py_12_sid_9e14_model_python_151441812...</td>\n",
       "      <td>0.779108</td>\n",
       "      <td>1.757511e-07</td>\n",
       "    </tr>\n",
       "    <tr>\n",
       "      <th>25</th>\n",
       "      <td>Grid_GLM_py_12_sid_9e14_model_python_151441812...</td>\n",
       "      <td>0.772727</td>\n",
       "      <td>2.811769e-05</td>\n",
       "    </tr>\n",
       "    <tr>\n",
       "      <th>44</th>\n",
       "      <td>Grid_GLM_py_12_sid_9e14_model_python_151441812...</td>\n",
       "      <td>0.771904</td>\n",
       "      <td>1.000000e-07</td>\n",
       "    </tr>\n",
       "    <tr>\n",
       "      <th>23</th>\n",
       "      <td>Grid_GLM_py_12_sid_9e14_model_python_151441812...</td>\n",
       "      <td>0.768943</td>\n",
       "      <td>4.094915e-07</td>\n",
       "    </tr>\n",
       "    <tr>\n",
       "      <th>31</th>\n",
       "      <td>Grid_GLM_py_12_sid_9e14_model_python_151441812...</td>\n",
       "      <td>0.768403</td>\n",
       "      <td>1.325711e-07</td>\n",
       "    </tr>\n",
       "    <tr>\n",
       "      <th>33</th>\n",
       "      <td>Grid_GLM_py_12_sid_9e14_model_python_151441812...</td>\n",
       "      <td>0.767369</td>\n",
       "      <td>2.329952e-07</td>\n",
       "    </tr>\n",
       "    <tr>\n",
       "      <th>9</th>\n",
       "      <td>Grid_GLM_py_12_sid_9e14_model_python_151441812...</td>\n",
       "      <td>0.766216</td>\n",
       "      <td>5.428675e-07</td>\n",
       "    </tr>\n",
       "    <tr>\n",
       "      <th>26</th>\n",
       "      <td>Grid_GLM_py_12_sid_9e14_model_python_151441812...</td>\n",
       "      <td>0.764438</td>\n",
       "      <td>3.088844e-07</td>\n",
       "    </tr>\n",
       "    <tr>\n",
       "      <th>39</th>\n",
       "      <td>Grid_GLM_py_12_sid_9e14_model_python_151441812...</td>\n",
       "      <td>0.762465</td>\n",
       "      <td>7.196857e-07</td>\n",
       "    </tr>\n",
       "    <tr>\n",
       "      <th>4</th>\n",
       "      <td>Grid_GLM_py_12_sid_9e14_model_python_151441812...</td>\n",
       "      <td>0.760773</td>\n",
       "      <td>3.727594e-05</td>\n",
       "    </tr>\n",
       "    <tr>\n",
       "      <th>17</th>\n",
       "      <td>Grid_GLM_py_12_sid_9e14_model_python_151441812...</td>\n",
       "      <td>0.759205</td>\n",
       "      <td>9.540955e-07</td>\n",
       "    </tr>\n",
       "    <tr>\n",
       "      <th>2</th>\n",
       "      <td>Grid_GLM_py_12_sid_9e14_model_python_151441812...</td>\n",
       "      <td>0.755742</td>\n",
       "      <td>1.264855e-06</td>\n",
       "    </tr>\n",
       "    <tr>\n",
       "      <th>16</th>\n",
       "      <td>Grid_GLM_py_12_sid_9e14_model_python_151441812...</td>\n",
       "      <td>0.751684</td>\n",
       "      <td>1.676833e-06</td>\n",
       "    </tr>\n",
       "    <tr>\n",
       "      <th>15</th>\n",
       "      <td>Grid_GLM_py_12_sid_9e14_model_python_151441812...</td>\n",
       "      <td>0.751477</td>\n",
       "      <td>4.941713e-05</td>\n",
       "    </tr>\n",
       "    <tr>\n",
       "      <th>22</th>\n",
       "      <td>Grid_GLM_py_12_sid_9e14_model_python_151441812...</td>\n",
       "      <td>0.748650</td>\n",
       "      <td>2.222996e-06</td>\n",
       "    </tr>\n",
       "    <tr>\n",
       "      <th>45</th>\n",
       "      <td>Grid_GLM_py_12_sid_9e14_model_python_151441812...</td>\n",
       "      <td>0.744890</td>\n",
       "      <td>2.947052e-06</td>\n",
       "    </tr>\n",
       "    <tr>\n",
       "      <th>3</th>\n",
       "      <td>Grid_GLM_py_12_sid_9e14_model_python_151441812...</td>\n",
       "      <td>0.743018</td>\n",
       "      <td>5.179475e-06</td>\n",
       "    </tr>\n",
       "    <tr>\n",
       "      <th>28</th>\n",
       "      <td>Grid_GLM_py_12_sid_9e14_model_python_151441812...</td>\n",
       "      <td>0.742973</td>\n",
       "      <td>6.551286e-05</td>\n",
       "    </tr>\n",
       "    <tr>\n",
       "      <th>29</th>\n",
       "      <td>Grid_GLM_py_12_sid_9e14_model_python_151441812...</td>\n",
       "      <td>0.741249</td>\n",
       "      <td>3.906940e-06</td>\n",
       "    </tr>\n",
       "    <tr>\n",
       "      <th>19</th>\n",
       "      <td>Grid_GLM_py_12_sid_9e14_model_python_151441812...</td>\n",
       "      <td>0.735660</td>\n",
       "      <td>8.685114e-05</td>\n",
       "    </tr>\n",
       "    <tr>\n",
       "      <th>32</th>\n",
       "      <td>Grid_GLM_py_12_sid_9e14_model_python_151441812...</td>\n",
       "      <td>0.734074</td>\n",
       "      <td>6.866488e-06</td>\n",
       "    </tr>\n",
       "    <tr>\n",
       "      <th>24</th>\n",
       "      <td>Grid_GLM_py_12_sid_9e14_model_python_151441812...</td>\n",
       "      <td>0.730265</td>\n",
       "      <td>9.102982e-06</td>\n",
       "    </tr>\n",
       "    <tr>\n",
       "      <th>5</th>\n",
       "      <td>Grid_GLM_py_12_sid_9e14_model_python_151441812...</td>\n",
       "      <td>0.728337</td>\n",
       "      <td>1.151395e-04</td>\n",
       "    </tr>\n",
       "    <tr>\n",
       "      <th>42</th>\n",
       "      <td>Grid_GLM_py_12_sid_9e14_model_python_151441812...</td>\n",
       "      <td>0.722570</td>\n",
       "      <td>1.526418e-04</td>\n",
       "    </tr>\n",
       "    <tr>\n",
       "      <th>11</th>\n",
       "      <td>Grid_GLM_py_12_sid_9e14_model_python_151441812...</td>\n",
       "      <td>0.716480</td>\n",
       "      <td>2.023590e-04</td>\n",
       "    </tr>\n",
       "    <tr>\n",
       "      <th>0</th>\n",
       "      <td>Grid_GLM_py_12_sid_9e14_model_python_151441812...</td>\n",
       "      <td>0.709263</td>\n",
       "      <td>2.682696e-04</td>\n",
       "    </tr>\n",
       "    <tr>\n",
       "      <th>12</th>\n",
       "      <td>Grid_GLM_py_12_sid_9e14_model_python_151441812...</td>\n",
       "      <td>0.700445</td>\n",
       "      <td>3.556480e-04</td>\n",
       "    </tr>\n",
       "    <tr>\n",
       "      <th>49</th>\n",
       "      <td>Grid_GLM_py_12_sid_9e14_model_python_151441812...</td>\n",
       "      <td>0.693011</td>\n",
       "      <td>4.714866e-04</td>\n",
       "    </tr>\n",
       "    <tr>\n",
       "      <th>41</th>\n",
       "      <td>Grid_GLM_py_12_sid_9e14_model_python_151441812...</td>\n",
       "      <td>0.688566</td>\n",
       "      <td>6.250552e-04</td>\n",
       "    </tr>\n",
       "    <tr>\n",
       "      <th>20</th>\n",
       "      <td>Grid_GLM_py_12_sid_9e14_model_python_151441812...</td>\n",
       "      <td>0.682372</td>\n",
       "      <td>8.286428e-04</td>\n",
       "    </tr>\n",
       "    <tr>\n",
       "      <th>36</th>\n",
       "      <td>Grid_GLM_py_12_sid_9e14_model_python_151441812...</td>\n",
       "      <td>0.675608</td>\n",
       "      <td>1.098541e-03</td>\n",
       "    </tr>\n",
       "    <tr>\n",
       "      <th>27</th>\n",
       "      <td>Grid_GLM_py_12_sid_9e14_model_python_151441812...</td>\n",
       "      <td>0.666359</td>\n",
       "      <td>1.456348e-03</td>\n",
       "    </tr>\n",
       "    <tr>\n",
       "      <th>48</th>\n",
       "      <td>Grid_GLM_py_12_sid_9e14_model_python_151441812...</td>\n",
       "      <td>0.653140</td>\n",
       "      <td>1.930698e-03</td>\n",
       "    </tr>\n",
       "    <tr>\n",
       "      <th>35</th>\n",
       "      <td>Grid_GLM_py_12_sid_9e14_model_python_151441812...</td>\n",
       "      <td>0.641459</td>\n",
       "      <td>2.559548e-03</td>\n",
       "    </tr>\n",
       "    <tr>\n",
       "      <th>8</th>\n",
       "      <td>Grid_GLM_py_12_sid_9e14_model_python_151441812...</td>\n",
       "      <td>0.629663</td>\n",
       "      <td>3.393222e-03</td>\n",
       "    </tr>\n",
       "    <tr>\n",
       "      <th>30</th>\n",
       "      <td>Grid_GLM_py_12_sid_9e14_model_python_151441812...</td>\n",
       "      <td>0.623534</td>\n",
       "      <td>4.498433e-03</td>\n",
       "    </tr>\n",
       "    <tr>\n",
       "      <th>6</th>\n",
       "      <td>Grid_GLM_py_12_sid_9e14_model_python_151441812...</td>\n",
       "      <td>0.619934</td>\n",
       "      <td>5.963623e-03</td>\n",
       "    </tr>\n",
       "    <tr>\n",
       "      <th>47</th>\n",
       "      <td>Grid_GLM_py_12_sid_9e14_model_python_151441812...</td>\n",
       "      <td>0.616106</td>\n",
       "      <td>7.906043e-03</td>\n",
       "    </tr>\n",
       "    <tr>\n",
       "      <th>7</th>\n",
       "      <td>Grid_GLM_py_12_sid_9e14_model_python_151441812...</td>\n",
       "      <td>0.604403</td>\n",
       "      <td>1.048113e-02</td>\n",
       "    </tr>\n",
       "    <tr>\n",
       "      <th>43</th>\n",
       "      <td>Grid_GLM_py_12_sid_9e14_model_python_151441812...</td>\n",
       "      <td>0.602375</td>\n",
       "      <td>1.389495e-02</td>\n",
       "    </tr>\n",
       "    <tr>\n",
       "      <th>1</th>\n",
       "      <td>Grid_GLM_py_12_sid_9e14_model_python_151441812...</td>\n",
       "      <td>0.599989</td>\n",
       "      <td>1.842070e-02</td>\n",
       "    </tr>\n",
       "    <tr>\n",
       "      <th>46</th>\n",
       "      <td>Grid_GLM_py_12_sid_9e14_model_python_151441812...</td>\n",
       "      <td>0.599989</td>\n",
       "      <td>2.442053e-02</td>\n",
       "    </tr>\n",
       "    <tr>\n",
       "      <th>18</th>\n",
       "      <td>Grid_GLM_py_12_sid_9e14_model_python_151441812...</td>\n",
       "      <td>0.571073</td>\n",
       "      <td>3.237458e-02</td>\n",
       "    </tr>\n",
       "    <tr>\n",
       "      <th>34</th>\n",
       "      <td>Grid_GLM_py_12_sid_9e14_model_python_151441812...</td>\n",
       "      <td>0.500000</td>\n",
       "      <td>4.291934e-02</td>\n",
       "    </tr>\n",
       "    <tr>\n",
       "      <th>37</th>\n",
       "      <td>Grid_GLM_py_12_sid_9e14_model_python_151441812...</td>\n",
       "      <td>0.500000</td>\n",
       "      <td>5.689866e-02</td>\n",
       "    </tr>\n",
       "    <tr>\n",
       "      <th>38</th>\n",
       "      <td>Grid_GLM_py_12_sid_9e14_model_python_151441812...</td>\n",
       "      <td>0.500000</td>\n",
       "      <td>7.543120e-02</td>\n",
       "    </tr>\n",
       "    <tr>\n",
       "      <th>13</th>\n",
       "      <td>Grid_GLM_py_12_sid_9e14_model_python_151441812...</td>\n",
       "      <td>0.500000</td>\n",
       "      <td>1.000000e-01</td>\n",
       "    </tr>\n",
       "  </tbody>\n",
       "</table>\n",
       "</div>"
      ],
      "text/plain": [
       "                                             Model_ID       AUC        lambda\n",
       "21  Grid_GLM_py_12_sid_9e14_model_python_151441812...  0.826830  1.206793e-05\n",
       "14  Grid_GLM_py_12_sid_9e14_model_python_151441812...  0.802519  1.599859e-05\n",
       "40  Grid_GLM_py_12_sid_9e14_model_python_151441812...  0.788225  2.120951e-05\n",
       "10  Grid_GLM_py_12_sid_9e14_model_python_151441812...  0.779108  1.757511e-07\n",
       "25  Grid_GLM_py_12_sid_9e14_model_python_151441812...  0.772727  2.811769e-05\n",
       "44  Grid_GLM_py_12_sid_9e14_model_python_151441812...  0.771904  1.000000e-07\n",
       "23  Grid_GLM_py_12_sid_9e14_model_python_151441812...  0.768943  4.094915e-07\n",
       "31  Grid_GLM_py_12_sid_9e14_model_python_151441812...  0.768403  1.325711e-07\n",
       "33  Grid_GLM_py_12_sid_9e14_model_python_151441812...  0.767369  2.329952e-07\n",
       "9   Grid_GLM_py_12_sid_9e14_model_python_151441812...  0.766216  5.428675e-07\n",
       "26  Grid_GLM_py_12_sid_9e14_model_python_151441812...  0.764438  3.088844e-07\n",
       "39  Grid_GLM_py_12_sid_9e14_model_python_151441812...  0.762465  7.196857e-07\n",
       "4   Grid_GLM_py_12_sid_9e14_model_python_151441812...  0.760773  3.727594e-05\n",
       "17  Grid_GLM_py_12_sid_9e14_model_python_151441812...  0.759205  9.540955e-07\n",
       "2   Grid_GLM_py_12_sid_9e14_model_python_151441812...  0.755742  1.264855e-06\n",
       "16  Grid_GLM_py_12_sid_9e14_model_python_151441812...  0.751684  1.676833e-06\n",
       "15  Grid_GLM_py_12_sid_9e14_model_python_151441812...  0.751477  4.941713e-05\n",
       "22  Grid_GLM_py_12_sid_9e14_model_python_151441812...  0.748650  2.222996e-06\n",
       "45  Grid_GLM_py_12_sid_9e14_model_python_151441812...  0.744890  2.947052e-06\n",
       "3   Grid_GLM_py_12_sid_9e14_model_python_151441812...  0.743018  5.179475e-06\n",
       "28  Grid_GLM_py_12_sid_9e14_model_python_151441812...  0.742973  6.551286e-05\n",
       "29  Grid_GLM_py_12_sid_9e14_model_python_151441812...  0.741249  3.906940e-06\n",
       "19  Grid_GLM_py_12_sid_9e14_model_python_151441812...  0.735660  8.685114e-05\n",
       "32  Grid_GLM_py_12_sid_9e14_model_python_151441812...  0.734074  6.866488e-06\n",
       "24  Grid_GLM_py_12_sid_9e14_model_python_151441812...  0.730265  9.102982e-06\n",
       "5   Grid_GLM_py_12_sid_9e14_model_python_151441812...  0.728337  1.151395e-04\n",
       "42  Grid_GLM_py_12_sid_9e14_model_python_151441812...  0.722570  1.526418e-04\n",
       "11  Grid_GLM_py_12_sid_9e14_model_python_151441812...  0.716480  2.023590e-04\n",
       "0   Grid_GLM_py_12_sid_9e14_model_python_151441812...  0.709263  2.682696e-04\n",
       "12  Grid_GLM_py_12_sid_9e14_model_python_151441812...  0.700445  3.556480e-04\n",
       "49  Grid_GLM_py_12_sid_9e14_model_python_151441812...  0.693011  4.714866e-04\n",
       "41  Grid_GLM_py_12_sid_9e14_model_python_151441812...  0.688566  6.250552e-04\n",
       "20  Grid_GLM_py_12_sid_9e14_model_python_151441812...  0.682372  8.286428e-04\n",
       "36  Grid_GLM_py_12_sid_9e14_model_python_151441812...  0.675608  1.098541e-03\n",
       "27  Grid_GLM_py_12_sid_9e14_model_python_151441812...  0.666359  1.456348e-03\n",
       "48  Grid_GLM_py_12_sid_9e14_model_python_151441812...  0.653140  1.930698e-03\n",
       "35  Grid_GLM_py_12_sid_9e14_model_python_151441812...  0.641459  2.559548e-03\n",
       "8   Grid_GLM_py_12_sid_9e14_model_python_151441812...  0.629663  3.393222e-03\n",
       "30  Grid_GLM_py_12_sid_9e14_model_python_151441812...  0.623534  4.498433e-03\n",
       "6   Grid_GLM_py_12_sid_9e14_model_python_151441812...  0.619934  5.963623e-03\n",
       "47  Grid_GLM_py_12_sid_9e14_model_python_151441812...  0.616106  7.906043e-03\n",
       "7   Grid_GLM_py_12_sid_9e14_model_python_151441812...  0.604403  1.048113e-02\n",
       "43  Grid_GLM_py_12_sid_9e14_model_python_151441812...  0.602375  1.389495e-02\n",
       "1   Grid_GLM_py_12_sid_9e14_model_python_151441812...  0.599989  1.842070e-02\n",
       "46  Grid_GLM_py_12_sid_9e14_model_python_151441812...  0.599989  2.442053e-02\n",
       "18  Grid_GLM_py_12_sid_9e14_model_python_151441812...  0.571073  3.237458e-02\n",
       "34  Grid_GLM_py_12_sid_9e14_model_python_151441812...  0.500000  4.291934e-02\n",
       "37  Grid_GLM_py_12_sid_9e14_model_python_151441812...  0.500000  5.689866e-02\n",
       "38  Grid_GLM_py_12_sid_9e14_model_python_151441812...  0.500000  7.543120e-02\n",
       "13  Grid_GLM_py_12_sid_9e14_model_python_151441812...  0.500000  1.000000e-01"
      ]
     },
     "execution_count": 52,
     "metadata": {},
     "output_type": "execute_result"
    }
   ],
   "source": [
    "import pandas as pd\n",
    "pd_auc = pd.DataFrame(list(g.auc().items()), columns=['Model_ID', 'AUC']).sort_values('AUC', ascending=False)\n",
    "model_ids = pd_auc['Model_ID'].values\n",
    "pd_auc['lambda'] = np.array([g.get_hyperparams_dict(model, display=False)['lambda'] for model in model_ids])\n",
    "pd_auc = pd_auc.sort_values('AUC', ascending=False)\n",
    "\n",
    "pd_auc\n",
    "\n",
    "# select best model and remove the rest\n",
    "# h2o.remove_all()"
   ]
  },
  {
   "cell_type": "code",
   "execution_count": 56,
   "metadata": {},
   "outputs": [],
   "source": []
  },
  {
   "cell_type": "code",
   "execution_count": 57,
   "metadata": {},
   "outputs": [
    {
     "ename": "H2OResponseError",
     "evalue": "Server error water.exceptions.H2OKeyNotFoundArgumentException:\n  Error: Object 'py_12_sid_9e14' not found for argument: key\n  Request: GET /3/Frames/py_12_sid_9e14\n    params: {'column_count': '-1', 'row_count': '10', 'column_offset': '0', 'row_offset': '0'}\n",
     "output_type": "error",
     "traceback": [
      "\u001b[0;31m---------------------------------------------------------------------------\u001b[0m",
      "\u001b[0;31mH2OResponseError\u001b[0m                          Traceback (most recent call last)",
      "\u001b[0;32m~/.local/share/virtualenvs/ml-rpc-LO9Wo36E/lib/python3.5/site-packages/IPython/core/formatters.py\u001b[0m in \u001b[0;36m__call__\u001b[0;34m(self, obj)\u001b[0m\n\u001b[1;32m    700\u001b[0m                 \u001b[0mtype_pprinters\u001b[0m\u001b[0;34m=\u001b[0m\u001b[0mself\u001b[0m\u001b[0;34m.\u001b[0m\u001b[0mtype_printers\u001b[0m\u001b[0;34m,\u001b[0m\u001b[0;34m\u001b[0m\u001b[0m\n\u001b[1;32m    701\u001b[0m                 deferred_pprinters=self.deferred_printers)\n\u001b[0;32m--> 702\u001b[0;31m             \u001b[0mprinter\u001b[0m\u001b[0;34m.\u001b[0m\u001b[0mpretty\u001b[0m\u001b[0;34m(\u001b[0m\u001b[0mobj\u001b[0m\u001b[0;34m)\u001b[0m\u001b[0;34m\u001b[0m\u001b[0m\n\u001b[0m\u001b[1;32m    703\u001b[0m             \u001b[0mprinter\u001b[0m\u001b[0;34m.\u001b[0m\u001b[0mflush\u001b[0m\u001b[0;34m(\u001b[0m\u001b[0;34m)\u001b[0m\u001b[0;34m\u001b[0m\u001b[0m\n\u001b[1;32m    704\u001b[0m             \u001b[0;32mreturn\u001b[0m \u001b[0mstream\u001b[0m\u001b[0;34m.\u001b[0m\u001b[0mgetvalue\u001b[0m\u001b[0;34m(\u001b[0m\u001b[0;34m)\u001b[0m\u001b[0;34m\u001b[0m\u001b[0m\n",
      "\u001b[0;32m~/.local/share/virtualenvs/ml-rpc-LO9Wo36E/lib/python3.5/site-packages/IPython/lib/pretty.py\u001b[0m in \u001b[0;36mpretty\u001b[0;34m(self, obj)\u001b[0m\n\u001b[1;32m    393\u001b[0m                             \u001b[0;32mif\u001b[0m \u001b[0mcallable\u001b[0m\u001b[0;34m(\u001b[0m\u001b[0mmeth\u001b[0m\u001b[0;34m)\u001b[0m\u001b[0;34m:\u001b[0m\u001b[0;34m\u001b[0m\u001b[0m\n\u001b[1;32m    394\u001b[0m                                 \u001b[0;32mreturn\u001b[0m \u001b[0mmeth\u001b[0m\u001b[0;34m(\u001b[0m\u001b[0mobj\u001b[0m\u001b[0;34m,\u001b[0m \u001b[0mself\u001b[0m\u001b[0;34m,\u001b[0m \u001b[0mcycle\u001b[0m\u001b[0;34m)\u001b[0m\u001b[0;34m\u001b[0m\u001b[0m\n\u001b[0;32m--> 395\u001b[0;31m             \u001b[0;32mreturn\u001b[0m \u001b[0m_default_pprint\u001b[0m\u001b[0;34m(\u001b[0m\u001b[0mobj\u001b[0m\u001b[0;34m,\u001b[0m \u001b[0mself\u001b[0m\u001b[0;34m,\u001b[0m \u001b[0mcycle\u001b[0m\u001b[0;34m)\u001b[0m\u001b[0;34m\u001b[0m\u001b[0m\n\u001b[0m\u001b[1;32m    396\u001b[0m         \u001b[0;32mfinally\u001b[0m\u001b[0;34m:\u001b[0m\u001b[0;34m\u001b[0m\u001b[0m\n\u001b[1;32m    397\u001b[0m             \u001b[0mself\u001b[0m\u001b[0;34m.\u001b[0m\u001b[0mend_group\u001b[0m\u001b[0;34m(\u001b[0m\u001b[0;34m)\u001b[0m\u001b[0;34m\u001b[0m\u001b[0m\n",
      "\u001b[0;32m~/.local/share/virtualenvs/ml-rpc-LO9Wo36E/lib/python3.5/site-packages/IPython/lib/pretty.py\u001b[0m in \u001b[0;36m_default_pprint\u001b[0;34m(obj, p, cycle)\u001b[0m\n\u001b[1;32m    508\u001b[0m     \u001b[0;32mif\u001b[0m \u001b[0m_safe_getattr\u001b[0m\u001b[0;34m(\u001b[0m\u001b[0mklass\u001b[0m\u001b[0;34m,\u001b[0m \u001b[0;34m'__repr__'\u001b[0m\u001b[0;34m,\u001b[0m \u001b[0;32mNone\u001b[0m\u001b[0;34m)\u001b[0m \u001b[0;32mis\u001b[0m \u001b[0;32mnot\u001b[0m \u001b[0mobject\u001b[0m\u001b[0;34m.\u001b[0m\u001b[0m__repr__\u001b[0m\u001b[0;34m:\u001b[0m\u001b[0;34m\u001b[0m\u001b[0m\n\u001b[1;32m    509\u001b[0m         \u001b[0;31m# A user-provided repr. Find newlines and replace them with p.break_()\u001b[0m\u001b[0;34m\u001b[0m\u001b[0;34m\u001b[0m\u001b[0m\n\u001b[0;32m--> 510\u001b[0;31m         \u001b[0m_repr_pprint\u001b[0m\u001b[0;34m(\u001b[0m\u001b[0mobj\u001b[0m\u001b[0;34m,\u001b[0m \u001b[0mp\u001b[0m\u001b[0;34m,\u001b[0m \u001b[0mcycle\u001b[0m\u001b[0;34m)\u001b[0m\u001b[0;34m\u001b[0m\u001b[0m\n\u001b[0m\u001b[1;32m    511\u001b[0m         \u001b[0;32mreturn\u001b[0m\u001b[0;34m\u001b[0m\u001b[0m\n\u001b[1;32m    512\u001b[0m     \u001b[0mp\u001b[0m\u001b[0;34m.\u001b[0m\u001b[0mbegin_group\u001b[0m\u001b[0;34m(\u001b[0m\u001b[0;36m1\u001b[0m\u001b[0;34m,\u001b[0m \u001b[0;34m'<'\u001b[0m\u001b[0;34m)\u001b[0m\u001b[0;34m\u001b[0m\u001b[0m\n",
      "\u001b[0;32m~/.local/share/virtualenvs/ml-rpc-LO9Wo36E/lib/python3.5/site-packages/IPython/lib/pretty.py\u001b[0m in \u001b[0;36m_repr_pprint\u001b[0;34m(obj, p, cycle)\u001b[0m\n\u001b[1;32m    699\u001b[0m     \u001b[0;34m\"\"\"A pprint that just redirects to the normal repr function.\"\"\"\u001b[0m\u001b[0;34m\u001b[0m\u001b[0m\n\u001b[1;32m    700\u001b[0m     \u001b[0;31m# Find newlines and replace them with p.break_()\u001b[0m\u001b[0;34m\u001b[0m\u001b[0;34m\u001b[0m\u001b[0m\n\u001b[0;32m--> 701\u001b[0;31m     \u001b[0moutput\u001b[0m \u001b[0;34m=\u001b[0m \u001b[0mrepr\u001b[0m\u001b[0;34m(\u001b[0m\u001b[0mobj\u001b[0m\u001b[0;34m)\u001b[0m\u001b[0;34m\u001b[0m\u001b[0m\n\u001b[0m\u001b[1;32m    702\u001b[0m     \u001b[0;32mfor\u001b[0m \u001b[0midx\u001b[0m\u001b[0;34m,\u001b[0m\u001b[0moutput_line\u001b[0m \u001b[0;32min\u001b[0m \u001b[0menumerate\u001b[0m\u001b[0;34m(\u001b[0m\u001b[0moutput\u001b[0m\u001b[0;34m.\u001b[0m\u001b[0msplitlines\u001b[0m\u001b[0;34m(\u001b[0m\u001b[0;34m)\u001b[0m\u001b[0;34m)\u001b[0m\u001b[0;34m:\u001b[0m\u001b[0;34m\u001b[0m\u001b[0m\n\u001b[1;32m    703\u001b[0m         \u001b[0;32mif\u001b[0m \u001b[0midx\u001b[0m\u001b[0;34m:\u001b[0m\u001b[0;34m\u001b[0m\u001b[0m\n",
      "\u001b[0;32m~/.local/share/virtualenvs/ml-rpc-LO9Wo36E/lib/python3.5/site-packages/h2o/frame.py\u001b[0m in \u001b[0;36m__repr__\u001b[0;34m(self)\u001b[0m\n\u001b[1;32m    405\u001b[0m             \u001b[0mstk\u001b[0m \u001b[0;34m=\u001b[0m \u001b[0mtraceback\u001b[0m\u001b[0;34m.\u001b[0m\u001b[0mextract_stack\u001b[0m\u001b[0;34m(\u001b[0m\u001b[0;34m)\u001b[0m\u001b[0;34m\u001b[0m\u001b[0m\n\u001b[1;32m    406\u001b[0m             \u001b[0;32mif\u001b[0m \u001b[0;32mnot\u001b[0m \u001b[0;34m(\u001b[0m\u001b[0;34m\"IPython\"\u001b[0m \u001b[0;32min\u001b[0m \u001b[0mstk\u001b[0m\u001b[0;34m[\u001b[0m\u001b[0;34m-\u001b[0m\u001b[0;36m2\u001b[0m\u001b[0;34m]\u001b[0m\u001b[0;34m[\u001b[0m\u001b[0;36m0\u001b[0m\u001b[0;34m]\u001b[0m \u001b[0;32mand\u001b[0m \u001b[0;34m\"info\"\u001b[0m \u001b[0;34m==\u001b[0m \u001b[0mstk\u001b[0m\u001b[0;34m[\u001b[0m\u001b[0;34m-\u001b[0m\u001b[0;36m2\u001b[0m\u001b[0;34m]\u001b[0m\u001b[0;34m[\u001b[0m\u001b[0;36m2\u001b[0m\u001b[0;34m]\u001b[0m\u001b[0;34m)\u001b[0m\u001b[0;34m:\u001b[0m\u001b[0;34m\u001b[0m\u001b[0m\n\u001b[0;32m--> 407\u001b[0;31m                 \u001b[0mself\u001b[0m\u001b[0;34m.\u001b[0m\u001b[0mshow\u001b[0m\u001b[0;34m(\u001b[0m\u001b[0;34m)\u001b[0m\u001b[0;34m\u001b[0m\u001b[0m\n\u001b[0m\u001b[1;32m    408\u001b[0m         \u001b[0;32mreturn\u001b[0m \u001b[0;34m\"\"\u001b[0m\u001b[0;34m\u001b[0m\u001b[0m\n\u001b[1;32m    409\u001b[0m \u001b[0;34m\u001b[0m\u001b[0m\n",
      "\u001b[0;32m~/.local/share/virtualenvs/ml-rpc-LO9Wo36E/lib/python3.5/site-packages/h2o/frame.py\u001b[0m in \u001b[0;36mshow\u001b[0;34m(self, use_pandas, rows, cols)\u001b[0m\n\u001b[1;32m    417\u001b[0m             \u001b[0mprint\u001b[0m\u001b[0;34m(\u001b[0m\u001b[0;34m\"This H2OFrame has been removed.\"\u001b[0m\u001b[0;34m)\u001b[0m\u001b[0;34m\u001b[0m\u001b[0m\n\u001b[1;32m    418\u001b[0m             \u001b[0;32mreturn\u001b[0m\u001b[0;34m\u001b[0m\u001b[0m\n\u001b[0;32m--> 419\u001b[0;31m         \u001b[0;32mif\u001b[0m \u001b[0;32mnot\u001b[0m \u001b[0mself\u001b[0m\u001b[0;34m.\u001b[0m\u001b[0m_ex\u001b[0m\u001b[0;34m.\u001b[0m\u001b[0m_cache\u001b[0m\u001b[0;34m.\u001b[0m\u001b[0mis_valid\u001b[0m\u001b[0;34m(\u001b[0m\u001b[0;34m)\u001b[0m\u001b[0;34m:\u001b[0m \u001b[0mself\u001b[0m\u001b[0;34m.\u001b[0m\u001b[0m_frame\u001b[0m\u001b[0;34m(\u001b[0m\u001b[0;34m)\u001b[0m\u001b[0;34m.\u001b[0m\u001b[0m_ex\u001b[0m\u001b[0;34m.\u001b[0m\u001b[0m_cache\u001b[0m\u001b[0;34m.\u001b[0m\u001b[0mfill\u001b[0m\u001b[0;34m(\u001b[0m\u001b[0;34m)\u001b[0m\u001b[0;34m\u001b[0m\u001b[0m\n\u001b[0m\u001b[1;32m    420\u001b[0m         \u001b[0;32mif\u001b[0m \u001b[0mH2ODisplay\u001b[0m\u001b[0;34m.\u001b[0m\u001b[0m_in_ipy\u001b[0m\u001b[0;34m(\u001b[0m\u001b[0;34m)\u001b[0m\u001b[0;34m:\u001b[0m\u001b[0;34m\u001b[0m\u001b[0m\n\u001b[1;32m    421\u001b[0m             \u001b[0;32mimport\u001b[0m \u001b[0mIPython\u001b[0m\u001b[0;34m.\u001b[0m\u001b[0mdisplay\u001b[0m\u001b[0;34m\u001b[0m\u001b[0m\n",
      "\u001b[0;32m~/.local/share/virtualenvs/ml-rpc-LO9Wo36E/lib/python3.5/site-packages/h2o/expr.py\u001b[0m in \u001b[0;36mfill\u001b[0;34m(self, rows, rows_offset, cols, cols_offset, light)\u001b[0m\n\u001b[1;32m    339\u001b[0m         \u001b[0;32melse\u001b[0m\u001b[0;34m:\u001b[0m\u001b[0;34m\u001b[0m\u001b[0m\n\u001b[1;32m    340\u001b[0m             \u001b[0mendpoint\u001b[0m \u001b[0;34m=\u001b[0m \u001b[0;34m\"/3/Frames/%s\"\u001b[0m\u001b[0;34m\u001b[0m\u001b[0m\n\u001b[0;32m--> 341\u001b[0;31m         \u001b[0mres\u001b[0m \u001b[0;34m=\u001b[0m \u001b[0mh2o\u001b[0m\u001b[0;34m.\u001b[0m\u001b[0mapi\u001b[0m\u001b[0;34m(\u001b[0m\u001b[0;34m\"GET \"\u001b[0m \u001b[0;34m+\u001b[0m \u001b[0mendpoint\u001b[0m \u001b[0;34m%\u001b[0m \u001b[0mself\u001b[0m\u001b[0;34m.\u001b[0m\u001b[0m_id\u001b[0m\u001b[0;34m,\u001b[0m \u001b[0mdata\u001b[0m\u001b[0;34m=\u001b[0m\u001b[0mreq_params\u001b[0m\u001b[0;34m)\u001b[0m\u001b[0;34m[\u001b[0m\u001b[0;34m\"frames\"\u001b[0m\u001b[0;34m]\u001b[0m\u001b[0;34m[\u001b[0m\u001b[0;36m0\u001b[0m\u001b[0;34m]\u001b[0m\u001b[0;34m\u001b[0m\u001b[0m\n\u001b[0m\u001b[1;32m    342\u001b[0m         \u001b[0mself\u001b[0m\u001b[0;34m.\u001b[0m\u001b[0m_l\u001b[0m \u001b[0;34m=\u001b[0m \u001b[0mrows\u001b[0m\u001b[0;34m\u001b[0m\u001b[0m\n\u001b[1;32m    343\u001b[0m         \u001b[0mself\u001b[0m\u001b[0;34m.\u001b[0m\u001b[0m_nrows\u001b[0m \u001b[0;34m=\u001b[0m \u001b[0mres\u001b[0m\u001b[0;34m[\u001b[0m\u001b[0;34m\"rows\"\u001b[0m\u001b[0;34m]\u001b[0m\u001b[0;34m\u001b[0m\u001b[0m\n",
      "\u001b[0;32m~/.local/share/virtualenvs/ml-rpc-LO9Wo36E/lib/python3.5/site-packages/h2o/h2o.py\u001b[0m in \u001b[0;36mapi\u001b[0;34m(endpoint, data, json, filename, save_to)\u001b[0m\n\u001b[1;32m    102\u001b[0m     \u001b[0;31m# type checks are performed in H2OConnection class\u001b[0m\u001b[0;34m\u001b[0m\u001b[0;34m\u001b[0m\u001b[0m\n\u001b[1;32m    103\u001b[0m     \u001b[0m_check_connection\u001b[0m\u001b[0;34m(\u001b[0m\u001b[0;34m)\u001b[0m\u001b[0;34m\u001b[0m\u001b[0m\n\u001b[0;32m--> 104\u001b[0;31m     \u001b[0;32mreturn\u001b[0m \u001b[0mh2oconn\u001b[0m\u001b[0;34m.\u001b[0m\u001b[0mrequest\u001b[0m\u001b[0;34m(\u001b[0m\u001b[0mendpoint\u001b[0m\u001b[0;34m,\u001b[0m \u001b[0mdata\u001b[0m\u001b[0;34m=\u001b[0m\u001b[0mdata\u001b[0m\u001b[0;34m,\u001b[0m \u001b[0mjson\u001b[0m\u001b[0;34m=\u001b[0m\u001b[0mjson\u001b[0m\u001b[0;34m,\u001b[0m \u001b[0mfilename\u001b[0m\u001b[0;34m=\u001b[0m\u001b[0mfilename\u001b[0m\u001b[0;34m,\u001b[0m \u001b[0msave_to\u001b[0m\u001b[0;34m=\u001b[0m\u001b[0msave_to\u001b[0m\u001b[0;34m)\u001b[0m\u001b[0;34m\u001b[0m\u001b[0m\n\u001b[0m\u001b[1;32m    105\u001b[0m \u001b[0;34m\u001b[0m\u001b[0m\n\u001b[1;32m    106\u001b[0m \u001b[0;34m\u001b[0m\u001b[0m\n",
      "\u001b[0;32m~/.local/share/virtualenvs/ml-rpc-LO9Wo36E/lib/python3.5/site-packages/h2o/backend/connection.py\u001b[0m in \u001b[0;36mrequest\u001b[0;34m(self, endpoint, data, json, filename, save_to)\u001b[0m\n\u001b[1;32m    400\u001b[0m                                     auth=self._auth, verify=self._verify_ssl_cert, proxies=self._proxies)\n\u001b[1;32m    401\u001b[0m             \u001b[0mself\u001b[0m\u001b[0;34m.\u001b[0m\u001b[0m_log_end_transaction\u001b[0m\u001b[0;34m(\u001b[0m\u001b[0mstart_time\u001b[0m\u001b[0;34m,\u001b[0m \u001b[0mresp\u001b[0m\u001b[0;34m)\u001b[0m\u001b[0;34m\u001b[0m\u001b[0m\n\u001b[0;32m--> 402\u001b[0;31m             \u001b[0;32mreturn\u001b[0m \u001b[0mself\u001b[0m\u001b[0;34m.\u001b[0m\u001b[0m_process_response\u001b[0m\u001b[0;34m(\u001b[0m\u001b[0mresp\u001b[0m\u001b[0;34m,\u001b[0m \u001b[0msave_to\u001b[0m\u001b[0;34m)\u001b[0m\u001b[0;34m\u001b[0m\u001b[0m\n\u001b[0m\u001b[1;32m    403\u001b[0m \u001b[0;34m\u001b[0m\u001b[0m\n\u001b[1;32m    404\u001b[0m         \u001b[0;32mexcept\u001b[0m \u001b[0;34m(\u001b[0m\u001b[0mrequests\u001b[0m\u001b[0;34m.\u001b[0m\u001b[0mexceptions\u001b[0m\u001b[0;34m.\u001b[0m\u001b[0mConnectionError\u001b[0m\u001b[0;34m,\u001b[0m \u001b[0mrequests\u001b[0m\u001b[0;34m.\u001b[0m\u001b[0mexceptions\u001b[0m\u001b[0;34m.\u001b[0m\u001b[0mHTTPError\u001b[0m\u001b[0;34m)\u001b[0m \u001b[0;32mas\u001b[0m \u001b[0me\u001b[0m\u001b[0;34m:\u001b[0m\u001b[0;34m\u001b[0m\u001b[0m\n",
      "\u001b[0;32m~/.local/share/virtualenvs/ml-rpc-LO9Wo36E/lib/python3.5/site-packages/h2o/backend/connection.py\u001b[0m in \u001b[0;36m_process_response\u001b[0;34m(response, save_to)\u001b[0m\n\u001b[1;32m    723\u001b[0m         \u001b[0;31m# Client errors (400 = \"Bad Request\", 404 = \"Not Found\", 412 = \"Precondition Failed\")\u001b[0m\u001b[0;34m\u001b[0m\u001b[0;34m\u001b[0m\u001b[0m\n\u001b[1;32m    724\u001b[0m         \u001b[0;32mif\u001b[0m \u001b[0mstatus_code\u001b[0m \u001b[0;32min\u001b[0m \u001b[0;34m{\u001b[0m\u001b[0;36m400\u001b[0m\u001b[0;34m,\u001b[0m \u001b[0;36m404\u001b[0m\u001b[0;34m,\u001b[0m \u001b[0;36m412\u001b[0m\u001b[0;34m}\u001b[0m \u001b[0;32mand\u001b[0m \u001b[0misinstance\u001b[0m\u001b[0;34m(\u001b[0m\u001b[0mdata\u001b[0m\u001b[0;34m,\u001b[0m \u001b[0;34m(\u001b[0m\u001b[0mH2OErrorV3\u001b[0m\u001b[0;34m,\u001b[0m \u001b[0mH2OModelBuilderErrorV3\u001b[0m\u001b[0;34m)\u001b[0m\u001b[0;34m)\u001b[0m\u001b[0;34m:\u001b[0m\u001b[0;34m\u001b[0m\u001b[0m\n\u001b[0;32m--> 725\u001b[0;31m             \u001b[0;32mraise\u001b[0m \u001b[0mH2OResponseError\u001b[0m\u001b[0;34m(\u001b[0m\u001b[0mdata\u001b[0m\u001b[0;34m)\u001b[0m\u001b[0;34m\u001b[0m\u001b[0m\n\u001b[0m\u001b[1;32m    726\u001b[0m \u001b[0;34m\u001b[0m\u001b[0m\n\u001b[1;32m    727\u001b[0m         \u001b[0;31m# Server errors (notably 500 = \"Server Error\")\u001b[0m\u001b[0;34m\u001b[0m\u001b[0;34m\u001b[0m\u001b[0m\n",
      "\u001b[0;31mH2OResponseError\u001b[0m: Server error water.exceptions.H2OKeyNotFoundArgumentException:\n  Error: Object 'py_12_sid_9e14' not found for argument: key\n  Request: GET /3/Frames/py_12_sid_9e14\n    params: {'column_count': '-1', 'row_count': '10', 'column_offset': '0', 'row_offset': '0'}\n"
     ]
    }
   ],
   "source": []
  },
  {
   "cell_type": "code",
   "execution_count": 74,
   "metadata": {},
   "outputs": [
    {
     "name": "stdout",
     "output_type": "stream",
     "text": [
      "Confusion Matrix (Act/Pred) for max f1 @ threshold = 0.3202420638863518: \n"
     ]
    },
    {
     "data": {
      "text/html": [
       "<div style=\"overflow:auto\"><table style=\"width:50%\"><tr><td><b></b></td>\n",
       "<td><b>0</b></td>\n",
       "<td><b>1</b></td>\n",
       "<td><b>Error</b></td>\n",
       "<td><b>Rate</b></td></tr>\n",
       "<tr><td>0</td>\n",
       "<td>30273.0</td>\n",
       "<td>110823.0</td>\n",
       "<td>0.7854</td>\n",
       "<td> (110823.0/141096.0)</td></tr>\n",
       "<tr><td>1</td>\n",
       "<td>8418.0</td>\n",
       "<td>130200.0</td>\n",
       "<td>0.0607</td>\n",
       "<td> (8418.0/138618.0)</td></tr>\n",
       "<tr><td>Total</td>\n",
       "<td>38691.0</td>\n",
       "<td>241023.0</td>\n",
       "<td>0.4263</td>\n",
       "<td> (119241.0/279714.0)</td></tr></table></div>"
      ],
      "text/plain": [
       "       0      1       Error    Rate\n",
       "-----  -----  ------  -------  -------------------\n",
       "0      30273  110823  0.7854   (110823.0/141096.0)\n",
       "1      8418   130200  0.0607   (8418.0/138618.0)\n",
       "Total  38691  241023  0.4263   (119241.0/279714.0)"
      ]
     },
     "metadata": {},
     "output_type": "display_data"
    },
    {
     "data": {
      "text/plain": []
     },
     "execution_count": 74,
     "metadata": {},
     "output_type": "execute_result"
    }
   ],
   "source": [
    "res = glm_model.model_performance(test)\n",
    "res.confusion_matrix()"
   ]
  },
  {
   "cell_type": "code",
   "execution_count": 75,
   "metadata": {},
   "outputs": [
    {
     "name": "stdout",
     "output_type": "stream",
     "text": [
      "\n",
      "ModelMetricsBinomialGLM: glm\n",
      "** Reported on test data. **\n",
      "\n",
      "MSE: 0.21759588982272896\n",
      "RMSE: 0.46647174600690333\n",
      "LogLoss: 0.6239277152595961\n",
      "Null degrees of freedom: 83866\n",
      "Residual degrees of freedom: 79014\n",
      "Null deviance: 387778.6744175968\n",
      "Residual deviance: 349044.61805842514\n",
      "AIC: 358750.61805842514\n",
      "AUC: 0.7035791306895839\n",
      "Gini: 0.4071582613791678\n",
      "Confusion Matrix (Act/Pred) for max f1 @ threshold = 0.3202420638863518: \n"
     ]
    },
    {
     "data": {
      "text/html": [
       "<div style=\"overflow:auto\"><table style=\"width:50%\"><tr><td><b></b></td>\n",
       "<td><b>0</b></td>\n",
       "<td><b>1</b></td>\n",
       "<td><b>Error</b></td>\n",
       "<td><b>Rate</b></td></tr>\n",
       "<tr><td>0</td>\n",
       "<td>30273.0</td>\n",
       "<td>110823.0</td>\n",
       "<td>0.7854</td>\n",
       "<td> (110823.0/141096.0)</td></tr>\n",
       "<tr><td>1</td>\n",
       "<td>8418.0</td>\n",
       "<td>130200.0</td>\n",
       "<td>0.0607</td>\n",
       "<td> (8418.0/138618.0)</td></tr>\n",
       "<tr><td>Total</td>\n",
       "<td>38691.0</td>\n",
       "<td>241023.0</td>\n",
       "<td>0.4263</td>\n",
       "<td> (119241.0/279714.0)</td></tr></table></div>"
      ],
      "text/plain": [
       "       0      1       Error    Rate\n",
       "-----  -----  ------  -------  -------------------\n",
       "0      30273  110823  0.7854   (110823.0/141096.0)\n",
       "1      8418   130200  0.0607   (8418.0/138618.0)\n",
       "Total  38691  241023  0.4263   (119241.0/279714.0)"
      ]
     },
     "metadata": {},
     "output_type": "display_data"
    },
    {
     "name": "stdout",
     "output_type": "stream",
     "text": [
      "Maximum Metrics: Maximum metrics at their respective thresholds\n",
      "\n"
     ]
    },
    {
     "data": {
      "text/html": [
       "<div style=\"overflow:auto\"><table style=\"width:50%\"><tr><td><b>metric</b></td>\n",
       "<td><b>threshold</b></td>\n",
       "<td><b>value</b></td>\n",
       "<td><b>idx</b></td></tr>\n",
       "<tr><td>max f1</td>\n",
       "<td>0.3202421</td>\n",
       "<td>0.6859109</td>\n",
       "<td>309.0</td></tr>\n",
       "<tr><td>max f2</td>\n",
       "<td>0.2423946</td>\n",
       "<td>0.8335625</td>\n",
       "<td>352.0</td></tr>\n",
       "<tr><td>max f0point5</td>\n",
       "<td>0.5287998</td>\n",
       "<td>0.6498926</td>\n",
       "<td>167.0</td></tr>\n",
       "<tr><td>max accuracy</td>\n",
       "<td>0.5287998</td>\n",
       "<td>0.6485841</td>\n",
       "<td>167.0</td></tr>\n",
       "<tr><td>max precision</td>\n",
       "<td>0.9001828</td>\n",
       "<td>0.9096226</td>\n",
       "<td>6.0</td></tr>\n",
       "<tr><td>max recall</td>\n",
       "<td>0.1348980</td>\n",
       "<td>1.0</td>\n",
       "<td>391.0</td></tr>\n",
       "<tr><td>max specificity</td>\n",
       "<td>0.9214751</td>\n",
       "<td>0.9990155</td>\n",
       "<td>0.0</td></tr>\n",
       "<tr><td>max absolute_mcc</td>\n",
       "<td>0.5287998</td>\n",
       "<td>0.3032886</td>\n",
       "<td>167.0</td></tr>\n",
       "<tr><td>max min_per_class_accuracy</td>\n",
       "<td>0.4724479</td>\n",
       "<td>0.6409143</td>\n",
       "<td>204.0</td></tr>\n",
       "<tr><td>max mean_per_class_accuracy</td>\n",
       "<td>0.5287998</td>\n",
       "<td>0.6475764</td>\n",
       "<td>167.0</td></tr></table></div>"
      ],
      "text/plain": [
       "metric                       threshold    value     idx\n",
       "---------------------------  -----------  --------  -----\n",
       "max f1                       0.320242     0.685911  309\n",
       "max f2                       0.242395     0.833562  352\n",
       "max f0point5                 0.5288       0.649893  167\n",
       "max accuracy                 0.5288       0.648584  167\n",
       "max precision                0.900183     0.909623  6\n",
       "max recall                   0.134898     1         391\n",
       "max specificity              0.921475     0.999015  0\n",
       "max absolute_mcc             0.5288       0.303289  167\n",
       "max min_per_class_accuracy   0.472448     0.640914  204\n",
       "max mean_per_class_accuracy  0.5288       0.647576  167"
      ]
     },
     "metadata": {},
     "output_type": "display_data"
    },
    {
     "name": "stdout",
     "output_type": "stream",
     "text": [
      "Gains/Lift Table: Avg response rate: 50.96 %\n",
      "\n"
     ]
    },
    {
     "data": {
      "text/html": [
       "<div style=\"overflow:auto\"><table style=\"width:50%\"><tr><td><b></b></td>\n",
       "<td><b>group</b></td>\n",
       "<td><b>cumulative_data_fraction</b></td>\n",
       "<td><b>lower_threshold</b></td>\n",
       "<td><b>lift</b></td>\n",
       "<td><b>cumulative_lift</b></td>\n",
       "<td><b>response_rate</b></td>\n",
       "<td><b>cumulative_response_rate</b></td>\n",
       "<td><b>capture_rate</b></td>\n",
       "<td><b>cumulative_capture_rate</b></td>\n",
       "<td><b>gain</b></td>\n",
       "<td><b>cumulative_gain</b></td></tr>\n",
       "<tr><td></td>\n",
       "<td>1</td>\n",
       "<td>0.0136989</td>\n",
       "<td>0.9131380</td>\n",
       "<td>1.8456650</td>\n",
       "<td>1.8456650</td>\n",
       "<td>0.9405727</td>\n",
       "<td>0.9405727</td>\n",
       "<td>0.0252836</td>\n",
       "<td>0.0252836</td>\n",
       "<td>84.5665034</td>\n",
       "<td>84.5665034</td></tr>\n",
       "<tr><td></td>\n",
       "<td>2</td>\n",
       "<td>0.0247298</td>\n",
       "<td>0.9048919</td>\n",
       "<td>1.6002341</td>\n",
       "<td>1.7361888</td>\n",
       "<td>0.8154982</td>\n",
       "<td>0.8847823</td>\n",
       "<td>0.0176520</td>\n",
       "<td>0.0429356</td>\n",
       "<td>60.0234079</td>\n",
       "<td>73.6188799</td></tr>\n",
       "<tr><td></td>\n",
       "<td>3</td>\n",
       "<td>0.0326486</td>\n",
       "<td>0.9040682</td>\n",
       "<td>1.9622780</td>\n",
       "<td>1.7910263</td>\n",
       "<td>1.0</td>\n",
       "<td>0.9127281</td>\n",
       "<td>0.0155390</td>\n",
       "<td>0.0584746</td>\n",
       "<td>96.2277988</td>\n",
       "<td>79.1026254</td></tr>\n",
       "<tr><td></td>\n",
       "<td>4</td>\n",
       "<td>0.0396905</td>\n",
       "<td>0.8911642</td>\n",
       "<td>1.6436527</td>\n",
       "<td>1.7648793</td>\n",
       "<td>0.8376248</td>\n",
       "<td>0.8994033</td>\n",
       "<td>0.0115744</td>\n",
       "<td>0.0700489</td>\n",
       "<td>64.3652713</td>\n",
       "<td>76.4879336</td></tr>\n",
       "<tr><td></td>\n",
       "<td>5</td>\n",
       "<td>0.0507917</td>\n",
       "<td>0.8610153</td>\n",
       "<td>1.5645896</td>\n",
       "<td>1.7211034</td>\n",
       "<td>0.7973333</td>\n",
       "<td>0.8770946</td>\n",
       "<td>0.0173688</td>\n",
       "<td>0.0874178</td>\n",
       "<td>56.4589649</td>\n",
       "<td>72.1103359</td></tr>\n",
       "<tr><td></td>\n",
       "<td>6</td>\n",
       "<td>0.1014798</td>\n",
       "<td>0.7430386</td>\n",
       "<td>1.6290718</td>\n",
       "<td>1.6751346</td>\n",
       "<td>0.8301942</td>\n",
       "<td>0.8536683</td>\n",
       "<td>0.0825745</td>\n",
       "<td>0.1699923</td>\n",
       "<td>62.9071783</td>\n",
       "<td>67.5134553</td></tr>\n",
       "<tr><td></td>\n",
       "<td>7</td>\n",
       "<td>0.1522086</td>\n",
       "<td>0.6835313</td>\n",
       "<td>1.4810482</td>\n",
       "<td>1.6104486</td>\n",
       "<td>0.7547596</td>\n",
       "<td>0.8207036</td>\n",
       "<td>0.0751318</td>\n",
       "<td>0.2451241</td>\n",
       "<td>48.1048242</td>\n",
       "<td>61.0448553</td></tr>\n",
       "<tr><td></td>\n",
       "<td>8</td>\n",
       "<td>0.2026561</td>\n",
       "<td>0.6340847</td>\n",
       "<td>1.3122635</td>\n",
       "<td>1.5362208</td>\n",
       "<td>0.6687450</td>\n",
       "<td>0.7828762</td>\n",
       "<td>0.0662005</td>\n",
       "<td>0.3113246</td>\n",
       "<td>31.2263509</td>\n",
       "<td>53.6220808</td></tr>\n",
       "<tr><td></td>\n",
       "<td>9</td>\n",
       "<td>0.3033848</td>\n",
       "<td>0.5720481</td>\n",
       "<td>1.2494825</td>\n",
       "<td>1.4410191</td>\n",
       "<td>0.6367510</td>\n",
       "<td>0.7343603</td>\n",
       "<td>0.1258586</td>\n",
       "<td>0.4371832</td>\n",
       "<td>24.9482546</td>\n",
       "<td>44.1019102</td></tr>\n",
       "<tr><td></td>\n",
       "<td>10</td>\n",
       "<td>0.4038802</td>\n",
       "<td>0.5217734</td>\n",
       "<td>1.1059942</td>\n",
       "<td>1.3576565</td>\n",
       "<td>0.5636277</td>\n",
       "<td>0.6918778</td>\n",
       "<td>0.1111474</td>\n",
       "<td>0.5483306</td>\n",
       "<td>10.5994152</td>\n",
       "<td>35.7656533</td></tr>\n",
       "<tr><td></td>\n",
       "<td>11</td>\n",
       "<td>0.5035986</td>\n",
       "<td>0.4716709</td>\n",
       "<td>0.9363564</td>\n",
       "<td>1.2742342</td>\n",
       "<td>0.4771783</td>\n",
       "<td>0.6493648</td>\n",
       "<td>0.0933720</td>\n",
       "<td>0.6417026</td>\n",
       "<td>-6.3643586</td>\n",
       "<td>27.4234200</td></tr>\n",
       "<tr><td></td>\n",
       "<td>12</td>\n",
       "<td>0.6034947</td>\n",
       "<td>0.4352092</td>\n",
       "<td>0.9216804</td>\n",
       "<td>1.2158762</td>\n",
       "<td>0.4696992</td>\n",
       "<td>0.6196249</td>\n",
       "<td>0.0920722</td>\n",
       "<td>0.7337748</td>\n",
       "<td>-7.8319570</td>\n",
       "<td>21.5876238</td></tr>\n",
       "<tr><td></td>\n",
       "<td>13</td>\n",
       "<td>0.7028800</td>\n",
       "<td>0.3949831</td>\n",
       "<td>0.8288794</td>\n",
       "<td>1.1611559</td>\n",
       "<td>0.4224067</td>\n",
       "<td>0.5917387</td>\n",
       "<td>0.0823785</td>\n",
       "<td>0.8161533</td>\n",
       "<td>-17.1120568</td>\n",
       "<td>16.1155920</td></tr>\n",
       "<tr><td></td>\n",
       "<td>14</td>\n",
       "<td>0.8023579</td>\n",
       "<td>0.3537351</td>\n",
       "<td>0.7806630</td>\n",
       "<td>1.1139817</td>\n",
       "<td>0.3978351</td>\n",
       "<td>0.5676982</td>\n",
       "<td>0.0776587</td>\n",
       "<td>0.8938120</td>\n",
       "<td>-21.9337013</td>\n",
       "<td>11.3981675</td></tr>\n",
       "<tr><td></td>\n",
       "<td>15</td>\n",
       "<td>0.9014065</td>\n",
       "<td>0.2928114</td>\n",
       "<td>0.6364006</td>\n",
       "<td>1.0615040</td>\n",
       "<td>0.3243173</td>\n",
       "<td>0.5409549</td>\n",
       "<td>0.0630346</td>\n",
       "<td>0.9568466</td>\n",
       "<td>-36.3599387</td>\n",
       "<td>6.1503967</td></tr>\n",
       "<tr><td></td>\n",
       "<td>16</td>\n",
       "<td>1.0</td>\n",
       "<td>0.0896105</td>\n",
       "<td>0.4376902</td>\n",
       "<td>1.0</td>\n",
       "<td>0.2230521</td>\n",
       "<td>0.5096118</td>\n",
       "<td>0.0431534</td>\n",
       "<td>1.0</td>\n",
       "<td>-56.2309785</td>\n",
       "<td>0.0</td></tr></table></div>"
      ],
      "text/plain": [
       "    group    cumulative_data_fraction    lower_threshold    lift      cumulative_lift    response_rate    cumulative_response_rate    capture_rate    cumulative_capture_rate    gain      cumulative_gain\n",
       "--  -------  --------------------------  -----------------  --------  -----------------  ---------------  --------------------------  --------------  -------------------------  --------  -----------------\n",
       "    1        0.0136989                   0.913138           1.84567   1.84567            0.940573         0.940573                    0.0252836       0.0252836                  84.5665   84.5665\n",
       "    2        0.0247298                   0.904892           1.60023   1.73619            0.815498         0.884782                    0.017652        0.0429356                  60.0234   73.6189\n",
       "    3        0.0326486                   0.904068           1.96228   1.79103            1                0.912728                    0.015539        0.0584746                  96.2278   79.1026\n",
       "    4        0.0396905                   0.891164           1.64365   1.76488            0.837625         0.899403                    0.0115744       0.0700489                  64.3653   76.4879\n",
       "    5        0.0507917                   0.861015           1.56459   1.7211             0.797333         0.877095                    0.0173688       0.0874178                  56.459    72.1103\n",
       "    6        0.10148                     0.743039           1.62907   1.67513            0.830194         0.853668                    0.0825745       0.169992                   62.9072   67.5135\n",
       "    7        0.152209                    0.683531           1.48105   1.61045            0.75476          0.820704                    0.0751318       0.245124                   48.1048   61.0449\n",
       "    8        0.202656                    0.634085           1.31226   1.53622            0.668745         0.782876                    0.0662005       0.311325                   31.2264   53.6221\n",
       "    9        0.303385                    0.572048           1.24948   1.44102            0.636751         0.73436                     0.125859        0.437183                   24.9483   44.1019\n",
       "    10       0.40388                     0.521773           1.10599   1.35766            0.563628         0.691878                    0.111147        0.548331                   10.5994   35.7657\n",
       "    11       0.503599                    0.471671           0.936356  1.27423            0.477178         0.649365                    0.093372        0.641703                   -6.36436  27.4234\n",
       "    12       0.603495                    0.435209           0.92168   1.21588            0.469699         0.619625                    0.0920722       0.733775                   -7.83196  21.5876\n",
       "    13       0.70288                     0.394983           0.828879  1.16116            0.422407         0.591739                    0.0823785       0.816153                   -17.1121  16.1156\n",
       "    14       0.802358                    0.353735           0.780663  1.11398            0.397835         0.567698                    0.0776587       0.893812                   -21.9337  11.3982\n",
       "    15       0.901407                    0.292811           0.636401  1.0615             0.324317         0.540955                    0.0630346       0.956847                   -36.3599  6.1504\n",
       "    16       1                           0.0896105          0.43769   1                  0.223052         0.509612                    0.0431534       1                          -56.231   0"
      ]
     },
     "metadata": {},
     "output_type": "display_data"
    },
    {
     "name": "stdout",
     "output_type": "stream",
     "text": [
      "\n"
     ]
    },
    {
     "data": {
      "text/plain": []
     },
     "execution_count": 75,
     "metadata": {},
     "output_type": "execute_result"
    }
   ],
   "source": [
    "res"
   ]
  },
  {
   "cell_type": "code",
   "execution_count": 72,
   "metadata": {},
   "outputs": [],
   "source": [
    "h2o.remove_all()"
   ]
  },
  {
   "cell_type": "code",
   "execution_count": null,
   "metadata": {},
   "outputs": [],
   "source": []
  }
 ],
 "metadata": {
  "kernelspec": {
   "display_name": "Python 3",
   "language": "python",
   "name": "python3"
  },
  "language_info": {
   "codemirror_mode": {
    "name": "ipython",
    "version": 3
   },
   "file_extension": ".py",
   "mimetype": "text/x-python",
   "name": "python",
   "nbconvert_exporter": "python",
   "pygments_lexer": "ipython3",
   "version": "3.5.2"
  }
 },
 "nbformat": 4,
 "nbformat_minor": 2
}
