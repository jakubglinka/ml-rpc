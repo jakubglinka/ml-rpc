{
 "cells": [
  {
   "cell_type": "markdown",
   "metadata": {},
   "source": [
    "## Prediction of Revenue Per Click"
   ]
  },
  {
   "cell_type": "code",
   "execution_count": 2,
   "metadata": {},
   "outputs": [
    {
     "data": {
      "text/plain": [
       "Ellipsis"
      ]
     },
     "execution_count": 2,
     "metadata": {},
     "output_type": "execute_result"
    }
   ],
   "source": [
    "# user settings\n",
    "min_clicks_per_keyword = 100\n",
    "pval_keyword = .01\n",
    "...\n"
   ]
  },
  {
   "cell_type": "markdown",
   "metadata": {},
   "source": [
    "### Architecture details:"
   ]
  },
  {
   "cell_type": "markdown",
   "metadata": {},
   "source": [
    "![alt text](https://i0.wp.com/blog.h2o.ai/wp-content/uploads/2017/04/hdi-image5.jpg?resize=700%2C394)"
   ]
  },
  {
   "cell_type": "markdown",
   "metadata": {
    "scrolled": false
   },
   "source": [
    "As a master node we are using AWS `t2.x2large` instance with following specs:"
   ]
  },
  {
   "cell_type": "code",
   "execution_count": 3,
   "metadata": {},
   "outputs": [
    {
     "name": "stdout",
     "output_type": "stream",
     "text": [
      "H/W path    Device  Class      Description\n",
      "==========================================\n",
      "                    system     HVM domU\n",
      "/0                  bus        Motherboard\n",
      "/0/0                memory     96KiB BIOS\n",
      "/0/401              processor  Intel(R) Xeon(R) CPU E5-2676 v3 @ 2.40GHz\n",
      "/0/402              processor  CPU\n",
      "/0/403              processor  CPU\n",
      "/0/404              processor  CPU\n",
      "/0/405              processor  CPU\n",
      "/0/406              processor  CPU\n",
      "/0/407              processor  CPU\n",
      "/0/408              processor  CPU\n",
      "/0/1000             memory     32GiB System Memory\n",
      "/0/1000/0           memory     16GiB DIMM RAM\n",
      "/0/1000/1           memory     16GiB DIMM RAM\n",
      "/0/100              bridge     440FX - 82441FX PMC [Natoma]\n",
      "/0/100/1            bridge     82371SB PIIX3 ISA [Natoma/Triton II]\n",
      "/0/100/1.1          storage    82371SB PIIX3 IDE [Natoma/Triton II]\n",
      "/0/100/1.3          bridge     82371AB/EB/MB PIIX4 ACPI\n",
      "/0/100/2            display    GD 5446\n",
      "/0/100/3            generic    Xen Platform Device\n",
      "/1          eth0    network    Ethernet interface\n"
     ]
    }
   ],
   "source": [
    "!sudo lshw -short"
   ]
  },
  {
   "cell_type": "markdown",
   "metadata": {},
   "source": [
    "### Data acquisition and ETL"
   ]
  },
  {
   "cell_type": "code",
   "execution_count": 5,
   "metadata": {},
   "outputs": [
    {
     "data": {
      "text/plain": [
       "8285423"
      ]
     },
     "execution_count": 5,
     "metadata": {},
     "output_type": "execute_result"
    }
   ],
   "source": [
    "# move tables from s3 to local sql warehouse\n",
    "# spark.read.csv(\"s3n://jakubs-bucket/\", header=True, inferSchema=True)\n",
    "sdf_train = spark.read.csv(\"s3n://jakubs-bucket/rpc/train.csv\", header=True, inferSchema=True)\n",
    "sdf_train.persist()\n",
    "sdf_train.count()"
   ]
  },
  {
   "cell_type": "code",
   "execution_count": 6,
   "metadata": {
    "scrolled": false
   },
   "outputs": [],
   "source": [
    "# spark.sql(\"drop table rpc.train\")\n",
    "# spark.sql('create database rpc');\n",
    "sdf_train.write.saveAsTable('rpc.train')"
   ]
  },
  {
   "cell_type": "markdown",
   "metadata": {},
   "source": [
    "#### Recover weighted binary response set\n",
    "\n",
    "Since we want to model probability of success (conversion) and revenue seperately we need to recover original event dataset. Since h2o models can handle case weights natively we only need to recreate events groups that ended with conversion and without along with their counts and genereated revenue. "
   ]
  },
  {
   "cell_type": "code",
   "execution_count": 15,
   "metadata": {},
   "outputs": [
    {
     "data": {
      "text/plain": [
       "0.03451276639078672"
      ]
     },
     "execution_count": 15,
     "metadata": {},
     "output_type": "execute_result"
    }
   ],
   "source": [
    "# more conversions than clicks (information about detailed user path is lost in this aggregated dataset)\n",
    "from pyspark.sql.functions import col\n",
    "\n",
    "sdf.select('Conversions', 'Clicks').filter(col('Conversions') > col('Clicks')).count() /  \\\n",
    "    sdf.filter(col('Conversions') > 0).count()"
   ]
  },
  {
   "cell_type": "code",
   "execution_count": 16,
   "metadata": {},
   "outputs": [],
   "source": [
    "# sdf.select('Date', 'Clicks', 'Conversions', 'Revenue').show(5)\n",
    "\n",
    "from pyspark.sql.functions import udf\n",
    "from pyspark.sql.types import ArrayType, StringType, IntegerType, DoubleType, StructType, StructField, Row\n",
    "\n",
    "# ?udf\n",
    "\n",
    "@udf(returnType=ArrayType(\n",
    "        StructType([\n",
    "            StructField('n', IntegerType(), False),\n",
    "            StructField('y', IntegerType(), False),\n",
    "            StructField('m', DoubleType(), False),\n",
    "        ])))\n",
    "def expand(clicks, conversions, revenue):\n",
    "    \n",
    "    if (conversions > clicks):\n",
    "        conversions = clicks\n",
    "\n",
    "    row0 = Row(n = clicks - conversions, y = 0, m = 0.0)\n",
    "    if ((conversions > 0) & (conversions < clicks)):\n",
    "            row1 = Row(n = conversions, y = 1, m = revenue / conversions)\n",
    "            res = [row0, row1]\n",
    "    elif ((conversions > 0) & (conversions == clicks)):\n",
    "            row1 = Row(n = conversions, y = 1, m = revenue / conversions)\n",
    "            res = [row1]\n",
    "    else:\n",
    "            res = [row0]\n",
    "    return res\n",
    "\n"
   ]
  },
  {
   "cell_type": "code",
   "execution_count": 17,
   "metadata": {},
   "outputs": [
    {
     "name": "stdout",
     "output_type": "stream",
     "text": [
      "root\n",
      " |-- Date: timestamp (nullable = true)\n",
      " |-- Keyword_ID: long (nullable = true)\n",
      " |-- Ad_group_ID: long (nullable = true)\n",
      " |-- Campaign_ID: long (nullable = true)\n",
      " |-- Account_ID: long (nullable = true)\n",
      " |-- Device_ID: long (nullable = true)\n",
      " |-- Match_type_ID: long (nullable = true)\n",
      " |-- Revenue: double (nullable = true)\n",
      " |-- Clicks: integer (nullable = true)\n",
      " |-- Conversions: integer (nullable = true)\n",
      " |-- n: integer (nullable = true)\n",
      " |-- y: integer (nullable = true)\n",
      " |-- m: double (nullable = true)\n",
      "\n"
     ]
    }
   ],
   "source": [
    "from pyspark.sql.functions import explode\n",
    "\n",
    "sdf_exp = sdf \\\n",
    "    .withColumn('test', explode(expand(col('Clicks'), col('Conversions'), col('Revenue')))) \\\n",
    "    .withColumn('n', col('test.n')) \\\n",
    "    .withColumn('y', col('test.y')) \\\n",
    "    .withColumn('m', col('test.m')) \\\n",
    "    .drop('test')\n",
    "    \n",
    "sdf_exp.printSchema()"
   ]
  },
  {
   "cell_type": "code",
   "execution_count": 79,
   "metadata": {},
   "outputs": [
    {
     "name": "stdout",
     "output_type": "stream",
     "text": [
      "+------+-----------+-------+---+\n",
      "|Clicks|Conversions|Revenue|  n|\n",
      "+------+-----------+-------+---+\n",
      "+------+-----------+-------+---+\n",
      "\n"
     ]
    }
   ],
   "source": [
    "sdf_exp.select('Clicks','Conversions', 'Revenue', 'n').filter(col('n') == 0).show()"
   ]
  },
  {
   "cell_type": "code",
   "execution_count": 19,
   "metadata": {},
   "outputs": [],
   "source": [
    "spark.sql(\"drop table if exists rpc.train_exp\")\n",
    "sdf_exp.write.saveAsTable('rpc.train_exp')"
   ]
  },
  {
   "cell_type": "markdown",
   "metadata": {},
   "source": [
    "### Task description:"
   ]
  },
  {
   "cell_type": "markdown",
   "metadata": {},
   "source": [
    "#### Advertiser programatic bidding:\n",
    "\n",
    " - The advertiser can set a price for each keyword/match type combination. \n",
    " - She can even refine her price setting by taking the device (computer, mobile, ...) into account. \n",
    " - She is furthermore free to update the prices whenever she wants. \n",
    "\n",
    "The set price mainly determines if her advertisement is shown to the user instead of a competitor’s one. Although the price decides on if the advertisement is shown, the advertiser only has to pay if the user clicks on the advertisement. A click redirects the user to the advertiser’s website offering him products that match what she was searching for. All the money the particular user spends in the next days on the advertiser’s website is attributed to the click, i.e. it is assumed that all the revenue the user generated with her conversions (=bookings, orders) after clicking on the advertisement was triggered by the advertisement.\n",
    "\n",
    "#### Keyword taxonomy:\n",
    "\n",
    "An online platform such as GetYourGuide provides easily thousands of products. Each product can have several relevant keywords such that the number of managed keywords is immense. Therefore, a hierarchy helps to categorize keywords:\n",
    "\n",
    " - **Keywords** belonging to the same product **are collected in an ad group**. \n",
    " - Several ad groups can contain the same keyword, the combination of keyword and ad group is then again unique. \n",
    " - **Ad groups** with a similar scope are bundled **in a campaign**. \n",
    " - **Campaigns** for a common target audience are collected **in the same account**.\n",
    "\n",
    "#### The question:\n",
    "\n",
    "A crucial question to answer when pricing the keywords is how much revenue one can expect from a click. In other words, what is the expected Revenue per Click (RPC). Answering this question is your task in this test."
   ]
  },
  {
   "cell_type": "markdown",
   "metadata": {},
   "source": [
    "#### Evaluation metrics:\n",
    "\n",
    "Click weighted squared distance:"
   ]
  },
  {
   "cell_type": "markdown",
   "metadata": {},
   "source": [
    "$$ cost = \\frac{1}{C} \\sum_{i=1}^{N} \\left[ c_n(r_n - \\hat{r_n})^2 \\right] $$"
   ]
  },
  {
   "cell_type": "markdown",
   "metadata": {},
   "source": [
    "This means that we can drop all rows from dataset where number of click was zero..."
   ]
  },
  {
   "cell_type": "markdown",
   "metadata": {},
   "source": [
    "### Data exploration\n",
    "\n",
    "Tables were previously migrated from S3 bucket to the local spark metastore to speed up accessibility:"
   ]
  },
  {
   "cell_type": "code",
   "execution_count": 4,
   "metadata": {
    "scrolled": true
   },
   "outputs": [],
   "source": [
    "from pyspark.sql import SparkSession\n",
    "spark = SparkSession \\\n",
    "        .builder \\\n",
    "        .appName('Jupyter') \\\n",
    "        .getOrCreate()"
   ]
  },
  {
   "cell_type": "code",
   "execution_count": 5,
   "metadata": {},
   "outputs": [
    {
     "data": {
      "text/html": [
       "\n",
       "            <div>\n",
       "                <p><b>SparkSession - hive</b></p>\n",
       "                \n",
       "        <div>\n",
       "            <p><b>SparkContext</b></p>\n",
       "\n",
       "            <p><a href=\"http://172.31.46.219:4040\">Spark UI</a></p>\n",
       "\n",
       "            <dl>\n",
       "              <dt>Version</dt>\n",
       "                <dd><code>v2.2.0</code></dd>\n",
       "              <dt>Master</dt>\n",
       "                <dd><code>local[8]</code></dd>\n",
       "              <dt>AppName</dt>\n",
       "                <dd><code>PySparkShell</code></dd>\n",
       "            </dl>\n",
       "        </div>\n",
       "        \n",
       "            </div>\n",
       "        "
      ],
      "text/plain": [
       "<pyspark.sql.session.SparkSession at 0x7f0029c1e2b0>"
      ]
     },
     "execution_count": 5,
     "metadata": {},
     "output_type": "execute_result"
    }
   ],
   "source": [
    "spark"
   ]
  },
  {
   "cell_type": "code",
   "execution_count": 6,
   "metadata": {},
   "outputs": [
    {
     "name": "stdout",
     "output_type": "stream",
     "text": [
      "\u001b[01;34m/home/ubuntu/spark-warehouse/\u001b[00m\r\n",
      "└── \u001b[01;34mrpc.db\u001b[00m\r\n",
      "    ├── \u001b[01;34mtrain\u001b[00m\r\n",
      "    │   ├── part-00000-8605fd82-a644-472a-baf9-34511d5143bc-c000.snappy.parquet\r\n",
      "    │   ├── part-00001-8605fd82-a644-472a-baf9-34511d5143bc-c000.snappy.parquet\r\n",
      "    │   ├── part-00002-8605fd82-a644-472a-baf9-34511d5143bc-c000.snappy.parquet\r\n",
      "    │   ├── part-00003-8605fd82-a644-472a-baf9-34511d5143bc-c000.snappy.parquet\r\n",
      "    │   ├── part-00004-8605fd82-a644-472a-baf9-34511d5143bc-c000.snappy.parquet\r\n",
      "    │   ├── part-00005-8605fd82-a644-472a-baf9-34511d5143bc-c000.snappy.parquet\r\n",
      "    │   ├── part-00006-8605fd82-a644-472a-baf9-34511d5143bc-c000.snappy.parquet\r\n",
      "    │   ├── part-00007-8605fd82-a644-472a-baf9-34511d5143bc-c000.snappy.parquet\r\n",
      "    │   └── _SUCCESS\r\n",
      "    └── \u001b[01;34mtrain_exp\u001b[00m\r\n",
      "        ├── part-00000-fce9b096-f3d3-4b2a-a79e-e6c62953810f-c000.snappy.parquet\r\n",
      "        ├── part-00001-fce9b096-f3d3-4b2a-a79e-e6c62953810f-c000.snappy.parquet\r\n",
      "        ├── part-00002-fce9b096-f3d3-4b2a-a79e-e6c62953810f-c000.snappy.parquet\r\n",
      "        ├── part-00003-fce9b096-f3d3-4b2a-a79e-e6c62953810f-c000.snappy.parquet\r\n",
      "        ├── part-00004-fce9b096-f3d3-4b2a-a79e-e6c62953810f-c000.snappy.parquet\r\n",
      "        ├── part-00005-fce9b096-f3d3-4b2a-a79e-e6c62953810f-c000.snappy.parquet\r\n",
      "        ├── part-00006-fce9b096-f3d3-4b2a-a79e-e6c62953810f-c000.snappy.parquet\r\n",
      "        ├── part-00007-fce9b096-f3d3-4b2a-a79e-e6c62953810f-c000.snappy.parquet\r\n",
      "        └── _SUCCESS\r\n",
      "\r\n",
      "3 directories, 18 files\r\n"
     ]
    }
   ],
   "source": [
    "!tree /home/ubuntu/spark-warehouse/"
   ]
  },
  {
   "cell_type": "code",
   "execution_count": 7,
   "metadata": {},
   "outputs": [
    {
     "name": "stdout",
     "output_type": "stream",
     "text": [
      "Filesystem     1K-blocks    Used Available Use% Mounted on\r\n",
      "udev            16465320       0  16465320   0% /dev\r\n",
      "tmpfs            3294660    8772   3285888   1% /run\r\n",
      "/dev/xvda1       8065444 4260220   3788840  53% /\r\n",
      "tmpfs           16473284       0  16473284   0% /dev/shm\r\n",
      "tmpfs               5120       0      5120   0% /run/lock\r\n",
      "tmpfs           16473284       0  16473284   0% /sys/fs/cgroup\r\n",
      "tmpfs            3294660      12   3294648   1% /run/user/1000\r\n"
     ]
    }
   ],
   "source": [
    "!df"
   ]
  },
  {
   "cell_type": "code",
   "execution_count": 8,
   "metadata": {},
   "outputs": [
    {
     "name": "stdout",
     "output_type": "stream",
     "text": [
      "root\n",
      " |-- Date: timestamp (nullable = true)\n",
      " |-- Keyword_ID: long (nullable = true)\n",
      " |-- Ad_group_ID: long (nullable = true)\n",
      " |-- Campaign_ID: long (nullable = true)\n",
      " |-- Account_ID: long (nullable = true)\n",
      " |-- Device_ID: long (nullable = true)\n",
      " |-- Match_type_ID: long (nullable = true)\n",
      " |-- Revenue: double (nullable = true)\n",
      " |-- Clicks: integer (nullable = true)\n",
      " |-- Conversions: integer (nullable = true)\n",
      "\n"
     ]
    },
    {
     "data": {
      "text/plain": [
       "8285423"
      ]
     },
     "execution_count": 8,
     "metadata": {},
     "output_type": "execute_result"
    }
   ],
   "source": [
    "sdf = spark.sql(\"select * from rpc.train\")\n",
    "sdf.printSchema()\n",
    "sdf.persist()\n",
    "sdf.count()"
   ]
  },
  {
   "cell_type": "code",
   "execution_count": 9,
   "metadata": {},
   "outputs": [
    {
     "name": "stdout",
     "output_type": "stream",
     "text": [
      "root\n",
      " |-- Date: timestamp (nullable = true)\n",
      " |-- Keyword_ID: long (nullable = true)\n",
      " |-- Ad_group_ID: long (nullable = true)\n",
      " |-- Campaign_ID: long (nullable = true)\n",
      " |-- Account_ID: long (nullable = true)\n",
      " |-- Device_ID: long (nullable = true)\n",
      " |-- Match_type_ID: long (nullable = true)\n",
      " |-- Revenue: double (nullable = true)\n",
      " |-- Clicks: integer (nullable = true)\n",
      " |-- Conversions: integer (nullable = true)\n",
      " |-- n: integer (nullable = true)\n",
      " |-- y: integer (nullable = true)\n",
      " |-- m: double (nullable = true)\n",
      "\n"
     ]
    },
    {
     "data": {
      "text/plain": [
       "8362990"
      ]
     },
     "execution_count": 9,
     "metadata": {},
     "output_type": "execute_result"
    }
   ],
   "source": [
    "sdf_exp = spark.sql(\"select * from rpc.train_exp\")\n",
    "sdf_exp.printSchema()\n",
    "sdf_exp.persist()\n",
    "sdf_exp.count()"
   ]
  },
  {
   "cell_type": "markdown",
   "metadata": {},
   "source": [
    "### Target variable\n",
    "\n",
    "Hypotheses:\n",
    "\n",
    " - we can aggregate data over time, i.e. probability of Conversion is conditionaly independent of time\n",
    " - Revenue is conidtionaly-independent from probability of conversion &#9989;\n",
    " - Revenue does not depend on time?\n",
    "\n",
    "where conditionality is on search keywords.\n",
    "\n",
    " - target variable is an compound distribution where we need to model conversion at all and conditionally respective revenue\n",
    " - probably we will just use glm model for that here with possibility of extending with tensorflow and rf for revenue\n",
    " - and normal rf as a baseline\n",
    " \n",
    " \n",
    " - we need to explode here !!!"
   ]
  },
  {
   "cell_type": "markdown",
   "metadata": {},
   "source": [
    "### Target variables relationship:"
   ]
  },
  {
   "cell_type": "code",
   "execution_count": 10,
   "metadata": {},
   "outputs": [],
   "source": [
    "from pyspark.sql.functions import col, log, sum\n",
    "pdf = sdf \\\n",
    "        .withColumn('log_prob_of_conv', log(col('Conversions') / col('Clicks'))) \\\n",
    "        .withColumn('prob_of_conv', col('Conversions') / col('Clicks')) \\\n",
    "        .withColumn('log_of_revenue', log(1 + col('Revenue'))) \\\n",
    "        .withColumn('rpc', (col('Revenue') / col('Clicks'))) \\\n",
    "        .select('Clicks', 'Conversions' ,'log_prob_of_conv', 'log_of_revenue', 'rpc') \\\n",
    "        .sample(True, .01).toPandas()"
   ]
  },
  {
   "cell_type": "code",
   "execution_count": 9,
   "metadata": {},
   "outputs": [
    {
     "data": {
      "text/html": [
       "<div>\n",
       "<style scoped>\n",
       "    .dataframe tbody tr th:only-of-type {\n",
       "        vertical-align: middle;\n",
       "    }\n",
       "\n",
       "    .dataframe tbody tr th {\n",
       "        vertical-align: top;\n",
       "    }\n",
       "\n",
       "    .dataframe thead th {\n",
       "        text-align: right;\n",
       "    }\n",
       "</style>\n",
       "<table border=\"1\" class=\"dataframe\">\n",
       "  <thead>\n",
       "    <tr style=\"text-align: right;\">\n",
       "      <th></th>\n",
       "      <th>Clicks</th>\n",
       "      <th>Conversions</th>\n",
       "      <th>log_prob_of_conv</th>\n",
       "      <th>log_of_revenue</th>\n",
       "      <th>rpc</th>\n",
       "    </tr>\n",
       "  </thead>\n",
       "  <tbody>\n",
       "    <tr>\n",
       "      <th>Clicks</th>\n",
       "      <td>1.000000</td>\n",
       "      <td>0.279966</td>\n",
       "      <td>-0.593669</td>\n",
       "      <td>0.163586</td>\n",
       "      <td>0.001101</td>\n",
       "    </tr>\n",
       "    <tr>\n",
       "      <th>Conversions</th>\n",
       "      <td>0.279966</td>\n",
       "      <td>1.000000</td>\n",
       "      <td>0.042629</td>\n",
       "      <td>0.671729</td>\n",
       "      <td>0.396272</td>\n",
       "    </tr>\n",
       "    <tr>\n",
       "      <th>log_prob_of_conv</th>\n",
       "      <td>-0.593669</td>\n",
       "      <td>0.042629</td>\n",
       "      <td>1.000000</td>\n",
       "      <td>-0.011041</td>\n",
       "      <td>0.436153</td>\n",
       "    </tr>\n",
       "    <tr>\n",
       "      <th>log_of_revenue</th>\n",
       "      <td>0.163586</td>\n",
       "      <td>0.671729</td>\n",
       "      <td>-0.011041</td>\n",
       "      <td>1.000000</td>\n",
       "      <td>0.650799</td>\n",
       "    </tr>\n",
       "    <tr>\n",
       "      <th>rpc</th>\n",
       "      <td>0.001101</td>\n",
       "      <td>0.396272</td>\n",
       "      <td>0.436153</td>\n",
       "      <td>0.650799</td>\n",
       "      <td>1.000000</td>\n",
       "    </tr>\n",
       "  </tbody>\n",
       "</table>\n",
       "</div>"
      ],
      "text/plain": [
       "                    Clicks  Conversions  log_prob_of_conv  log_of_revenue  \\\n",
       "Clicks            1.000000     0.279966         -0.593669        0.163586   \n",
       "Conversions       0.279966     1.000000          0.042629        0.671729   \n",
       "log_prob_of_conv -0.593669     0.042629          1.000000       -0.011041   \n",
       "log_of_revenue    0.163586     0.671729         -0.011041        1.000000   \n",
       "rpc               0.001101     0.396272          0.436153        0.650799   \n",
       "\n",
       "                       rpc  \n",
       "Clicks            0.001101  \n",
       "Conversions       0.396272  \n",
       "log_prob_of_conv  0.436153  \n",
       "log_of_revenue    0.650799  \n",
       "rpc               1.000000  "
      ]
     },
     "execution_count": 9,
     "metadata": {},
     "output_type": "execute_result"
    }
   ],
   "source": [
    "pdf.corr()"
   ]
  },
  {
   "cell_type": "code",
   "execution_count": 10,
   "metadata": {},
   "outputs": [
    {
     "data": {
      "text/html": [
       "<div>\n",
       "<style scoped>\n",
       "    .dataframe tbody tr th:only-of-type {\n",
       "        vertical-align: middle;\n",
       "    }\n",
       "\n",
       "    .dataframe tbody tr th {\n",
       "        vertical-align: top;\n",
       "    }\n",
       "\n",
       "    .dataframe thead th {\n",
       "        text-align: right;\n",
       "    }\n",
       "</style>\n",
       "<table border=\"1\" class=\"dataframe\">\n",
       "  <thead>\n",
       "    <tr style=\"text-align: right;\">\n",
       "      <th></th>\n",
       "      <th>Clicks</th>\n",
       "      <th>Conversions</th>\n",
       "      <th>log_prob_of_conv</th>\n",
       "      <th>log_of_revenue</th>\n",
       "      <th>rpc</th>\n",
       "    </tr>\n",
       "  </thead>\n",
       "  <tbody>\n",
       "    <tr>\n",
       "      <th>count</th>\n",
       "      <td>82540.000000</td>\n",
       "      <td>82540.000000</td>\n",
       "      <td>1575.000000</td>\n",
       "      <td>82540.000000</td>\n",
       "      <td>82540.000000</td>\n",
       "    </tr>\n",
       "    <tr>\n",
       "      <th>mean</th>\n",
       "      <td>3.325963</td>\n",
       "      <td>0.048110</td>\n",
       "      <td>-0.668742</td>\n",
       "      <td>0.163523</td>\n",
       "      <td>49.699482</td>\n",
       "    </tr>\n",
       "    <tr>\n",
       "      <th>std</th>\n",
       "      <td>5.005996</td>\n",
       "      <td>0.524101</td>\n",
       "      <td>0.955553</td>\n",
       "      <td>1.185124</td>\n",
       "      <td>594.808611</td>\n",
       "    </tr>\n",
       "    <tr>\n",
       "      <th>min</th>\n",
       "      <td>2.000000</td>\n",
       "      <td>0.000000</td>\n",
       "      <td>-4.705016</td>\n",
       "      <td>0.000000</td>\n",
       "      <td>0.000000</td>\n",
       "    </tr>\n",
       "    <tr>\n",
       "      <th>25%</th>\n",
       "      <td>2.000000</td>\n",
       "      <td>0.000000</td>\n",
       "      <td>-1.386294</td>\n",
       "      <td>0.000000</td>\n",
       "      <td>0.000000</td>\n",
       "    </tr>\n",
       "    <tr>\n",
       "      <th>50%</th>\n",
       "      <td>2.000000</td>\n",
       "      <td>0.000000</td>\n",
       "      <td>0.000000</td>\n",
       "      <td>0.000000</td>\n",
       "      <td>0.000000</td>\n",
       "    </tr>\n",
       "    <tr>\n",
       "      <th>75%</th>\n",
       "      <td>2.000000</td>\n",
       "      <td>0.000000</td>\n",
       "      <td>0.000000</td>\n",
       "      <td>0.000000</td>\n",
       "      <td>0.000000</td>\n",
       "    </tr>\n",
       "    <tr>\n",
       "      <th>max</th>\n",
       "      <td>342.000000</td>\n",
       "      <td>85.000000</td>\n",
       "      <td>1.945910</td>\n",
       "      <td>11.945582</td>\n",
       "      <td>53471.520000</td>\n",
       "    </tr>\n",
       "  </tbody>\n",
       "</table>\n",
       "</div>"
      ],
      "text/plain": [
       "             Clicks   Conversions  log_prob_of_conv  log_of_revenue  \\\n",
       "count  82540.000000  82540.000000       1575.000000    82540.000000   \n",
       "mean       3.325963      0.048110         -0.668742        0.163523   \n",
       "std        5.005996      0.524101          0.955553        1.185124   \n",
       "min        2.000000      0.000000         -4.705016        0.000000   \n",
       "25%        2.000000      0.000000         -1.386294        0.000000   \n",
       "50%        2.000000      0.000000          0.000000        0.000000   \n",
       "75%        2.000000      0.000000          0.000000        0.000000   \n",
       "max      342.000000     85.000000          1.945910       11.945582   \n",
       "\n",
       "                rpc  \n",
       "count  82540.000000  \n",
       "mean      49.699482  \n",
       "std      594.808611  \n",
       "min        0.000000  \n",
       "25%        0.000000  \n",
       "50%        0.000000  \n",
       "75%        0.000000  \n",
       "max    53471.520000  "
      ]
     },
     "execution_count": 10,
     "metadata": {},
     "output_type": "execute_result"
    }
   ],
   "source": [
    "pdf.describe()"
   ]
  },
  {
   "cell_type": "code",
   "execution_count": 11,
   "metadata": {
    "scrolled": true
   },
   "outputs": [
    {
     "data": {
      "text/plain": [
       "<matplotlib.axes._subplots.AxesSubplot at 0x7fecfa9f44a8>"
      ]
     },
     "execution_count": 11,
     "metadata": {},
     "output_type": "execute_result"
    }
   ],
   "source": [
    "pdf['rpc'].hist(bins=40)"
   ]
  },
  {
   "cell_type": "code",
   "execution_count": 12,
   "metadata": {},
   "outputs": [
    {
     "data": {
      "image/png": "[encoded data removed]",
      "text/plain": [
       "<matplotlib.figure.Figure at 0x7fecfa1112b0>"
      ]
     },
     "metadata": {},
     "output_type": "display_data"
    }
   ],
   "source": [
    "import pandas as pd\n",
    "import matplotlib.pyplot as plt\n",
    "%matplotlib inline\n",
    "\n",
    "p = pd.plotting.scatter_matrix(pdf, figsize=(11, 8), marker='o',\n",
    "                        hist_kwds={'bins': 20}, s=60, alpha=.8)"
   ]
  },
  {
   "cell_type": "markdown",
   "metadata": {},
   "source": [
    "### Model probability of conversion\n",
    "\n",
    "TODO's:\n",
    "\n",
    " - explode and save spark data frame &#9989;\n",
    " - baseline model\n",
    " - maximum and minimum attainable accuracy\n",
    " - add weighting of classes as a parameter to be tunned"
   ]
  },
  {
   "cell_type": "markdown",
   "metadata": {},
   "source": [
    "#### Class balancing"
   ]
  },
  {
   "cell_type": "code",
   "execution_count": 11,
   "metadata": {},
   "outputs": [
    {
     "name": "stdout",
     "output_type": "stream",
     "text": [
      "Class percentage before weighting: Y==1: 1.38%, Y==0: 98.62%\n"
     ]
    }
   ],
   "source": [
    "tmp_0 = sdf_exp.filter(col('y')==0).agg(sum(col('n')).alias('n')).collect()[0].n\n",
    "tmp_1 = sdf_exp.filter(col('y')==1).agg(sum(col('n')).alias('n')).collect()[0].n\n",
    "p_0 = tmp_0 / (tmp_0 + tmp_1) * 100\n",
    "print('Class percentage before weighting: Y==1: {:2.2f}%, Y==0: {:2.2f}%'.format(100 - p_0, p_0))"
   ]
  },
  {
   "cell_type": "code",
   "execution_count": 12,
   "metadata": {},
   "outputs": [],
   "source": [
    "# class weights\n",
    "N = tmp_0 + tmp_1\n",
    "w_0 = N * .5 / tmp_0\n",
    "w_1 = N * .5 / tmp_1"
   ]
  },
  {
   "cell_type": "code",
   "execution_count": 13,
   "metadata": {},
   "outputs": [
    {
     "name": "stdout",
     "output_type": "stream",
     "text": [
      "Class percentage after balancing: Y==1: 50.00%, Y==0: 50.00%\n"
     ]
    }
   ],
   "source": [
    "from pyspark.sql.functions import when\n",
    "\n",
    "sdf_exp_w = sdf_exp \\\n",
    "            .withColumn('n', when(col('y') == 1, col('n') * w_1).otherwise(col('n') * w_0))\n",
    "    \n",
    "tmp_0 = sdf_exp_w.filter(col('y')==0).agg(sum(col('n')).alias('n')).collect()[0].n\n",
    "tmp_1 = sdf_exp_w.filter(col('y')==1).agg(sum(col('n')).alias('n')).collect()[0].n\n",
    "p_0 = tmp_0 / (tmp_0 + tmp_1) * 100\n",
    "print('Class percentage after balancing: Y==1: {:2.2f}%, Y==0: {:2.2f}%'.format(100 - p_0, p_0))"
   ]
  },
  {
   "cell_type": "markdown",
   "metadata": {},
   "source": [
    "#### Maximum attainable accuracy\n",
    "\n",
    "$$ \\frac{1}{C} \\sum_{n = 1}^N c_n * \\mathrm{max_y}\\{c(y) \\} $$\n",
    "\n",
    "where $c(y)$ is a number of click events that ended with state $y$."
   ]
  },
  {
   "cell_type": "code",
   "execution_count": 14,
   "metadata": {},
   "outputs": [
    {
     "name": "stdout",
     "output_type": "stream",
     "text": [
      "Minimum possible error: 5.58%\n"
     ]
    }
   ],
   "source": [
    "from pyspark.sql.functions import when\n",
    "\n",
    "tmp = sdf_exp_w \\\n",
    "    .groupBy('Date', 'Keyword_ID', 'Match_type_ID') \\\n",
    "    .agg(*[sum('n').alias('Clicks'), sum(when(col('y')==1, col('n')).otherwise(0)).alias('Conversions')]) \\\n",
    "    .select('Conversions', 'Clicks') \\\n",
    "    .withColumn('score', when((col('Clicks') - col('Conversions')) > col('Conversions'), \n",
    "                              col('Clicks') - col('Conversions')).otherwise(col('Conversions'))) \\\n",
    "    .agg(sum(col('score')).alias('score'), sum(col('Clicks')).alias('Clicks')) \\\n",
    "    .collect()\n",
    "    \n",
    "print('Minimum possible error: {:2.2f}%'.format(100 - tmp[0].score / tmp[0].Clicks * 100) )"
   ]
  },
  {
   "cell_type": "markdown",
   "metadata": {},
   "source": [
    "#### Minimum attainable accuracy"
   ]
  },
  {
   "cell_type": "code",
   "execution_count": 15,
   "metadata": {},
   "outputs": [
    {
     "name": "stdout",
     "output_type": "stream",
     "text": [
      "Class majority error: 50.00%\n"
     ]
    }
   ],
   "source": [
    "tmp = sdf_exp_w \\\n",
    "    .groupBy('Date', 'Keyword_ID', 'Match_type_ID') \\\n",
    "    .agg(*[sum('n').alias('Clicks'), sum(when(col('y')==1, col('n')).otherwise(0)).alias('Conversions')]) \\\n",
    "    .select('Conversions', 'Clicks') \\\n",
    "    .withColumn('score', col('Clicks') - col('Conversions')) \\\n",
    "    .agg(sum(col('score')).alias('score'), sum(col('Clicks')).alias('Clicks')) \\\n",
    "    .collect()\n",
    "    \n",
    "print('Class majority error: {:2.2f}%'.format(100 - tmp[0].score / tmp[0].Clicks * 100) )"
   ]
  },
  {
   "cell_type": "markdown",
   "metadata": {},
   "source": [
    "### Average probability of conversion over time"
   ]
  },
  {
   "cell_type": "code",
   "execution_count": 16,
   "metadata": {},
   "outputs": [],
   "source": [
    "tmp = sdf \\\n",
    "        .groupBy('Date') \\\n",
    "        .agg(*[sum(col('Conversions')).alias('Conversions'), \n",
    "           sum(col('Clicks')).alias('Clicks'), \n",
    "           sum(col('Revenue')).alias('Revenue')]) \\\n",
    "        .withColumn('log_prob_of_conv', log(col('Conversions') / col('Clicks'))) \\\n",
    "        .withColumn('prob_of_conv', col('Conversions') / col('Clicks')) \\\n",
    "        .withColumn('log_of_revenue', log(1 + col('Revenue'))) \\\n",
    "        .withColumn('rpc', log(col('Revenue') / col('Clicks'))) \\\n",
    "        .orderBy(col('Date').asc()) \\\n",
    "        .toPandas()"
   ]
  },
  {
   "cell_type": "code",
   "execution_count": 18,
   "metadata": {},
   "outputs": [
    {
     "data": {
      "image/png": "[encoded data removed]",
      "text/plain": [
       "<matplotlib.figure.Figure at 0x7f00106be9e8>"
      ]
     },
     "metadata": {},
     "output_type": "display_data"
    },
    {
     "data": {
      "text/plain": [
       "<ggplot: (-9223363309463997198)>"
      ]
     },
     "execution_count": 18,
     "metadata": {},
     "output_type": "execute_result"
    }
   ],
   "source": [
    "from plotnine import ggplot, geom_line, aes, theme_bw\n",
    "import plotnine\n",
    "plotnine.options.figure_size = (11, 4)\n",
    "\n",
    "\n",
    "ggplot(aes(x='Date', y='prob_of_conv'), data=tmp) + geom_line() + theme_bw()"
   ]
  },
  {
   "cell_type": "markdown",
   "metadata": {},
   "source": [
    "### Remove rare keywords using Chi-Square test of independence"
   ]
  },
  {
   "cell_type": "code",
   "execution_count": 33,
   "metadata": {},
   "outputs": [
    {
     "name": "stdout",
     "output_type": "stream",
     "text": [
      "+------------+-----------------+------------------+------------------+------------------+\n",
      "|  Keyword_ID|                0|                 1|                 n|                 X|\n",
      "+------------+-----------------+------------------+------------------+------------------+\n",
      "|224325004348|97506.51582920473| 634419.9224103128| 731926.4382395175| 393859.2611300016|\n",
      "|168388674416|71210.18583206876|509118.08679383865| 580328.2726259074| 330439.4060572648|\n",
      "|421241223812|39691.90397693724|173818.64830666353|213510.55228360076| 84258.05353449748|\n",
      "|981509692733|27850.74789971986| 54359.15139110278| 82209.89929082264| 8547.577137591827|\n",
      "|928382372783|18634.25636316675|  60673.2317262509| 79307.48808941766|22283.840935491844|\n",
      "+------------+-----------------+------------------+------------------+------------------+\n",
      "only showing top 5 rows\n",
      "\n"
     ]
    },
    {
     "data": {
      "text/plain": [
       "487981"
      ]
     },
     "execution_count": 33,
     "metadata": {},
     "output_type": "execute_result"
    }
   ],
   "source": [
    "from pyspark.sql.functions import pow\n",
    "\n",
    "tmp = sdf_exp_w \\\n",
    "        .select('Keyword_ID', 'y', 'n') \\\n",
    "        .groupBy('Keyword_ID', 'y') \\\n",
    "        .agg(sum(col('n')).alias('n')) \\\n",
    "        .groupBy('Keyword_ID') \\\n",
    "        .pivot('y', [0, 1]).sum('n') \\\n",
    "        .withColumn('1', when(col('1').isNull(), 0.0).otherwise(col('1'))) \\\n",
    "        .withColumn('n', col('0') + col('1')) \\\n",
    "        .withColumn('X', pow(col('0') - col('n') * .5, 2) / (col('n') * .5) * 2.0) \\\n",
    "        .orderBy(col('n').desc()) \\\n",
    "        .persist()\n",
    "        \n",
    "tmp.show(5)\n",
    "tmp.count()"
   ]
  },
  {
   "cell_type": "code",
   "execution_count": 34,
   "metadata": {},
   "outputs": [
    {
     "data": {
      "text/plain": [
       "<matplotlib.axes._subplots.AxesSubplot at 0x7f000bae9f28>"
      ]
     },
     "execution_count": 34,
     "metadata": {},
     "output_type": "execute_result"
    },
    {
     "data": {
      "image/png": "[encoded data removed]",
      "text/plain": [
       "<matplotlib.figure.Figure at 0x7f0029d2ca20>"
      ]
     },
     "metadata": {},
     "output_type": "display_data"
    }
   ],
   "source": [
    "tmp.select('X').sample(fraction=.1, withReplacement=False, seed=2014).toPandas()['X'] \\\n",
    "    .hist(bins=30, figsize=(13, 5), range=[0, 200])\n"
   ]
  },
  {
   "cell_type": "markdown",
   "metadata": {},
   "source": [
    "https://en.wikipedia.org/wiki/Chi-squared_distribution#Table_of_χ2_values_vs_p-values"
   ]
  },
  {
   "cell_type": "code",
   "execution_count": 35,
   "metadata": {},
   "outputs": [
    {
     "name": "stdout",
     "output_type": "stream",
     "text": [
      "487981\n",
      "258954\n",
      "42264\n",
      "34685\n"
     ]
    }
   ],
   "source": [
    "# very at least 100 searches and Pval<.01\n",
    "\n",
    "print(tmp.count())\n",
    "print(tmp.filter(col('X') > 3.84).count())\n",
    "print(tmp.filter((col('n') > 100)).count())\n",
    "print(tmp.filter((col('X') > 6.63) & (col('n') > 100)).count())"
   ]
  },
  {
   "cell_type": "code",
   "execution_count": 43,
   "metadata": {},
   "outputs": [
    {
     "data": {
      "text/plain": [
       "34685"
      ]
     },
     "execution_count": 43,
     "metadata": {},
     "output_type": "execute_result"
    }
   ],
   "source": [
    "# create sdf with pruned keyword variable\n",
    "\n",
    "from pyspark.sql.functions import lit\n",
    "sdf_rm_keywords = tmp.filter((col('X') > 6.63) & (col('n') > 100)).select('Keyword_ID').withColumn(\"valid\", lit(1)).persist()\n",
    "sdf_rm_keywords.count()"
   ]
  },
  {
   "cell_type": "code",
   "execution_count": 66,
   "metadata": {},
   "outputs": [
    {
     "data": {
      "text/plain": [
       "8362990"
      ]
     },
     "execution_count": 66,
     "metadata": {},
     "output_type": "execute_result"
    }
   ],
   "source": [
    "sdf_exp_w_r = sdf_exp_w.alias('A') \\\n",
    "        .join(sdf_rm_keywords.alias('B'), col('A.Keyword_ID') == col('B.Keyword_ID'), how='left') \\\n",
    "        .withColumn('valid', when(col('valid').isNull(), 0).otherwise(col('valid'))) \\\n",
    "        .drop(col('B.Keyword_ID')) \\\n",
    "        .withColumn('Keyword_ID_r', when(col('valid') == 1, col('Keyword_ID')).otherwise(0)) \\\n",
    "        .persist()\n",
    "        \n",
    "sdf_exp_w_r.count()"
   ]
  },
  {
   "cell_type": "code",
   "execution_count": 67,
   "metadata": {},
   "outputs": [
    {
     "name": "stdout",
     "output_type": "stream",
     "text": [
      "+-------+--------------------+--------------------+-------------------+\n",
      "|summary|          Keyword_ID|        Keyword_ID_r|              valid|\n",
      "+-------+--------------------+--------------------+-------------------+\n",
      "|  count|             8362990|             8362990|            8362990|\n",
      "|   mean|5.491248018795610...| 2.78217299762394E11| 0.5083152078383449|\n",
      "| stddev|3.166555439674244...|3.544906091260895...|0.49993088242671807|\n",
      "|    min|              950290|                   0|                  0|\n",
      "|    max|       1099511422509|       1099485010573|                  1|\n",
      "+-------+--------------------+--------------------+-------------------+\n",
      "\n"
     ]
    }
   ],
   "source": [
    "sdf_exp_w_r.select('Keyword_ID', 'Keyword_ID_r', 'valid').describe().show()"
   ]
  },
  {
   "cell_type": "code",
   "execution_count": 68,
   "metadata": {
    "scrolled": false
   },
   "outputs": [
    {
     "name": "stdout",
     "output_type": "stream",
     "text": [
      "Connecting to H2O server at http://172.31.46.219:54321... successful.\n"
     ]
    },
    {
     "data": {
      "text/html": [
       "<div style=\"overflow:auto\"><table style=\"width:50%\"><tr><td>H2O cluster uptime:</td>\n",
       "<td>06 secs</td></tr>\n",
       "<tr><td>H2O cluster version:</td>\n",
       "<td>3.16.0.2</td></tr>\n",
       "<tr><td>H2O cluster version age:</td>\n",
       "<td>29 days </td></tr>\n",
       "<tr><td>H2O cluster name:</td>\n",
       "<td>sparkling-water-ubuntu_local-1514640280837</td></tr>\n",
       "<tr><td>H2O cluster total nodes:</td>\n",
       "<td>1</td></tr>\n",
       "<tr><td>H2O cluster free memory:</td>\n",
       "<td>14.22 Gb</td></tr>\n",
       "<tr><td>H2O cluster total cores:</td>\n",
       "<td>8</td></tr>\n",
       "<tr><td>H2O cluster allowed cores:</td>\n",
       "<td>8</td></tr>\n",
       "<tr><td>H2O cluster status:</td>\n",
       "<td>accepting new members, healthy</td></tr>\n",
       "<tr><td>H2O connection url:</td>\n",
       "<td>http://172.31.46.219:54321</td></tr>\n",
       "<tr><td>H2O connection proxy:</td>\n",
       "<td>None</td></tr>\n",
       "<tr><td>H2O internal security:</td>\n",
       "<td>False</td></tr>\n",
       "<tr><td>H2O API Extensions:</td>\n",
       "<td>XGBoost, Algos, AutoML, Core V3, Core V4</td></tr>\n",
       "<tr><td>Python version:</td>\n",
       "<td>3.5.2 final</td></tr></table></div>"
      ],
      "text/plain": [
       "--------------------------  ------------------------------------------\n",
       "H2O cluster uptime:         06 secs\n",
       "H2O cluster version:        3.16.0.2\n",
       "H2O cluster version age:    29 days\n",
       "H2O cluster name:           sparkling-water-ubuntu_local-1514640280837\n",
       "H2O cluster total nodes:    1\n",
       "H2O cluster free memory:    14.22 Gb\n",
       "H2O cluster total cores:    8\n",
       "H2O cluster allowed cores:  8\n",
       "H2O cluster status:         accepting new members, healthy\n",
       "H2O connection url:         http://172.31.46.219:54321\n",
       "H2O connection proxy:\n",
       "H2O internal security:      False\n",
       "H2O API Extensions:         XGBoost, Algos, AutoML, Core V3, Core V4\n",
       "Python version:             3.5.2 final\n",
       "--------------------------  ------------------------------------------"
      ]
     },
     "metadata": {},
     "output_type": "display_data"
    },
    {
     "name": "stdout",
     "output_type": "stream",
     "text": [
      "\n",
      "Sparkling Water Context:\n",
      " * H2O name: sparkling-water-ubuntu_local-1514640280837\n",
      " * cluster size: 1\n",
      " * list of used nodes:\n",
      "  (executorId, host, port)\n",
      "  ------------------------\n",
      "  (driver,172.31.46.219,54321)\n",
      "  ------------------------\n",
      "\n",
      "  Open H2O Flow in browser: http://172.31.46.219:54321 (CMD + click in Mac OSX)\n",
      "\n",
      "    \n"
     ]
    }
   ],
   "source": [
    "import h2o\n",
    "from pysparkling import H2OContext\n",
    "hc = H2OContext.getOrCreate(spark)"
   ]
  },
  {
   "cell_type": "markdown",
   "metadata": {},
   "source": [
    "### Baseline model for `P[Conversion]`: Lasso Logistic regression\n",
    "\n",
    "http://docs.h2o.ai/h2o/latest-stable/h2o-docs/booklets/GLMBooklet.pdf  \n",
    "http://docs.h2o.ai/h2o/latest-stable/h2o-docs/data-science/glm.html"
   ]
  },
  {
   "cell_type": "code",
   "execution_count": 131,
   "metadata": {},
   "outputs": [],
   "source": [
    "h2o.remove_all()\n",
    "df = hc.as_h2o_frame(sdf_exp_w_r, framename='sdf_exp_w_r')\n",
    "\n",
    "df['Keyword_ID'] = df['Keyword_ID'].asfactor()\n",
    "df['Keyword_ID_r'] = df['Keyword_ID_r'].asfactor()\n",
    "df['Ad_group_ID'] = df['Ad_group_ID'].asfactor()\n",
    "df['Campaign_ID'] = df['Campaign_ID'].asfactor()\n",
    "df['Match_type_ID'] = df['Match_type_ID'].asfactor()\n",
    "df['Device_ID'] = df['Device_ID'].asfactor()\n",
    "\n",
    "df['Month'] = df['Date'].month().asfactor()\n",
    "df['Week'] = df['Date'].week().asfactor()\n",
    "df['Day'] = df['Date'].dayOfWeek().asfactor()\n",
    "\n",
    "df['y'] = df['y'].asfactor()\n",
    "\n",
    "# df.describe()\n",
    "\n",
    "# ll = list(h2o.ls()['key'].values)\n",
    "# ll.remove('sdf_exp_w_sample')\n",
    "# h2o.remove(ll)\n",
    "\n",
    "# h2o.ls()"
   ]
  },
  {
   "cell_type": "markdown",
   "metadata": {},
   "source": [
    "Few comments about splitting the dataset (date and Keyword are the key)"
   ]
  },
  {
   "cell_type": "code",
   "execution_count": 132,
   "metadata": {},
   "outputs": [],
   "source": [
    "train, validate, test = df.split_frame([.8, .1], seed=2014)\n",
    "\n",
    "predictors = ['Keyword_ID_r', 'Match_type_ID', 'Device_ID', 'Month', 'Day', 'Week']\n",
    "response = 'y'\n",
    "weights_col = 'n'"
   ]
  },
  {
   "cell_type": "markdown",
   "metadata": {},
   "source": [
    "#### Tune lasso parameters"
   ]
  },
  {
   "cell_type": "code",
   "execution_count": 81,
   "metadata": {},
   "outputs": [
    {
     "name": "stdout",
     "output_type": "stream",
     "text": [
      "glm Grid Build progress: |████████████████████████████████████████████████| 100%\n"
     ]
    },
    {
     "name": "stderr",
     "output_type": "stream",
     "text": [
      "/home/ubuntu/.local/share/virtualenvs/ml-rpc-LO9Wo36E/lib/python3.5/site-packages/h2o/job.py:69: UserWarning: Reached maximum number of iterations 50!\n",
      "  warnings.warn(w)\n"
     ]
    }
   ],
   "source": [
    "from h2o.grid import H2OGridSearch\n",
    "import numpy as np\n",
    "\n",
    "lambda_grid = list(np.logspace(start=-7.0, stop=-1.0, num=50, base=10.0))\n",
    "\n",
    "g = H2OGridSearch(\n",
    "        model=H2OGeneralizedLinearEstimator(family=\"binomial\", alpha=1.0),\n",
    "        hyper_params={\"lambda\": lambda_grid},\n",
    "        grid_id=\"glm_grid\"\n",
    "    )\n",
    "\n",
    "g.train(predictors, response, training_frame=train, validation_frame=validate, weights_column = weights_col)"
   ]
  },
  {
   "cell_type": "code",
   "execution_count": 82,
   "metadata": {},
   "outputs": [
    {
     "data": {
      "text/html": [
       "<div>\n",
       "<style scoped>\n",
       "    .dataframe tbody tr th:only-of-type {\n",
       "        vertical-align: middle;\n",
       "    }\n",
       "\n",
       "    .dataframe tbody tr th {\n",
       "        vertical-align: top;\n",
       "    }\n",
       "\n",
       "    .dataframe thead th {\n",
       "        text-align: right;\n",
       "    }\n",
       "</style>\n",
       "<table border=\"1\" class=\"dataframe\">\n",
       "  <thead>\n",
       "    <tr style=\"text-align: right;\">\n",
       "      <th></th>\n",
       "      <th>Model_ID</th>\n",
       "      <th>AUC</th>\n",
       "      <th>lambda</th>\n",
       "    </tr>\n",
       "  </thead>\n",
       "  <tbody>\n",
       "    <tr>\n",
       "      <th>48</th>\n",
       "      <td>glm_grid_model_13</td>\n",
       "      <td>0.753237</td>\n",
       "      <td>3.906940e-06</td>\n",
       "    </tr>\n",
       "    <tr>\n",
       "      <th>12</th>\n",
       "      <td>glm_grid_model_14</td>\n",
       "      <td>0.742776</td>\n",
       "      <td>5.179475e-06</td>\n",
       "    </tr>\n",
       "    <tr>\n",
       "      <th>1</th>\n",
       "      <td>glm_grid_model_15</td>\n",
       "      <td>0.732491</td>\n",
       "      <td>6.866488e-06</td>\n",
       "    </tr>\n",
       "    <tr>\n",
       "      <th>40</th>\n",
       "      <td>glm_grid_model_16</td>\n",
       "      <td>0.723657</td>\n",
       "      <td>9.102982e-06</td>\n",
       "    </tr>\n",
       "    <tr>\n",
       "      <th>0</th>\n",
       "      <td>glm_grid_model_17</td>\n",
       "      <td>0.715258</td>\n",
       "      <td>1.206793e-05</td>\n",
       "    </tr>\n",
       "    <tr>\n",
       "      <th>18</th>\n",
       "      <td>glm_grid_model_18</td>\n",
       "      <td>0.707998</td>\n",
       "      <td>1.599859e-05</td>\n",
       "    </tr>\n",
       "    <tr>\n",
       "      <th>44</th>\n",
       "      <td>glm_grid_model_2</td>\n",
       "      <td>0.702820</td>\n",
       "      <td>1.757511e-07</td>\n",
       "    </tr>\n",
       "    <tr>\n",
       "      <th>26</th>\n",
       "      <td>glm_grid_model_19</td>\n",
       "      <td>0.701104</td>\n",
       "      <td>2.120951e-05</td>\n",
       "    </tr>\n",
       "    <tr>\n",
       "      <th>17</th>\n",
       "      <td>glm_grid_model_3</td>\n",
       "      <td>0.700422</td>\n",
       "      <td>2.329952e-07</td>\n",
       "    </tr>\n",
       "    <tr>\n",
       "      <th>36</th>\n",
       "      <td>glm_grid_model_4</td>\n",
       "      <td>0.698702</td>\n",
       "      <td>3.088844e-07</td>\n",
       "    </tr>\n",
       "    <tr>\n",
       "      <th>14</th>\n",
       "      <td>glm_grid_model_5</td>\n",
       "      <td>0.696805</td>\n",
       "      <td>4.094915e-07</td>\n",
       "    </tr>\n",
       "    <tr>\n",
       "      <th>45</th>\n",
       "      <td>glm_grid_model_0</td>\n",
       "      <td>0.696196</td>\n",
       "      <td>1.000000e-07</td>\n",
       "    </tr>\n",
       "    <tr>\n",
       "      <th>49</th>\n",
       "      <td>glm_grid_model_20</td>\n",
       "      <td>0.695919</td>\n",
       "      <td>2.811769e-05</td>\n",
       "    </tr>\n",
       "    <tr>\n",
       "      <th>38</th>\n",
       "      <td>glm_grid_model_6</td>\n",
       "      <td>0.694894</td>\n",
       "      <td>5.428675e-07</td>\n",
       "    </tr>\n",
       "    <tr>\n",
       "      <th>42</th>\n",
       "      <td>glm_grid_model_1</td>\n",
       "      <td>0.694814</td>\n",
       "      <td>1.325711e-07</td>\n",
       "    </tr>\n",
       "    <tr>\n",
       "      <th>29</th>\n",
       "      <td>glm_grid_model_7</td>\n",
       "      <td>0.693297</td>\n",
       "      <td>7.196857e-07</td>\n",
       "    </tr>\n",
       "    <tr>\n",
       "      <th>41</th>\n",
       "      <td>glm_grid_model_8</td>\n",
       "      <td>0.691899</td>\n",
       "      <td>9.540955e-07</td>\n",
       "    </tr>\n",
       "    <tr>\n",
       "      <th>15</th>\n",
       "      <td>glm_grid_model_21</td>\n",
       "      <td>0.691518</td>\n",
       "      <td>3.727594e-05</td>\n",
       "    </tr>\n",
       "    <tr>\n",
       "      <th>13</th>\n",
       "      <td>glm_grid_model_9</td>\n",
       "      <td>0.690313</td>\n",
       "      <td>1.264855e-06</td>\n",
       "    </tr>\n",
       "    <tr>\n",
       "      <th>24</th>\n",
       "      <td>glm_grid_model_10</td>\n",
       "      <td>0.688476</td>\n",
       "      <td>1.676833e-06</td>\n",
       "    </tr>\n",
       "    <tr>\n",
       "      <th>27</th>\n",
       "      <td>glm_grid_model_11</td>\n",
       "      <td>0.687111</td>\n",
       "      <td>2.222996e-06</td>\n",
       "    </tr>\n",
       "    <tr>\n",
       "      <th>46</th>\n",
       "      <td>glm_grid_model_12</td>\n",
       "      <td>0.685666</td>\n",
       "      <td>2.947052e-06</td>\n",
       "    </tr>\n",
       "    <tr>\n",
       "      <th>32</th>\n",
       "      <td>glm_grid_model_22</td>\n",
       "      <td>0.684391</td>\n",
       "      <td>4.941713e-05</td>\n",
       "    </tr>\n",
       "    <tr>\n",
       "      <th>2</th>\n",
       "      <td>glm_grid_model_23</td>\n",
       "      <td>0.679574</td>\n",
       "      <td>6.551286e-05</td>\n",
       "    </tr>\n",
       "    <tr>\n",
       "      <th>30</th>\n",
       "      <td>glm_grid_model_24</td>\n",
       "      <td>0.677427</td>\n",
       "      <td>8.685114e-05</td>\n",
       "    </tr>\n",
       "    <tr>\n",
       "      <th>3</th>\n",
       "      <td>glm_grid_model_25</td>\n",
       "      <td>0.675846</td>\n",
       "      <td>1.151395e-04</td>\n",
       "    </tr>\n",
       "    <tr>\n",
       "      <th>11</th>\n",
       "      <td>glm_grid_model_26</td>\n",
       "      <td>0.674794</td>\n",
       "      <td>1.526418e-04</td>\n",
       "    </tr>\n",
       "    <tr>\n",
       "      <th>33</th>\n",
       "      <td>glm_grid_model_27</td>\n",
       "      <td>0.673796</td>\n",
       "      <td>2.023590e-04</td>\n",
       "    </tr>\n",
       "    <tr>\n",
       "      <th>28</th>\n",
       "      <td>glm_grid_model_28</td>\n",
       "      <td>0.673239</td>\n",
       "      <td>2.682696e-04</td>\n",
       "    </tr>\n",
       "    <tr>\n",
       "      <th>25</th>\n",
       "      <td>glm_grid_model_29</td>\n",
       "      <td>0.671193</td>\n",
       "      <td>3.556480e-04</td>\n",
       "    </tr>\n",
       "    <tr>\n",
       "      <th>37</th>\n",
       "      <td>glm_grid_model_30</td>\n",
       "      <td>0.669965</td>\n",
       "      <td>4.714866e-04</td>\n",
       "    </tr>\n",
       "    <tr>\n",
       "      <th>5</th>\n",
       "      <td>glm_grid_model_31</td>\n",
       "      <td>0.668707</td>\n",
       "      <td>6.250552e-04</td>\n",
       "    </tr>\n",
       "    <tr>\n",
       "      <th>47</th>\n",
       "      <td>glm_grid_model_32</td>\n",
       "      <td>0.667713</td>\n",
       "      <td>8.286428e-04</td>\n",
       "    </tr>\n",
       "    <tr>\n",
       "      <th>4</th>\n",
       "      <td>glm_grid_model_33</td>\n",
       "      <td>0.667387</td>\n",
       "      <td>1.098541e-03</td>\n",
       "    </tr>\n",
       "    <tr>\n",
       "      <th>9</th>\n",
       "      <td>glm_grid_model_34</td>\n",
       "      <td>0.667092</td>\n",
       "      <td>1.456348e-03</td>\n",
       "    </tr>\n",
       "    <tr>\n",
       "      <th>20</th>\n",
       "      <td>glm_grid_model_35</td>\n",
       "      <td>0.665650</td>\n",
       "      <td>1.930698e-03</td>\n",
       "    </tr>\n",
       "    <tr>\n",
       "      <th>31</th>\n",
       "      <td>glm_grid_model_37</td>\n",
       "      <td>0.665650</td>\n",
       "      <td>3.393222e-03</td>\n",
       "    </tr>\n",
       "    <tr>\n",
       "      <th>22</th>\n",
       "      <td>glm_grid_model_36</td>\n",
       "      <td>0.665650</td>\n",
       "      <td>2.559548e-03</td>\n",
       "    </tr>\n",
       "    <tr>\n",
       "      <th>21</th>\n",
       "      <td>glm_grid_model_38</td>\n",
       "      <td>0.663928</td>\n",
       "      <td>4.498433e-03</td>\n",
       "    </tr>\n",
       "    <tr>\n",
       "      <th>23</th>\n",
       "      <td>glm_grid_model_39</td>\n",
       "      <td>0.660268</td>\n",
       "      <td>5.963623e-03</td>\n",
       "    </tr>\n",
       "    <tr>\n",
       "      <th>39</th>\n",
       "      <td>glm_grid_model_41</td>\n",
       "      <td>0.656936</td>\n",
       "      <td>1.048113e-02</td>\n",
       "    </tr>\n",
       "    <tr>\n",
       "      <th>8</th>\n",
       "      <td>glm_grid_model_40</td>\n",
       "      <td>0.656936</td>\n",
       "      <td>7.906043e-03</td>\n",
       "    </tr>\n",
       "    <tr>\n",
       "      <th>10</th>\n",
       "      <td>glm_grid_model_42</td>\n",
       "      <td>0.656936</td>\n",
       "      <td>1.389495e-02</td>\n",
       "    </tr>\n",
       "    <tr>\n",
       "      <th>34</th>\n",
       "      <td>glm_grid_model_43</td>\n",
       "      <td>0.655063</td>\n",
       "      <td>1.842070e-02</td>\n",
       "    </tr>\n",
       "    <tr>\n",
       "      <th>16</th>\n",
       "      <td>glm_grid_model_44</td>\n",
       "      <td>0.655063</td>\n",
       "      <td>2.442053e-02</td>\n",
       "    </tr>\n",
       "    <tr>\n",
       "      <th>35</th>\n",
       "      <td>glm_grid_model_46</td>\n",
       "      <td>0.600426</td>\n",
       "      <td>4.291934e-02</td>\n",
       "    </tr>\n",
       "    <tr>\n",
       "      <th>19</th>\n",
       "      <td>glm_grid_model_45</td>\n",
       "      <td>0.600426</td>\n",
       "      <td>3.237458e-02</td>\n",
       "    </tr>\n",
       "    <tr>\n",
       "      <th>6</th>\n",
       "      <td>glm_grid_model_48</td>\n",
       "      <td>0.500000</td>\n",
       "      <td>7.543120e-02</td>\n",
       "    </tr>\n",
       "    <tr>\n",
       "      <th>43</th>\n",
       "      <td>glm_grid_model_49</td>\n",
       "      <td>0.500000</td>\n",
       "      <td>1.000000e-01</td>\n",
       "    </tr>\n",
       "    <tr>\n",
       "      <th>7</th>\n",
       "      <td>glm_grid_model_47</td>\n",
       "      <td>0.500000</td>\n",
       "      <td>5.689866e-02</td>\n",
       "    </tr>\n",
       "  </tbody>\n",
       "</table>\n",
       "</div>"
      ],
      "text/plain": [
       "             Model_ID       AUC        lambda\n",
       "48  glm_grid_model_13  0.753237  3.906940e-06\n",
       "12  glm_grid_model_14  0.742776  5.179475e-06\n",
       "1   glm_grid_model_15  0.732491  6.866488e-06\n",
       "40  glm_grid_model_16  0.723657  9.102982e-06\n",
       "0   glm_grid_model_17  0.715258  1.206793e-05\n",
       "18  glm_grid_model_18  0.707998  1.599859e-05\n",
       "44   glm_grid_model_2  0.702820  1.757511e-07\n",
       "26  glm_grid_model_19  0.701104  2.120951e-05\n",
       "17   glm_grid_model_3  0.700422  2.329952e-07\n",
       "36   glm_grid_model_4  0.698702  3.088844e-07\n",
       "14   glm_grid_model_5  0.696805  4.094915e-07\n",
       "45   glm_grid_model_0  0.696196  1.000000e-07\n",
       "49  glm_grid_model_20  0.695919  2.811769e-05\n",
       "38   glm_grid_model_6  0.694894  5.428675e-07\n",
       "42   glm_grid_model_1  0.694814  1.325711e-07\n",
       "29   glm_grid_model_7  0.693297  7.196857e-07\n",
       "41   glm_grid_model_8  0.691899  9.540955e-07\n",
       "15  glm_grid_model_21  0.691518  3.727594e-05\n",
       "13   glm_grid_model_9  0.690313  1.264855e-06\n",
       "24  glm_grid_model_10  0.688476  1.676833e-06\n",
       "27  glm_grid_model_11  0.687111  2.222996e-06\n",
       "46  glm_grid_model_12  0.685666  2.947052e-06\n",
       "32  glm_grid_model_22  0.684391  4.941713e-05\n",
       "2   glm_grid_model_23  0.679574  6.551286e-05\n",
       "30  glm_grid_model_24  0.677427  8.685114e-05\n",
       "3   glm_grid_model_25  0.675846  1.151395e-04\n",
       "11  glm_grid_model_26  0.674794  1.526418e-04\n",
       "33  glm_grid_model_27  0.673796  2.023590e-04\n",
       "28  glm_grid_model_28  0.673239  2.682696e-04\n",
       "25  glm_grid_model_29  0.671193  3.556480e-04\n",
       "37  glm_grid_model_30  0.669965  4.714866e-04\n",
       "5   glm_grid_model_31  0.668707  6.250552e-04\n",
       "47  glm_grid_model_32  0.667713  8.286428e-04\n",
       "4   glm_grid_model_33  0.667387  1.098541e-03\n",
       "9   glm_grid_model_34  0.667092  1.456348e-03\n",
       "20  glm_grid_model_35  0.665650  1.930698e-03\n",
       "31  glm_grid_model_37  0.665650  3.393222e-03\n",
       "22  glm_grid_model_36  0.665650  2.559548e-03\n",
       "21  glm_grid_model_38  0.663928  4.498433e-03\n",
       "23  glm_grid_model_39  0.660268  5.963623e-03\n",
       "39  glm_grid_model_41  0.656936  1.048113e-02\n",
       "8   glm_grid_model_40  0.656936  7.906043e-03\n",
       "10  glm_grid_model_42  0.656936  1.389495e-02\n",
       "34  glm_grid_model_43  0.655063  1.842070e-02\n",
       "16  glm_grid_model_44  0.655063  2.442053e-02\n",
       "35  glm_grid_model_46  0.600426  4.291934e-02\n",
       "19  glm_grid_model_45  0.600426  3.237458e-02\n",
       "6   glm_grid_model_48  0.500000  7.543120e-02\n",
       "43  glm_grid_model_49  0.500000  1.000000e-01\n",
       "7   glm_grid_model_47  0.500000  5.689866e-02"
      ]
     },
     "execution_count": 82,
     "metadata": {},
     "output_type": "execute_result"
    }
   ],
   "source": [
    "import pandas as pd\n",
    "pd_auc = pd.DataFrame(list(g.auc().items()), columns=['Model_ID', 'AUC']).sort_values('AUC', ascending=False)\n",
    "model_ids = pd_auc['Model_ID'].values\n",
    "pd_auc['lambda'] = np.array([g.get_hyperparams_dict(model, display=False)['lambda'] for model in model_ids])\n",
    "pd_auc = pd_auc.sort_values('AUC', ascending=False)\n",
    "\n",
    "pd_auc\n",
    "\n",
    "# select best model and remove the rest\n",
    "# h2o.remove_all()"
   ]
  },
  {
   "cell_type": "code",
   "execution_count": 153,
   "metadata": {},
   "outputs": [
    {
     "name": "stdout",
     "output_type": "stream",
     "text": [
      "glm Model Build progress: |███████████████████████████████████████████████| 100%\n"
     ]
    }
   ],
   "source": [
    "from h2o.estimators.glm import H2OGeneralizedLinearEstimator\n",
    "\n",
    "glm_model = H2OGeneralizedLinearEstimator(family=\"binomial\", \n",
    "                                          lambda_=3.906940e-06, \n",
    "                                          standardize=True,\n",
    "                                          alpha=1.0)\n",
    "\n",
    "glm_model.train(predictors, response, training_frame=train, validation_frame=validate, weights_column = weights_col)"
   ]
  },
  {
   "cell_type": "code",
   "execution_count": 154,
   "metadata": {
    "scrolled": false
   },
   "outputs": [
    {
     "name": "stdout",
     "output_type": "stream",
     "text": [
      "Could not find exact threshold 0.5; using closest threshold found 0.5007329139949541.\n",
      "Confusion Matrix (Act/Pred) @ threshold = 0.5007329139949541: \n"
     ]
    },
    {
     "data": {
      "text/html": [
       "<div style=\"overflow:auto\"><table style=\"width:50%\"><tr><td><b></b></td>\n",
       "<td><b>0</b></td>\n",
       "<td><b>1</b></td>\n",
       "<td><b>Error</b></td>\n",
       "<td><b>Rate</b></td></tr>\n",
       "<tr><td>0</td>\n",
       "<td>7931732.0</td>\n",
       "<td>3287277.0</td>\n",
       "<td>0.293</td>\n",
       "<td> (3287277.0/11219009.0)</td></tr>\n",
       "<tr><td>1</td>\n",
       "<td>3791496.0</td>\n",
       "<td>7449090.0</td>\n",
       "<td>0.3373</td>\n",
       "<td> (3791496.0/11240586.0)</td></tr>\n",
       "<tr><td>Total</td>\n",
       "<td>11723228.0000000</td>\n",
       "<td>10736367.0000000</td>\n",
       "<td>0.3152</td>\n",
       "<td> (7078773.0/22459595.0)</td></tr></table></div>"
      ],
      "text/plain": [
       "       0            1            Error    Rate\n",
       "-----  -----------  -----------  -------  ----------------------\n",
       "0      7.93173e+06  3.28728e+06  0.293    (3287277.0/11219009.0)\n",
       "1      3.7915e+06   7.44909e+06  0.3373   (3791496.0/11240586.0)\n",
       "Total  1.17232e+07  1.07364e+07  0.3152   (7078773.0/22459595.0)"
      ]
     },
     "metadata": {},
     "output_type": "display_data"
    },
    {
     "name": "stdout",
     "output_type": "stream",
     "text": [
      "Confusion Matrix (Act/Pred) for max accuracy @ threshold = 0.5232953482639459: \n"
     ]
    },
    {
     "data": {
      "text/html": [
       "<div style=\"overflow:auto\"><table style=\"width:50%\"><tr><td><b></b></td>\n",
       "<td><b>0</b></td>\n",
       "<td><b>1</b></td>\n",
       "<td><b>Error</b></td>\n",
       "<td><b>Rate</b></td></tr>\n",
       "<tr><td>0</td>\n",
       "<td>8604135.0</td>\n",
       "<td>2614874.0</td>\n",
       "<td>0.2331</td>\n",
       "<td> (2614874.0/11219009.0)</td></tr>\n",
       "<tr><td>1</td>\n",
       "<td>4405994.0</td>\n",
       "<td>6834592.0</td>\n",
       "<td>0.392</td>\n",
       "<td> (4405994.0/11240586.0)</td></tr>\n",
       "<tr><td>Total</td>\n",
       "<td>13010129.0000000</td>\n",
       "<td>9449466.0</td>\n",
       "<td>0.3126</td>\n",
       "<td> (7020868.0/22459595.0)</td></tr></table></div>"
      ],
      "text/plain": [
       "       0            1            Error    Rate\n",
       "-----  -----------  -----------  -------  ----------------------\n",
       "0      8.60414e+06  2.61487e+06  0.2331   (2614874.0/11219009.0)\n",
       "1      4.40599e+06  6.83459e+06  0.392    (4405994.0/11240586.0)\n",
       "Total  1.30101e+07  9.44947e+06  0.3126   (7020868.0/22459595.0)"
      ]
     },
     "metadata": {},
     "output_type": "display_data"
    },
    {
     "data": {
      "text/plain": [
       "[, ]"
      ]
     },
     "execution_count": 154,
     "metadata": {},
     "output_type": "execute_result"
    }
   ],
   "source": [
    "glm_model.model_performance(train).confusion_matrix(metrics='accuracy', thresholds=[.5])"
   ]
  },
  {
   "cell_type": "code",
   "execution_count": 155,
   "metadata": {},
   "outputs": [
    {
     "name": "stdout",
     "output_type": "stream",
     "text": [
      "Could not find exact threshold 0.5; using closest threshold found 0.49948193407731595.\n",
      "Confusion Matrix (Act/Pred) @ threshold = 0.49948193407731595: \n"
     ]
    },
    {
     "data": {
      "text/html": [
       "<div style=\"overflow:auto\"><table style=\"width:50%\"><tr><td><b></b></td>\n",
       "<td><b>0</b></td>\n",
       "<td><b>1</b></td>\n",
       "<td><b>Error</b></td>\n",
       "<td><b>Rate</b></td></tr>\n",
       "<tr><td>0</td>\n",
       "<td>987662.0</td>\n",
       "<td>413854.0</td>\n",
       "<td>0.2953</td>\n",
       "<td> (413854.0/1401516.0)</td></tr>\n",
       "<tr><td>1</td>\n",
       "<td>486619.0</td>\n",
       "<td>903820.0</td>\n",
       "<td>0.35</td>\n",
       "<td> (486619.0/1390439.0)</td></tr>\n",
       "<tr><td>Total</td>\n",
       "<td>1474281.0</td>\n",
       "<td>1317674.0</td>\n",
       "<td>0.3225</td>\n",
       "<td> (900473.0/2791955.0)</td></tr></table></div>"
      ],
      "text/plain": [
       "       0            1            Error    Rate\n",
       "-----  -----------  -----------  -------  --------------------\n",
       "0      987662       413854       0.2953   (413854.0/1401516.0)\n",
       "1      486619       903820       0.35     (486619.0/1390439.0)\n",
       "Total  1.47428e+06  1.31767e+06  0.3225   (900473.0/2791955.0)"
      ]
     },
     "metadata": {},
     "output_type": "display_data"
    },
    {
     "name": "stdout",
     "output_type": "stream",
     "text": [
      "Confusion Matrix (Act/Pred) for max accuracy @ threshold = 0.47536733177309853: \n"
     ]
    },
    {
     "data": {
      "text/html": [
       "<div style=\"overflow:auto\"><table style=\"width:50%\"><tr><td><b></b></td>\n",
       "<td><b>0</b></td>\n",
       "<td><b>1</b></td>\n",
       "<td><b>Error</b></td>\n",
       "<td><b>Rate</b></td></tr>\n",
       "<tr><td>0</td>\n",
       "<td>904686.0</td>\n",
       "<td>496830.0</td>\n",
       "<td>0.3545</td>\n",
       "<td> (496830.0/1401516.0)</td></tr>\n",
       "<tr><td>1</td>\n",
       "<td>400109.0</td>\n",
       "<td>990330.0</td>\n",
       "<td>0.2878</td>\n",
       "<td> (400109.0/1390439.0)</td></tr>\n",
       "<tr><td>Total</td>\n",
       "<td>1304795.0</td>\n",
       "<td>1487160.0</td>\n",
       "<td>0.3213</td>\n",
       "<td> (896939.0/2791955.0)</td></tr></table></div>"
      ],
      "text/plain": [
       "       0           1            Error    Rate\n",
       "-----  ----------  -----------  -------  --------------------\n",
       "0      904686      496830       0.3545   (496830.0/1401516.0)\n",
       "1      400109      990330       0.2878   (400109.0/1390439.0)\n",
       "Total  1.3048e+06  1.48716e+06  0.3213   (896939.0/2791955.0)"
      ]
     },
     "metadata": {},
     "output_type": "display_data"
    },
    {
     "data": {
      "text/plain": [
       "[, ]"
      ]
     },
     "execution_count": 155,
     "metadata": {},
     "output_type": "execute_result"
    }
   ],
   "source": [
    "glm_model.model_performance(validate).confusion_matrix(metrics='accuracy', thresholds=[.5])"
   ]
  },
  {
   "cell_type": "code",
   "execution_count": 156,
   "metadata": {},
   "outputs": [
    {
     "data": {
      "image/png": "[encoded data removed]",
      "text/plain": [
       "<matplotlib.figure.Figure at 0x7effbf73e828>"
      ]
     },
     "metadata": {},
     "output_type": "display_data"
    }
   ],
   "source": [
    "tmp = glm_model.model_performance(train)\n",
    "from matplotlib import pyplot as plt\n",
    "plt.figure(figsize=(7, 7))\n",
    "tmp.plot()"
   ]
  },
  {
   "cell_type": "markdown",
   "metadata": {},
   "source": [
    "### RF"
   ]
  },
  {
   "cell_type": "code",
   "execution_count": 189,
   "metadata": {},
   "outputs": [
    {
     "name": "stdout",
     "output_type": "stream",
     "text": [
      "drf Model Build progress: |███████████████████████████████████████████████| 100%\n"
     ]
    }
   ],
   "source": [
    "from h2o.estimators.random_forest import H2ORandomForestEstimator\n",
    "\n",
    "rfm_model = H2ORandomForestEstimator(distribution='bernoulli', \n",
    "                                     stopping_metric ='misclassification',\n",
    "                                     stopping_rounds = 1, stopping_tolerance = 0.01,\n",
    "                                     ntrees=200, max_depth=6, mtries=6)\n",
    "\n",
    "rfm_model.train(x=predictors,y=response, training_frame=train, validation_frame=validate, weights_column = weights_col)"
   ]
  },
  {
   "cell_type": "code",
   "execution_count": 190,
   "metadata": {
    "scrolled": true
   },
   "outputs": [
    {
     "name": "stdout",
     "output_type": "stream",
     "text": [
      "Could not find exact threshold 0.5; using closest threshold found 0.5001609818170861.\n",
      "Confusion Matrix (Act/Pred) @ threshold = 0.5001609818170861: \n"
     ]
    },
    {
     "data": {
      "text/html": [
       "<div style=\"overflow:auto\"><table style=\"width:50%\"><tr><td><b></b></td>\n",
       "<td><b>0</b></td>\n",
       "<td><b>1</b></td>\n",
       "<td><b>Error</b></td>\n",
       "<td><b>Rate</b></td></tr>\n",
       "<tr><td>0</td>\n",
       "<td>725070.0</td>\n",
       "<td>676447.0</td>\n",
       "<td>0.4827</td>\n",
       "<td> (676447.0/1401517.0)</td></tr>\n",
       "<tr><td>1</td>\n",
       "<td>373728.0</td>\n",
       "<td>1016712.0</td>\n",
       "<td>0.2688</td>\n",
       "<td> (373728.0/1390440.0)</td></tr>\n",
       "<tr><td>Total</td>\n",
       "<td>1098798.0</td>\n",
       "<td>1693159.0</td>\n",
       "<td>0.3761</td>\n",
       "<td> (1050175.0/2791957.0)</td></tr></table></div>"
      ],
      "text/plain": [
       "       0           1            Error    Rate\n",
       "-----  ----------  -----------  -------  ---------------------\n",
       "0      725070      676447       0.4827   (676447.0/1401517.0)\n",
       "1      373728      1.01671e+06  0.2688   (373728.0/1390440.0)\n",
       "Total  1.0988e+06  1.69316e+06  0.3761   (1050175.0/2791957.0)"
      ]
     },
     "metadata": {},
     "output_type": "display_data"
    },
    {
     "name": "stdout",
     "output_type": "stream",
     "text": [
      "Confusion Matrix (Act/Pred) for max accuracy @ threshold = 0.5202669267245109: \n"
     ]
    },
    {
     "data": {
      "text/html": [
       "<div style=\"overflow:auto\"><table style=\"width:50%\"><tr><td><b></b></td>\n",
       "<td><b>0</b></td>\n",
       "<td><b>1</b></td>\n",
       "<td><b>Error</b></td>\n",
       "<td><b>Rate</b></td></tr>\n",
       "<tr><td>0</td>\n",
       "<td>856155.0</td>\n",
       "<td>545361.0</td>\n",
       "<td>0.3891</td>\n",
       "<td> (545361.0/1401516.0)</td></tr>\n",
       "<tr><td>1</td>\n",
       "<td>499356.0</td>\n",
       "<td>891083.0</td>\n",
       "<td>0.3591</td>\n",
       "<td> (499356.0/1390439.0)</td></tr>\n",
       "<tr><td>Total</td>\n",
       "<td>1355511.0</td>\n",
       "<td>1436444.0</td>\n",
       "<td>0.3742</td>\n",
       "<td> (1044717.0/2791955.0)</td></tr></table></div>"
      ],
      "text/plain": [
       "       0            1            Error    Rate\n",
       "-----  -----------  -----------  -------  ---------------------\n",
       "0      856155       545361       0.3891   (545361.0/1401516.0)\n",
       "1      499356       891083       0.3591   (499356.0/1390439.0)\n",
       "Total  1.35551e+06  1.43644e+06  0.3742   (1044717.0/2791955.0)"
      ]
     },
     "metadata": {},
     "output_type": "display_data"
    },
    {
     "data": {
      "text/plain": [
       "[, ]"
      ]
     },
     "execution_count": 190,
     "metadata": {},
     "output_type": "execute_result"
    }
   ],
   "source": [
    "rfm_model.model_performance(validate).confusion_matrix(metrics='accuracy', thresholds=[.5])"
   ]
  },
  {
   "cell_type": "code",
   "execution_count": 191,
   "metadata": {},
   "outputs": [
    {
     "data": {
      "image/png": "[encoded data removed]",
      "text/plain": [
       "<matplotlib.figure.Figure at 0x7effbd2dce10>"
      ]
     },
     "metadata": {},
     "output_type": "display_data"
    }
   ],
   "source": [
    "plt.figure(figsize=(13, 7))\n",
    "rfm_model.plot(metric='classification_error')"
   ]
  },
  {
   "cell_type": "code",
   "execution_count": 192,
   "metadata": {},
   "outputs": [
    {
     "name": "stdout",
     "output_type": "stream",
     "text": [
      "Could not find exact threshold 0.5; using closest threshold found 0.49996856946077733.\n",
      "Confusion Matrix (Act/Pred) @ threshold = 0.49996856946077733: \n"
     ]
    },
    {
     "data": {
      "text/html": [
       "<div style=\"overflow:auto\"><table style=\"width:50%\"><tr><td><b></b></td>\n",
       "<td><b>0</b></td>\n",
       "<td><b>1</b></td>\n",
       "<td><b>Error</b></td>\n",
       "<td><b>Rate</b></td></tr>\n",
       "<tr><td>0</td>\n",
       "<td>5799176.0</td>\n",
       "<td>5419833.0</td>\n",
       "<td>0.4831</td>\n",
       "<td> (5419833.0/11219009.0)</td></tr>\n",
       "<tr><td>1</td>\n",
       "<td>3080001.0</td>\n",
       "<td>8160585.0</td>\n",
       "<td>0.274</td>\n",
       "<td> (3080001.0/11240586.0)</td></tr>\n",
       "<tr><td>Total</td>\n",
       "<td>8879177.0</td>\n",
       "<td>13580418.0000000</td>\n",
       "<td>0.3785</td>\n",
       "<td> (8499834.0/22459595.0)</td></tr></table></div>"
      ],
      "text/plain": [
       "       0            1            Error    Rate\n",
       "-----  -----------  -----------  -------  ----------------------\n",
       "0      5.79918e+06  5.41983e+06  0.4831   (5419833.0/11219009.0)\n",
       "1      3.08e+06     8.16058e+06  0.274    (3080001.0/11240586.0)\n",
       "Total  8.87918e+06  1.35804e+07  0.3785   (8499834.0/22459595.0)"
      ]
     },
     "metadata": {},
     "output_type": "display_data"
    },
    {
     "name": "stdout",
     "output_type": "stream",
     "text": [
      "Confusion Matrix (Act/Pred) for max accuracy @ threshold = 0.4856730905166831: \n"
     ]
    },
    {
     "data": {
      "text/html": [
       "<div style=\"overflow:auto\"><table style=\"width:50%\"><tr><td><b></b></td>\n",
       "<td><b>0</b></td>\n",
       "<td><b>1</b></td>\n",
       "<td><b>Error</b></td>\n",
       "<td><b>Rate</b></td></tr>\n",
       "<tr><td>0</td>\n",
       "<td>5703858.0</td>\n",
       "<td>5515150.0</td>\n",
       "<td>0.4916</td>\n",
       "<td> (5515150.0/11219008.0)</td></tr>\n",
       "<tr><td>1</td>\n",
       "<td>2973532.0</td>\n",
       "<td>8267054.0</td>\n",
       "<td>0.2645</td>\n",
       "<td> (2973532.0/11240586.0)</td></tr>\n",
       "<tr><td>Total</td>\n",
       "<td>8677390.0</td>\n",
       "<td>13782204.0000000</td>\n",
       "<td>0.378</td>\n",
       "<td> (8488682.0/22459594.0)</td></tr></table></div>"
      ],
      "text/plain": [
       "       0            1            Error    Rate\n",
       "-----  -----------  -----------  -------  ----------------------\n",
       "0      5.70386e+06  5.51515e+06  0.4916   (5515150.0/11219008.0)\n",
       "1      2.97353e+06  8.26705e+06  0.2645   (2973532.0/11240586.0)\n",
       "Total  8.67739e+06  1.37822e+07  0.378    (8488682.0/22459594.0)"
      ]
     },
     "metadata": {},
     "output_type": "display_data"
    },
    {
     "data": {
      "text/plain": [
       "[, ]"
      ]
     },
     "execution_count": 192,
     "metadata": {},
     "output_type": "execute_result"
    }
   ],
   "source": [
    "rfm_model.model_performance(train).confusion_matrix(metrics='accuracy', thresholds=[.5])"
   ]
  },
  {
   "cell_type": "code",
   "execution_count": 193,
   "metadata": {},
   "outputs": [
    {
     "data": {
      "image/png": "[encoded data removed]",
      "text/plain": [
       "<matplotlib.figure.Figure at 0x7effbd505710>"
      ]
     },
     "metadata": {},
     "output_type": "display_data"
    }
   ],
   "source": [
    "rfm_model.model_performance(validate).plot()"
   ]
  },
  {
   "cell_type": "code",
   "execution_count": null,
   "metadata": {},
   "outputs": [],
   "source": []
  }
 ],
 "metadata": {
  "kernelspec": {
   "display_name": "Python 3",
   "language": "python",
   "name": "python3"
  },
  "language_info": {
   "codemirror_mode": {
    "name": "ipython",
    "version": 3
   },
   "file_extension": ".py",
   "mimetype": "text/x-python",
   "name": "python",
   "nbconvert_exporter": "python",
   "pygments_lexer": "ipython3",
   "version": "3.5.2"
  }
 },
 "nbformat": 4,
 "nbformat_minor": 2
}
