{
 "cells": [
  {
   "cell_type": "markdown",
   "metadata": {},
   "source": [
    "## Prediction of Revenue Per Click"
   ]
  },
  {
   "cell_type": "markdown",
   "metadata": {},
   "source": [
    "# Outline:\n",
    "\n",
    "- Architecture\n",
    "    - environment set-up:\n",
    "        - `Pipenv`\n",
    "        - `Spark`\n",
    "        - `Jupyter`\n",
    "        - `H2O`\n",
    "- Set-up datasets using local spark warehouse\n",
    "- `Spark:` Initial data exploration\n",
    "    - target variable distribution\n",
    "    - first hypotheses\n",
    "    - data pre-processing\n",
    "    - heavy feature engineering (leveraging Spark)\n",
    "        - averages using window functions\n",
    "        - removing non-significant keywords\n",
    "    - data cleaning (simple operations that can be done in Spark)\n",
    "- `H2O:`\n",
    "    - variable encoding\n",
    "    - outlier detection\n",
    "    - leveraging `scikit-learn` for small scale pre-processing\n",
    "    - set-up baseline model\n",
    "        - mean model\n",
    "    - develop more complex models (tracking performance with baseline to find the value of development)\n",
    "- Summary\n",
    "    - use AWS EC2 for reproducible and scalable model building\n",
    "        - we might at some point try to use a cluster of machines for that\n",
    "    - export **user settings** for the notebook\n",
    "    - **create functions** from code that will be reused more than once\n",
    "    - two stage models do not really work! (unless first level is very, very accurate)\n",
    "    - Always use simpler model from the very beginning that will open the road to smart feature engineering\n",
    "        - average rev per campaign\n",
    "        - avreage rev per account etcc\n",
    "    - All in all sampling and weighting can make a process much faste\n",
    "    - Balancing is a good idea but not in two step models (too much to be done in the end)\n",
    "    - Workflow with Sparkling water is very robust and enables to leverage a lot of Python libraries (scikit-learn, scipy)\n",
    "    - deep learning is not super fast (even on fast machine) so for big datasets like this one would probably still use XGboost\n",
    "\n",
    "\n"
   ]
  },
  {
   "cell_type": "code",
   "execution_count": 1,
   "metadata": {},
   "outputs": [],
   "source": [
    "# user settings\n",
    "min_clicks_per_keyword = 100\n",
    "pval_keyword = .01\n",
    "\n",
    "import numpy as np\n",
    "import pandas as pd\n",
    "import sklearn\n"
   ]
  },
  {
   "cell_type": "markdown",
   "metadata": {},
   "source": [
    "### Architecture details:"
   ]
  },
  {
   "cell_type": "markdown",
   "metadata": {},
   "source": [
    "![alt text](https://i0.wp.com/blog.h2o.ai/wp-content/uploads/2017/04/hdi-image5.jpg?resize=700%2C394)"
   ]
  },
  {
   "cell_type": "markdown",
   "metadata": {},
   "source": [
    "Note: also using `scikit-learn` utilities are much easier with H2O Data Frame than with pySpark (due to the unordered character of Spark DataFrame)"
   ]
  },
  {
   "cell_type": "markdown",
   "metadata": {
    "scrolled": false
   },
   "source": [
    "As a master node we are using AWS `t2.x2large` instance with following specs:"
   ]
  },
  {
   "cell_type": "code",
   "execution_count": 64,
   "metadata": {},
   "outputs": [
    {
     "name": "stdout",
     "output_type": "stream",
     "text": [
      "H/W path    Device  Class      Description\n",
      "==========================================\n",
      "                    system     HVM domU\n",
      "/0                  bus        Motherboard\n",
      "/0/0                memory     96KiB BIOS\n",
      "/0/401              processor  Intel(R) Xeon(R) CPU E5-2676 v3 @ 2.40GHz\n",
      "/0/402              processor  CPU\n",
      "/0/403              processor  CPU\n",
      "/0/404              processor  CPU\n",
      "/0/405              processor  CPU\n",
      "/0/406              processor  CPU\n",
      "/0/407              processor  CPU\n",
      "/0/408              processor  CPU\n",
      "/0/1000             memory     32GiB System Memory\n",
      "/0/1000/0           memory     16GiB DIMM RAM\n",
      "/0/1000/1           memory     16GiB DIMM RAM\n",
      "/0/100              bridge     440FX - 82441FX PMC [Natoma]\n",
      "/0/100/1            bridge     82371SB PIIX3 ISA [Natoma/Triton II]\n",
      "/0/100/1.1          storage    82371SB PIIX3 IDE [Natoma/Triton II]\n",
      "/0/100/1.3          bridge     82371AB/EB/MB PIIX4 ACPI\n",
      "/0/100/2            display    GD 5446\n",
      "/0/100/3            generic    Xen Platform Device\n",
      "/1          eth0    network    Ethernet interface\n"
     ]
    }
   ],
   "source": [
    "!sudo lshw -short"
   ]
  },
  {
   "cell_type": "markdown",
   "metadata": {},
   "source": [
    "### Data acquisition and ETL"
   ]
  },
  {
   "cell_type": "code",
   "execution_count": 5,
   "metadata": {},
   "outputs": [
    {
     "data": {
      "text/plain": [
       "8285423"
      ]
     },
     "execution_count": 5,
     "metadata": {},
     "output_type": "execute_result"
    }
   ],
   "source": [
    "# move tables from s3 to local sql warehouse\n",
    "# spark.read.csv(\"s3n://jakubs-bucket/\", header=True, inferSchema=True)\n",
    "sdf_train = spark.read.csv(\"s3n://jakubs-bucket/rpc/train.csv\", header=True, inferSchema=True)\n",
    "sdf_train.persist()\n",
    "sdf_train.count()"
   ]
  },
  {
   "cell_type": "code",
   "execution_count": 6,
   "metadata": {
    "scrolled": false
   },
   "outputs": [],
   "source": [
    "# spark.sql(\"drop table rpc.train\")\n",
    "# spark.sql('create database rpc');\n",
    "sdf_train.write.saveAsTable('rpc.train')"
   ]
  },
  {
   "cell_type": "markdown",
   "metadata": {},
   "source": [
    "#### Recover weighted binary response set\n",
    "\n",
    "Since we want to model probability of success (conversion) and revenue seperately we need to recover original event dataset. Since h2o models can handle case weights natively we only need to recreate events groups that ended with conversion and without along with their counts and genereated revenue. "
   ]
  },
  {
   "cell_type": "code",
   "execution_count": 15,
   "metadata": {},
   "outputs": [
    {
     "data": {
      "text/plain": [
       "0.03451276639078672"
      ]
     },
     "execution_count": 15,
     "metadata": {},
     "output_type": "execute_result"
    }
   ],
   "source": [
    "# more conversions than clicks (information about detailed user path is lost in this aggregated dataset)\n",
    "from pyspark.sql.functions import col\n",
    "\n",
    "sdf.select('Conversions', 'Clicks').filter(col('Conversions') > col('Clicks')).count() /  \\\n",
    "    sdf.filter(col('Conversions') > 0).count()"
   ]
  },
  {
   "cell_type": "code",
   "execution_count": 65,
   "metadata": {},
   "outputs": [],
   "source": [
    "# sdf.select('Date', 'Clicks', 'Conversions', 'Revenue').show(5)\n",
    "\n",
    "from pyspark.sql.functions import udf\n",
    "from pyspark.sql.types import ArrayType, StringType, IntegerType, DoubleType, StructType, StructField, Row\n",
    "\n",
    "# ?udf\n",
    "\n",
    "@udf(returnType=ArrayType(\n",
    "        StructType([\n",
    "            StructField('n', IntegerType(), False),\n",
    "            StructField('y', IntegerType(), False),\n",
    "            StructField('m', DoubleType(), False),\n",
    "            StructField('rpc', DoubleType(), False),\n",
    "        ])))\n",
    "def expand(clicks, conversions, revenue):\n",
    "    \n",
    "    if (conversions > clicks):\n",
    "        conversions = clicks\n",
    "\n",
    "    row0 = Row(n = clicks - conversions, y = 0, m = 0.0, rpc = revenue / clicks)\n",
    "    if ((conversions > 0) & (conversions < clicks)):\n",
    "            row1 = Row(n = conversions, y = 1, m = revenue / conversions, rpc = revenue / clicks)\n",
    "            res = [row0, row1]\n",
    "    elif ((conversions > 0) & (conversions == clicks)):\n",
    "            row1 = Row(n = conversions, y = 1, m = revenue / conversions, rpc = revenue / clicks)\n",
    "            res = [row1]\n",
    "    else:\n",
    "            res = [row0]\n",
    "    return res\n",
    "\n"
   ]
  },
  {
   "cell_type": "code",
   "execution_count": 66,
   "metadata": {},
   "outputs": [
    {
     "name": "stdout",
     "output_type": "stream",
     "text": [
      "root\n",
      " |-- Date: timestamp (nullable = true)\n",
      " |-- Keyword_ID: long (nullable = true)\n",
      " |-- Ad_group_ID: long (nullable = true)\n",
      " |-- Campaign_ID: long (nullable = true)\n",
      " |-- Account_ID: long (nullable = true)\n",
      " |-- Device_ID: long (nullable = true)\n",
      " |-- Match_type_ID: long (nullable = true)\n",
      " |-- Revenue: double (nullable = true)\n",
      " |-- Clicks: integer (nullable = true)\n",
      " |-- Conversions: integer (nullable = true)\n",
      " |-- n: integer (nullable = true)\n",
      " |-- y: integer (nullable = true)\n",
      " |-- m: double (nullable = true)\n",
      " |-- rpc: double (nullable = true)\n",
      "\n"
     ]
    }
   ],
   "source": [
    "from pyspark.sql.functions import explode\n",
    "\n",
    "sdf_exp = sdf \\\n",
    "    .withColumn('test', explode(expand(col('Clicks'), col('Conversions'), col('Revenue')))) \\\n",
    "    .withColumn('n', col('test.n')) \\\n",
    "    .withColumn('y', col('test.y')) \\\n",
    "    .withColumn('m', col('test.m')) \\\n",
    "    .withColumn('rpc', col('test.rpc')) \\\n",
    "    .drop('test')\n",
    "    \n",
    "sdf_exp.printSchema()"
   ]
  },
  {
   "cell_type": "code",
   "execution_count": 67,
   "metadata": {},
   "outputs": [
    {
     "name": "stdout",
     "output_type": "stream",
     "text": [
      "+------+-----------+-------+---+\n",
      "|Clicks|Conversions|Revenue|  n|\n",
      "+------+-----------+-------+---+\n",
      "+------+-----------+-------+---+\n",
      "\n"
     ]
    }
   ],
   "source": [
    "sdf_exp.select('Clicks','Conversions', 'Revenue', 'n').filter(col('n') == 0).show()"
   ]
  },
  {
   "cell_type": "code",
   "execution_count": 68,
   "metadata": {},
   "outputs": [],
   "source": [
    "spark.sql(\"drop table if exists rpc.train_exp\")\n",
    "sdf_exp.write.saveAsTable('rpc.train_exp')"
   ]
  },
  {
   "cell_type": "code",
   "execution_count": 73,
   "metadata": {},
   "outputs": [
    {
     "name": "stdout",
     "output_type": "stream",
     "text": [
      "+-------------------+------------+------+-----------+---+---+---------+------------------+\n",
      "|               Date|  Keyword_ID|Clicks|Conversions|  n|  y|        m|               rpc|\n",
      "+-------------------+------------+------+-----------+---+---+---------+------------------+\n",
      "|2015-03-28 00:00:00|564236246447|     2|          2|  2|  1|  9950.27|           9950.27|\n",
      "|2015-03-29 00:00:00|658432749877|     2|          2|  2|  1|  9502.06|           9502.06|\n",
      "|2015-03-29 00:00:00|259046968052|     5|          2|  2|  1|  6050.84|2420.3360000000002|\n",
      "|2015-03-29 00:00:00|470475977617|     2|          2|  2|  1|  3436.28|           3436.28|\n",
      "|2015-03-29 00:00:00|116978882894|     2|          2|  2|  1|  1492.54|           1492.54|\n",
      "|2015-03-30 00:00:00| 17294672432|     2|          2|  2|  1|  298.805|           298.805|\n",
      "|2015-03-30 00:00:00|419112986726|     5|          2|  2|  1|  5790.88|          2316.352|\n",
      "|2015-03-30 00:00:00|666290009790|     5|          2|  2|  1|  2562.27|          1024.908|\n",
      "|2015-03-31 00:00:00|388203167164|    14|          2|  2|  1|14105.185|2015.0264285714286|\n",
      "|2015-03-31 00:00:00|741463438901|     2|          2|  2|  1| 2539.855|          2539.855|\n",
      "|2015-03-31 00:00:00|754131480777|     2|          2|  2|  1|  2644.44|           2644.44|\n",
      "|2015-03-31 00:00:00|898855230898|    35|          2|  2|  1|  1111.56|63.517714285714284|\n",
      "|2015-03-31 00:00:00|805055413617|     2|          2|  2|  1|  5154.42|           5154.42|\n",
      "|2015-03-31 00:00:00|130253837386|     8|          2|  2|  1|  1981.09|          495.2725|\n",
      "|2015-03-31 00:00:00|546033066549|     2|          2|  2|  1| 14522.02|          14522.02|\n",
      "|2015-04-01 00:00:00| 64613242206|     2|          2|  2|  1| 2498.025|          2498.025|\n",
      "|2015-04-01 00:00:00|307346491689|     5|          2|  2|  1|  10945.3|           4378.12|\n",
      "|2015-04-01 00:00:00|616383310469|     2|          8|  2|  1| 10467.21|          10467.21|\n",
      "|2015-04-01 00:00:00|531368673478|    38|          2|  2|  1| 1972.125|103.79605263157895|\n",
      "|2015-04-01 00:00:00|615371134365|     5|          2|  2|  1|  298.805|           119.522|\n",
      "+-------------------+------------+------+-----------+---+---+---------+------------------+\n",
      "only showing top 20 rows\n",
      "\n"
     ]
    }
   ],
   "source": [
    "sdf_exp.filter(col('y') == 1).select('Date', 'Keyword_ID', 'Clicks', 'Conversions', 'n', 'y', 'm', 'rpc').show()"
   ]
  },
  {
   "cell_type": "markdown",
   "metadata": {},
   "source": [
    "### Task description:"
   ]
  },
  {
   "cell_type": "markdown",
   "metadata": {},
   "source": [
    "#### Advertiser programatic bidding:\n",
    "\n",
    " - The advertiser can set a price for each keyword/match type combination. \n",
    " - She can even refine her price setting by taking the device (computer, mobile, ...) into account. \n",
    " - She is furthermore free to update the prices whenever she wants. \n",
    "\n",
    "The set price mainly determines if her advertisement is shown to the user instead of a competitor’s one. Although the price decides on if the advertisement is shown, the advertiser only has to pay if the user clicks on the advertisement. A click redirects the user to the advertiser’s website offering him products that match what she was searching for. All the money the particular user spends in the next days on the advertiser’s website is attributed to the click, i.e. it is assumed that all the revenue the user generated with her conversions (=bookings, orders) after clicking on the advertisement was triggered by the advertisement.\n",
    "\n",
    "#### Keyword taxonomy:\n",
    "\n",
    "An online platform such as GetYourGuide provides easily thousands of products. Each product can have several relevant keywords such that the number of managed keywords is immense. Therefore, a hierarchy helps to categorize keywords:\n",
    "\n",
    " - **Keywords** belonging to the same product **are collected in an ad group**. \n",
    " - Several ad groups can contain the same keyword, the combination of keyword and ad group is then again unique. \n",
    " - **Ad groups** with a similar scope are bundled **in a campaign**. \n",
    " - **Campaigns** for a common target audience are collected **in the same account**.\n",
    "\n",
    "#### The question:\n",
    "\n",
    "A crucial question to answer when pricing the keywords is how much revenue one can expect from a click. In other words, what is the expected Revenue per Click (RPC). Answering this question is your task in this test."
   ]
  },
  {
   "cell_type": "markdown",
   "metadata": {},
   "source": [
    "#### Evaluation metrics:\n",
    "\n",
    "Click weighted squared distance:"
   ]
  },
  {
   "cell_type": "markdown",
   "metadata": {},
   "source": [
    "$$ cost = \\frac{1}{C} \\sum_{i=1}^{N} \\left[ c_n(r_n - \\hat{r_n})^2 \\right] $$"
   ]
  },
  {
   "cell_type": "markdown",
   "metadata": {},
   "source": [
    "This means that we can drop all rows from dataset where number of click was zero..."
   ]
  },
  {
   "cell_type": "markdown",
   "metadata": {},
   "source": [
    "### Data exploration\n",
    "\n",
    "Tables were previously migrated from S3 bucket to the local spark metastore to speed up accessibility:"
   ]
  },
  {
   "cell_type": "code",
   "execution_count": 74,
   "metadata": {
    "scrolled": true
   },
   "outputs": [],
   "source": [
    "from pyspark.sql import SparkSession\n",
    "spark = SparkSession \\\n",
    "        .builder \\\n",
    "        .appName('Jupyter') \\\n",
    "        .getOrCreate()"
   ]
  },
  {
   "cell_type": "code",
   "execution_count": 75,
   "metadata": {},
   "outputs": [
    {
     "data": {
      "text/html": [
       "\n",
       "            <div>\n",
       "                <p><b>SparkSession - hive</b></p>\n",
       "                \n",
       "        <div>\n",
       "            <p><b>SparkContext</b></p>\n",
       "\n",
       "            <p><a href=\"http://172.31.46.219:4040\">Spark UI</a></p>\n",
       "\n",
       "            <dl>\n",
       "              <dt>Version</dt>\n",
       "                <dd><code>v2.2.0</code></dd>\n",
       "              <dt>Master</dt>\n",
       "                <dd><code>local[8]</code></dd>\n",
       "              <dt>AppName</dt>\n",
       "                <dd><code>PySparkShell</code></dd>\n",
       "            </dl>\n",
       "        </div>\n",
       "        \n",
       "            </div>\n",
       "        "
      ],
      "text/plain": [
       "<pyspark.sql.session.SparkSession at 0x7fbf96efd390>"
      ]
     },
     "execution_count": 75,
     "metadata": {},
     "output_type": "execute_result"
    }
   ],
   "source": [
    "spark"
   ]
  },
  {
   "cell_type": "code",
   "execution_count": 76,
   "metadata": {},
   "outputs": [
    {
     "name": "stdout",
     "output_type": "stream",
     "text": [
      "/home/ubuntu/spark-warehouse/\n",
      "└── rpc.db\n",
      "    ├── train\n",
      "    │   ├── part-00000-8605fd82-a644-472a-baf9-34511d5143bc-c000.snappy.parquet\n",
      "    │   ├── part-00001-8605fd82-a644-472a-baf9-34511d5143bc-c000.snappy.parquet\n",
      "    │   ├── part-00002-8605fd82-a644-472a-baf9-34511d5143bc-c000.snappy.parquet\n",
      "    │   ├── part-00003-8605fd82-a644-472a-baf9-34511d5143bc-c000.snappy.parquet\n",
      "    │   ├── part-00004-8605fd82-a644-472a-baf9-34511d5143bc-c000.snappy.parquet\n",
      "    │   ├── part-00005-8605fd82-a644-472a-baf9-34511d5143bc-c000.snappy.parquet\n",
      "    │   ├── part-00006-8605fd82-a644-472a-baf9-34511d5143bc-c000.snappy.parquet\n",
      "    │   ├── part-00007-8605fd82-a644-472a-baf9-34511d5143bc-c000.snappy.parquet\n",
      "    │   └── _SUCCESS\n",
      "    └── train_exp\n",
      "        ├── part-00000-a9f5628e-fd39-428f-8ea5-f3876b409e6e-c000.snappy.parquet\n",
      "        ├── part-00001-a9f5628e-fd39-428f-8ea5-f3876b409e6e-c000.snappy.parquet\n",
      "        ├── part-00002-a9f5628e-fd39-428f-8ea5-f3876b409e6e-c000.snappy.parquet\n",
      "        ├── part-00003-a9f5628e-fd39-428f-8ea5-f3876b409e6e-c000.snappy.parquet\n",
      "        ├── part-00004-a9f5628e-fd39-428f-8ea5-f3876b409e6e-c000.snappy.parquet\n",
      "        ├── part-00005-a9f5628e-fd39-428f-8ea5-f3876b409e6e-c000.snappy.parquet\n",
      "        ├── part-00006-a9f5628e-fd39-428f-8ea5-f3876b409e6e-c000.snappy.parquet\n",
      "        ├── part-00007-a9f5628e-fd39-428f-8ea5-f3876b409e6e-c000.snappy.parquet\n",
      "        └── _SUCCESS\n",
      "\n",
      "3 directories, 18 files\n"
     ]
    }
   ],
   "source": [
    "!tree /home/ubuntu/spark-warehouse/"
   ]
  },
  {
   "cell_type": "code",
   "execution_count": 5,
   "metadata": {},
   "outputs": [
    {
     "name": "stdout",
     "output_type": "stream",
     "text": [
      "Filesystem     1K-blocks    Used Available Use% Mounted on\r\n",
      "udev            16465320       0  16465320   0% /dev\r\n",
      "tmpfs            3294660    8772   3285888   1% /run\r\n",
      "/dev/xvda1       8065444 4406204   3642856  55% /\r\n",
      "tmpfs           16473284       0  16473284   0% /dev/shm\r\n",
      "tmpfs               5120       0      5120   0% /run/lock\r\n",
      "tmpfs           16473284       0  16473284   0% /sys/fs/cgroup\r\n",
      "tmpfs            3294660      12   3294648   1% /run/user/1000\r\n"
     ]
    }
   ],
   "source": [
    "!df"
   ]
  },
  {
   "cell_type": "code",
   "execution_count": 77,
   "metadata": {},
   "outputs": [
    {
     "name": "stdout",
     "output_type": "stream",
     "text": [
      "root\n",
      " |-- Date: timestamp (nullable = true)\n",
      " |-- Keyword_ID: long (nullable = true)\n",
      " |-- Ad_group_ID: long (nullable = true)\n",
      " |-- Campaign_ID: long (nullable = true)\n",
      " |-- Account_ID: long (nullable = true)\n",
      " |-- Device_ID: long (nullable = true)\n",
      " |-- Match_type_ID: long (nullable = true)\n",
      " |-- Revenue: double (nullable = true)\n",
      " |-- Clicks: integer (nullable = true)\n",
      " |-- Conversions: integer (nullable = true)\n",
      "\n"
     ]
    },
    {
     "data": {
      "text/plain": [
       "8285423"
      ]
     },
     "execution_count": 77,
     "metadata": {},
     "output_type": "execute_result"
    }
   ],
   "source": [
    "sdf = spark.sql(\"select * from rpc.train\")\n",
    "sdf.printSchema()\n",
    "sdf.persist()\n",
    "sdf.count()"
   ]
  },
  {
   "cell_type": "code",
   "execution_count": 78,
   "metadata": {},
   "outputs": [
    {
     "name": "stdout",
     "output_type": "stream",
     "text": [
      "root\n",
      " |-- Date: timestamp (nullable = true)\n",
      " |-- Keyword_ID: long (nullable = true)\n",
      " |-- Ad_group_ID: long (nullable = true)\n",
      " |-- Campaign_ID: long (nullable = true)\n",
      " |-- Account_ID: long (nullable = true)\n",
      " |-- Device_ID: long (nullable = true)\n",
      " |-- Match_type_ID: long (nullable = true)\n",
      " |-- Revenue: double (nullable = true)\n",
      " |-- Clicks: integer (nullable = true)\n",
      " |-- Conversions: integer (nullable = true)\n",
      " |-- n: integer (nullable = true)\n",
      " |-- y: integer (nullable = true)\n",
      " |-- m: double (nullable = true)\n",
      " |-- rpc: double (nullable = true)\n",
      "\n"
     ]
    },
    {
     "data": {
      "text/plain": [
       "8362990"
      ]
     },
     "execution_count": 78,
     "metadata": {},
     "output_type": "execute_result"
    }
   ],
   "source": [
    "sdf_exp = spark.sql(\"select * from rpc.train_exp\")\n",
    "sdf_exp.printSchema()\n",
    "sdf_exp.persist()\n",
    "sdf_exp.count()"
   ]
  },
  {
   "cell_type": "markdown",
   "metadata": {},
   "source": [
    "## Data Exploration"
   ]
  },
  {
   "cell_type": "markdown",
   "metadata": {},
   "source": [
    "### Target variable\n",
    "\n",
    "Hypotheses:\n",
    "\n",
    " - we can aggregate data over time, i.e. probability of Conversion is conditionaly independent of time\n",
    " - Revenue is conidtionaly-independent from probability of conversion &#9989;\n",
    " - Revenue does not depend on time?\n",
    "\n",
    "where conditionality is on search keywords.\n",
    "\n",
    " - target variable is an compound distribution where we need to model conversion at all and conditionally respective revenue\n",
    " - probably we will just use glm model for that here with possibility of extending with tensorflow and rf for revenue\n",
    " - and normal rf as a baseline\n",
    " \n",
    " \n",
    " - we need to explode here !!!"
   ]
  },
  {
   "cell_type": "markdown",
   "metadata": {},
   "source": [
    "### Target variables relationship:"
   ]
  },
  {
   "cell_type": "code",
   "execution_count": 79,
   "metadata": {},
   "outputs": [],
   "source": [
    "from pyspark.sql.functions import col, log, sum\n",
    "pdf = sdf \\\n",
    "        .withColumn('log_prob_of_conv', log(col('Conversions') / col('Clicks'))) \\\n",
    "        .withColumn('prob_of_conv', col('Conversions') / col('Clicks')) \\\n",
    "        .withColumn('log_of_revenue', log(1 + col('Revenue'))) \\\n",
    "        .withColumn('rpc', (col('Revenue') / col('Clicks'))) \\\n",
    "        .select('Clicks', 'Conversions' ,'log_prob_of_conv', 'log_of_revenue', 'rpc') \\\n",
    "        .sample(True, .01).toPandas()"
   ]
  },
  {
   "cell_type": "code",
   "execution_count": 8,
   "metadata": {},
   "outputs": [
    {
     "data": {
      "text/html": [
       "<div>\n",
       "<style scoped>\n",
       "    .dataframe tbody tr th:only-of-type {\n",
       "        vertical-align: middle;\n",
       "    }\n",
       "\n",
       "    .dataframe tbody tr th {\n",
       "        vertical-align: top;\n",
       "    }\n",
       "\n",
       "    .dataframe thead th {\n",
       "        text-align: right;\n",
       "    }\n",
       "</style>\n",
       "<table border=\"1\" class=\"dataframe\">\n",
       "  <thead>\n",
       "    <tr style=\"text-align: right;\">\n",
       "      <th></th>\n",
       "      <th>Clicks</th>\n",
       "      <th>Conversions</th>\n",
       "      <th>log_prob_of_conv</th>\n",
       "      <th>log_of_revenue</th>\n",
       "      <th>rpc</th>\n",
       "    </tr>\n",
       "  </thead>\n",
       "  <tbody>\n",
       "    <tr>\n",
       "      <th>Clicks</th>\n",
       "      <td>1.000000</td>\n",
       "      <td>0.564717</td>\n",
       "      <td>-0.463962</td>\n",
       "      <td>0.185488</td>\n",
       "      <td>0.001264</td>\n",
       "    </tr>\n",
       "    <tr>\n",
       "      <th>Conversions</th>\n",
       "      <td>0.564717</td>\n",
       "      <td>1.000000</td>\n",
       "      <td>-0.085014</td>\n",
       "      <td>0.651360</td>\n",
       "      <td>0.290589</td>\n",
       "    </tr>\n",
       "    <tr>\n",
       "      <th>log_prob_of_conv</th>\n",
       "      <td>-0.463962</td>\n",
       "      <td>-0.085014</td>\n",
       "      <td>1.000000</td>\n",
       "      <td>-0.046746</td>\n",
       "      <td>0.346217</td>\n",
       "    </tr>\n",
       "    <tr>\n",
       "      <th>log_of_revenue</th>\n",
       "      <td>0.185488</td>\n",
       "      <td>0.651360</td>\n",
       "      <td>-0.046746</td>\n",
       "      <td>1.000000</td>\n",
       "      <td>0.517663</td>\n",
       "    </tr>\n",
       "    <tr>\n",
       "      <th>rpc</th>\n",
       "      <td>0.001264</td>\n",
       "      <td>0.290589</td>\n",
       "      <td>0.346217</td>\n",
       "      <td>0.517663</td>\n",
       "      <td>1.000000</td>\n",
       "    </tr>\n",
       "  </tbody>\n",
       "</table>\n",
       "</div>"
      ],
      "text/plain": [
       "                    Clicks  Conversions  log_prob_of_conv  log_of_revenue  \\\n",
       "Clicks            1.000000     0.564717         -0.463962        0.185488   \n",
       "Conversions       0.564717     1.000000         -0.085014        0.651360   \n",
       "log_prob_of_conv -0.463962    -0.085014          1.000000       -0.046746   \n",
       "log_of_revenue    0.185488     0.651360         -0.046746        1.000000   \n",
       "rpc               0.001264     0.290589          0.346217        0.517663   \n",
       "\n",
       "                       rpc  \n",
       "Clicks            0.001264  \n",
       "Conversions       0.290589  \n",
       "log_prob_of_conv  0.346217  \n",
       "log_of_revenue    0.517663  \n",
       "rpc               1.000000  "
      ]
     },
     "execution_count": 8,
     "metadata": {},
     "output_type": "execute_result"
    }
   ],
   "source": [
    "pdf.corr()"
   ]
  },
  {
   "cell_type": "code",
   "execution_count": 9,
   "metadata": {},
   "outputs": [
    {
     "data": {
      "text/html": [
       "<div>\n",
       "<style scoped>\n",
       "    .dataframe tbody tr th:only-of-type {\n",
       "        vertical-align: middle;\n",
       "    }\n",
       "\n",
       "    .dataframe tbody tr th {\n",
       "        vertical-align: top;\n",
       "    }\n",
       "\n",
       "    .dataframe thead th {\n",
       "        text-align: right;\n",
       "    }\n",
       "</style>\n",
       "<table border=\"1\" class=\"dataframe\">\n",
       "  <thead>\n",
       "    <tr style=\"text-align: right;\">\n",
       "      <th></th>\n",
       "      <th>Clicks</th>\n",
       "      <th>Conversions</th>\n",
       "      <th>log_prob_of_conv</th>\n",
       "      <th>log_of_revenue</th>\n",
       "      <th>rpc</th>\n",
       "    </tr>\n",
       "  </thead>\n",
       "  <tbody>\n",
       "    <tr>\n",
       "      <th>count</th>\n",
       "      <td>83149.000000</td>\n",
       "      <td>83149.000000</td>\n",
       "      <td>1696.000000</td>\n",
       "      <td>83149.000000</td>\n",
       "      <td>83149.000000</td>\n",
       "    </tr>\n",
       "    <tr>\n",
       "      <th>mean</th>\n",
       "      <td>3.391887</td>\n",
       "      <td>0.052183</td>\n",
       "      <td>-0.727868</td>\n",
       "      <td>0.174773</td>\n",
       "      <td>55.414120</td>\n",
       "    </tr>\n",
       "    <tr>\n",
       "      <th>std</th>\n",
       "      <td>6.557436</td>\n",
       "      <td>0.574474</td>\n",
       "      <td>0.960481</td>\n",
       "      <td>1.225395</td>\n",
       "      <td>823.720392</td>\n",
       "    </tr>\n",
       "    <tr>\n",
       "      <th>min</th>\n",
       "      <td>2.000000</td>\n",
       "      <td>0.000000</td>\n",
       "      <td>-4.559126</td>\n",
       "      <td>0.000000</td>\n",
       "      <td>0.000000</td>\n",
       "    </tr>\n",
       "    <tr>\n",
       "      <th>25%</th>\n",
       "      <td>2.000000</td>\n",
       "      <td>0.000000</td>\n",
       "      <td>-1.386294</td>\n",
       "      <td>0.000000</td>\n",
       "      <td>0.000000</td>\n",
       "    </tr>\n",
       "    <tr>\n",
       "      <th>50%</th>\n",
       "      <td>2.000000</td>\n",
       "      <td>0.000000</td>\n",
       "      <td>0.000000</td>\n",
       "      <td>0.000000</td>\n",
       "      <td>0.000000</td>\n",
       "    </tr>\n",
       "    <tr>\n",
       "      <th>75%</th>\n",
       "      <td>2.000000</td>\n",
       "      <td>0.000000</td>\n",
       "      <td>0.000000</td>\n",
       "      <td>0.000000</td>\n",
       "      <td>0.000000</td>\n",
       "    </tr>\n",
       "    <tr>\n",
       "      <th>max</th>\n",
       "      <td>658.000000</td>\n",
       "      <td>67.000000</td>\n",
       "      <td>1.704748</td>\n",
       "      <td>12.284635</td>\n",
       "      <td>108172.630000</td>\n",
       "    </tr>\n",
       "  </tbody>\n",
       "</table>\n",
       "</div>"
      ],
      "text/plain": [
       "             Clicks   Conversions  log_prob_of_conv  log_of_revenue  \\\n",
       "count  83149.000000  83149.000000       1696.000000    83149.000000   \n",
       "mean       3.391887      0.052183         -0.727868        0.174773   \n",
       "std        6.557436      0.574474          0.960481        1.225395   \n",
       "min        2.000000      0.000000         -4.559126        0.000000   \n",
       "25%        2.000000      0.000000         -1.386294        0.000000   \n",
       "50%        2.000000      0.000000          0.000000        0.000000   \n",
       "75%        2.000000      0.000000          0.000000        0.000000   \n",
       "max      658.000000     67.000000          1.704748       12.284635   \n",
       "\n",
       "                 rpc  \n",
       "count   83149.000000  \n",
       "mean       55.414120  \n",
       "std       823.720392  \n",
       "min         0.000000  \n",
       "25%         0.000000  \n",
       "50%         0.000000  \n",
       "75%         0.000000  \n",
       "max    108172.630000  "
      ]
     },
     "execution_count": 9,
     "metadata": {},
     "output_type": "execute_result"
    }
   ],
   "source": [
    "pdf.describe()"
   ]
  },
  {
   "cell_type": "code",
   "execution_count": 10,
   "metadata": {
    "scrolled": true
   },
   "outputs": [
    {
     "data": {
      "text/plain": [
       "<matplotlib.axes._subplots.AxesSubplot at 0x7f1286d4c470>"
      ]
     },
     "execution_count": 10,
     "metadata": {},
     "output_type": "execute_result"
    }
   ],
   "source": [
    "pdf['rpc'].hist(bins=40)"
   ]
  },
  {
   "cell_type": "code",
   "execution_count": 11,
   "metadata": {},
   "outputs": [
    {
     "data": {
      "image/png": "[encoded data removed]",
      "text/plain": [
       "<matplotlib.figure.Figure at 0x7f12864b2550>"
      ]
     },
     "metadata": {},
     "output_type": "display_data"
    }
   ],
   "source": [
    "import pandas as pd\n",
    "import matplotlib.pyplot as plt\n",
    "%matplotlib inline\n",
    "\n",
    "p = pd.plotting.scatter_matrix(pdf, figsize=(11, 8), marker='o',\n",
    "                        hist_kwds={'bins': 20}, s=60, alpha=.8)"
   ]
  },
  {
   "cell_type": "markdown",
   "metadata": {},
   "source": [
    "## Data preparation\n",
    "\n",
    "TODO's:\n",
    "\n",
    " - explode and save spark data frame &#9989;\n",
    " - baseline model\n",
    " - maximum and minimum attainable accuracy\n",
    " - add weighting of classes as a parameter to be tunned\n",
    " - cleaning"
   ]
  },
  {
   "cell_type": "markdown",
   "metadata": {},
   "source": [
    "#### Class balancing"
   ]
  },
  {
   "cell_type": "code",
   "execution_count": 80,
   "metadata": {},
   "outputs": [
    {
     "name": "stdout",
     "output_type": "stream",
     "text": [
      "Class percentage before weighting: Y==1: 1.38%, Y==0: 98.62%\n"
     ]
    }
   ],
   "source": [
    "tmp_0 = sdf_exp.filter(col('y')==0).agg(sum(col('n')).alias('n')).collect()[0].n\n",
    "tmp_1 = sdf_exp.filter(col('y')==1).agg(sum(col('n')).alias('n')).collect()[0].n\n",
    "p_0 = tmp_0 / (tmp_0 + tmp_1) * 100\n",
    "print('Class percentage before weighting: Y==1: {:2.2f}%, Y==0: {:2.2f}%'.format(100 - p_0, p_0))"
   ]
  },
  {
   "cell_type": "code",
   "execution_count": 81,
   "metadata": {},
   "outputs": [],
   "source": [
    "# class weights\n",
    "N = tmp_0 + tmp_1\n",
    "w_0 = N * .5 / tmp_0\n",
    "w_1 = N * .5 / tmp_1"
   ]
  },
  {
   "cell_type": "code",
   "execution_count": 82,
   "metadata": {},
   "outputs": [
    {
     "name": "stdout",
     "output_type": "stream",
     "text": [
      "Class percentage after balancing: Y==1: 50.00%, Y==0: 50.00%\n"
     ]
    }
   ],
   "source": [
    "from pyspark.sql.functions import when\n",
    "\n",
    "sdf_exp_w = sdf_exp \\\n",
    "            .withColumn('n_orig', col('n')) \\\n",
    "            .withColumn('n', when(col('y') == 1, col('n') * w_1).otherwise(col('n') * w_0))\n",
    "    \n",
    "tmp_0 = sdf_exp_w.filter(col('y')==0).agg(sum(col('n')).alias('n')).collect()[0].n\n",
    "tmp_1 = sdf_exp_w.filter(col('y')==1).agg(sum(col('n')).alias('n')).collect()[0].n\n",
    "p_0 = tmp_0 / (tmp_0 + tmp_1) * 100\n",
    "print('Class percentage after balancing: Y==1: {:2.2f}%, Y==0: {:2.2f}%'.format(100 - p_0, p_0))"
   ]
  },
  {
   "cell_type": "markdown",
   "metadata": {},
   "source": [
    "#### Maximum attainable accuracy (Move to the baseline setting)\n",
    "\n",
    "$$ \\frac{1}{C} \\sum_{n = 1}^N c_n * \\mathrm{max}_y\\{c(y) \\} $$\n",
    "\n",
    "where $c(y)$ is a number of click events that ended with state $y$."
   ]
  },
  {
   "cell_type": "code",
   "execution_count": 83,
   "metadata": {},
   "outputs": [
    {
     "name": "stdout",
     "output_type": "stream",
     "text": [
      "Minimum possible error: 5.58%\n"
     ]
    }
   ],
   "source": [
    "from pyspark.sql.functions import when\n",
    "\n",
    "tmp = sdf_exp_w \\\n",
    "    .groupBy('Date', 'Keyword_ID', 'Match_type_ID') \\\n",
    "    .agg(*[sum('n').alias('Clicks'), sum(when(col('y')==1, col('n')).otherwise(0)).alias('Conversions')]) \\\n",
    "    .select('Conversions', 'Clicks') \\\n",
    "    .withColumn('score', when((col('Clicks') - col('Conversions')) > col('Conversions'), \n",
    "                              col('Clicks') - col('Conversions')).otherwise(col('Conversions'))) \\\n",
    "    .agg(sum(col('score')).alias('score'), sum(col('Clicks')).alias('Clicks')) \\\n",
    "    .collect()\n",
    "    \n",
    "print('Minimum possible error: {:2.2f}%'.format(100 - tmp[0].score / tmp[0].Clicks * 100) )"
   ]
  },
  {
   "cell_type": "markdown",
   "metadata": {},
   "source": [
    "#### Minimum attainable accuracy\n",
    "\n",
    "- when we always assume lack of conversion"
   ]
  },
  {
   "cell_type": "code",
   "execution_count": 84,
   "metadata": {},
   "outputs": [
    {
     "name": "stdout",
     "output_type": "stream",
     "text": [
      "Class majority error: 50.00%\n"
     ]
    }
   ],
   "source": [
    "tmp = sdf_exp_w \\\n",
    "    .groupBy('Date', 'Keyword_ID', 'Match_type_ID') \\\n",
    "    .agg(*[sum('n').alias('Clicks'), sum(when(col('y')==1, col('n')).otherwise(0)).alias('Conversions')]) \\\n",
    "    .select('Conversions', 'Clicks') \\\n",
    "    .withColumn('score', col('Clicks') - col('Conversions')) \\\n",
    "    .agg(sum(col('score')).alias('score'), sum(col('Clicks')).alias('Clicks')) \\\n",
    "    .collect()\n",
    "    \n",
    "print('Class majority error: {:2.2f}%'.format(100 - tmp[0].score / tmp[0].Clicks * 100) )"
   ]
  },
  {
   "cell_type": "markdown",
   "metadata": {},
   "source": [
    "### Average probability of conversion over time"
   ]
  },
  {
   "cell_type": "code",
   "execution_count": 85,
   "metadata": {},
   "outputs": [],
   "source": [
    "tmp = sdf \\\n",
    "        .groupBy('Date') \\\n",
    "        .agg(*[sum(col('Conversions')).alias('Conversions'), \n",
    "           sum(col('Clicks')).alias('Clicks'), \n",
    "           sum(col('Revenue')).alias('Revenue')]) \\\n",
    "        .withColumn('log_prob_of_conv', log(col('Conversions') / col('Clicks'))) \\\n",
    "        .withColumn('prob_of_conv', col('Conversions') / col('Clicks')) \\\n",
    "        .withColumn('log_of_revenue', log(1 + col('Revenue'))) \\\n",
    "        .withColumn('rpc', log(col('Revenue') / col('Clicks'))) \\\n",
    "        .orderBy(col('Date').asc()) \\\n",
    "        .toPandas()"
   ]
  },
  {
   "cell_type": "code",
   "execution_count": 16,
   "metadata": {},
   "outputs": [
    {
     "data": {
      "image/png": "[encoded data removed]",
      "text/plain": [
       "<matplotlib.figure.Figure at 0x7fbf7d1a5128>"
      ]
     },
     "metadata": {},
     "output_type": "display_data"
    },
    {
     "data": {
      "text/plain": [
       "<ggplot: (-9223363258078880382)>"
      ]
     },
     "execution_count": 16,
     "metadata": {},
     "output_type": "execute_result"
    }
   ],
   "source": [
    "from plotnine import ggplot, geom_line, aes, theme_bw\n",
    "import plotnine\n",
    "plotnine.options.figure_size = (11, 4)\n",
    "\n",
    "\n",
    "ggplot(aes(x='Date', y='prob_of_conv'), data=tmp) + geom_line() + theme_bw()"
   ]
  },
  {
   "cell_type": "markdown",
   "metadata": {},
   "source": [
    "### Remove rare keywords using Chi-Square test of independence"
   ]
  },
  {
   "cell_type": "code",
   "execution_count": 86,
   "metadata": {},
   "outputs": [
    {
     "name": "stdout",
     "output_type": "stream",
     "text": [
      "+------------+-----------------+------------------+------------------+------------------+\n",
      "|  Keyword_ID|                0|                 1|                 n|                 X|\n",
      "+------------+-----------------+------------------+------------------+------------------+\n",
      "|224325004348|97506.51582920473| 634419.9224103128| 731926.4382395175| 393859.2611300016|\n",
      "|168388674416|71210.18583206876|509118.08679383865| 580328.2726259074| 330439.4060572648|\n",
      "|421241223812|39691.90397693723| 173818.6483066635|213510.55228360073| 84258.05353449749|\n",
      "|981509692733|27850.74789971986| 54359.15139110278| 82209.89929082264| 8547.577137591827|\n",
      "|928382372783|18634.25636316675|  60673.2317262509| 79307.48808941766|22283.840935491844|\n",
      "+------------+-----------------+------------------+------------------+------------------+\n",
      "only showing top 5 rows\n",
      "\n"
     ]
    },
    {
     "data": {
      "text/plain": [
       "487981"
      ]
     },
     "execution_count": 86,
     "metadata": {},
     "output_type": "execute_result"
    }
   ],
   "source": [
    "from pyspark.sql.functions import pow\n",
    "\n",
    "tmp = sdf_exp_w \\\n",
    "        .select('Keyword_ID', 'y', 'n') \\\n",
    "        .groupBy('Keyword_ID', 'y') \\\n",
    "        .agg(sum(col('n')).alias('n')) \\\n",
    "        .groupBy('Keyword_ID') \\\n",
    "        .pivot('y', [0, 1]).sum('n') \\\n",
    "        .withColumn('1', when(col('1').isNull(), 0.0).otherwise(col('1'))) \\\n",
    "        .withColumn('n', col('0') + col('1')) \\\n",
    "        .withColumn('X', pow(col('0') - col('n') * .5, 2) / (col('n') * .5) * 2.0) \\\n",
    "        .orderBy(col('n').desc()) \\\n",
    "        .persist()\n",
    "        \n",
    "tmp.show(5)\n",
    "tmp.count()"
   ]
  },
  {
   "cell_type": "code",
   "execution_count": 87,
   "metadata": {},
   "outputs": [
    {
     "data": {
      "text/plain": [
       "<matplotlib.axes._subplots.AxesSubplot at 0x7fbf674c5a20>"
      ]
     },
     "execution_count": 87,
     "metadata": {},
     "output_type": "execute_result"
    },
    {
     "data": {
      "image/png": "[encoded data removed]",
      "text/plain": [
       "<matplotlib.figure.Figure at 0x7fbf622e6a20>"
      ]
     },
     "metadata": {},
     "output_type": "display_data"
    }
   ],
   "source": [
    "tmp.select('X').sample(fraction=.1, withReplacement=False, seed=2014).toPandas()['X'] \\\n",
    "    .hist(bins=30, figsize=(13, 5), range=[0, 200])\n"
   ]
  },
  {
   "cell_type": "markdown",
   "metadata": {},
   "source": [
    "https://en.wikipedia.org/wiki/Chi-squared_distribution#Table_of_χ2_values_vs_p-values"
   ]
  },
  {
   "cell_type": "code",
   "execution_count": 90,
   "metadata": {},
   "outputs": [
    {
     "name": "stdout",
     "output_type": "stream",
     "text": [
      "487981\n",
      "258954\n",
      "42264\n",
      "34685\n"
     ]
    }
   ],
   "source": [
    "# very at least 100 searches and Pval<.01\n",
    "\n",
    "print(tmp.count())\n",
    "print(tmp.filter(col('X') > 3.84).count())\n",
    "print(tmp.filter((col('n') > 100)).count())\n",
    "print(tmp.filter((col('X') > 6.63) & (col('n') > 100)).count())"
   ]
  },
  {
   "cell_type": "code",
   "execution_count": 91,
   "metadata": {},
   "outputs": [
    {
     "data": {
      "text/plain": [
       "34685"
      ]
     },
     "execution_count": 91,
     "metadata": {},
     "output_type": "execute_result"
    }
   ],
   "source": [
    "# create sdf with pruned keyword variable\n",
    "\n",
    "from pyspark.sql.functions import lit\n",
    "sdf_rm_keywords = tmp.filter((col('X') > 6.63) & (col('n') > 100)).select('Keyword_ID').withColumn(\"valid\", lit(1)).persist()\n",
    "sdf_rm_keywords.count()"
   ]
  },
  {
   "cell_type": "code",
   "execution_count": 92,
   "metadata": {},
   "outputs": [
    {
     "data": {
      "text/plain": [
       "8362990"
      ]
     },
     "execution_count": 92,
     "metadata": {},
     "output_type": "execute_result"
    }
   ],
   "source": [
    "sdf_exp_w_r = sdf_exp_w.alias('A') \\\n",
    "        .join(sdf_rm_keywords.alias('B'), col('A.Keyword_ID') == col('B.Keyword_ID'), how='left') \\\n",
    "        .withColumn('valid', when(col('valid').isNull(), 0).otherwise(col('valid'))) \\\n",
    "        .drop(col('B.Keyword_ID')) \\\n",
    "        .withColumn('Keyword_ID_r', when(col('valid') == 1, col('Keyword_ID')).otherwise(0)) \\\n",
    "        .drop('valid') \\\n",
    "        .persist()\n",
    "        \n",
    "sdf_exp_w_r.count()"
   ]
  },
  {
   "cell_type": "markdown",
   "metadata": {},
   "source": [
    "### Remove rare groups using Chi-Square test of independence"
   ]
  },
  {
   "cell_type": "code",
   "execution_count": 93,
   "metadata": {},
   "outputs": [
    {
     "name": "stdout",
     "output_type": "stream",
     "text": [
      "+------------+------------------+------------------+------------------+------------------+\n",
      "| Ad_group_ID|                 0|                 1|                 n|                 X|\n",
      "+------------+------------------+------------------+------------------+------------------+\n",
      "|855373402534|  97725.5336158703| 653217.0121436848| 750942.5457595551|  410911.306676475|\n",
      "|401896054132| 53062.12867587447|342484.42645475786|395546.55513063236|211770.94166309838|\n",
      "|474873553865|24156.850692209733|102331.64681102117| 126488.4975032309| 48315.05527260797|\n",
      "|143615983355|21134.202441979825|  90429.2425010868|111563.44494306663|43041.003074472195|\n",
      "|807562570330|11139.487982900284| 97396.50356056057|108535.99154346086| 68551.20251410276|\n",
      "+------------+------------------+------------------+------------------+------------------+\n",
      "only showing top 5 rows\n",
      "\n"
     ]
    },
    {
     "data": {
      "text/plain": [
       "269480"
      ]
     },
     "execution_count": 93,
     "metadata": {},
     "output_type": "execute_result"
    }
   ],
   "source": [
    "from pyspark.sql.functions import pow\n",
    "\n",
    "cat_var = 'Ad_group_ID'\n",
    "tmp = sdf_exp_w \\\n",
    "        .select(cat_var, 'y', 'n') \\\n",
    "        .groupBy(cat_var, 'y') \\\n",
    "        .agg(sum(col('n')).alias('n')) \\\n",
    "        .groupBy(cat_var) \\\n",
    "        .pivot('y', [0, 1]).sum('n') \\\n",
    "        .withColumn('1', when(col('1').isNull(), 0.0).otherwise(col('1'))) \\\n",
    "        .withColumn('n', col('0') + col('1')) \\\n",
    "        .withColumn('X', pow(col('0') - col('n') * .5, 2) / (col('n') * .5) * 2.0) \\\n",
    "        .orderBy(col('n').desc()) \\\n",
    "        .persist()\n",
    "        \n",
    "tmp.show(5)\n",
    "tmp.count()"
   ]
  },
  {
   "cell_type": "code",
   "execution_count": 94,
   "metadata": {},
   "outputs": [
    {
     "data": {
      "text/plain": [
       "<matplotlib.axes._subplots.AxesSubplot at 0x7fbf6236ec18>"
      ]
     },
     "execution_count": 94,
     "metadata": {},
     "output_type": "execute_result"
    },
    {
     "data": {
      "image/png": "[encoded data removed]",
      "text/plain": [
       "<matplotlib.figure.Figure at 0x7fbfa74262b0>"
      ]
     },
     "metadata": {},
     "output_type": "display_data"
    }
   ],
   "source": [
    "tmp.select('X').sample(fraction=.1, withReplacement=False, seed=2014).toPandas()['X'] \\\n",
    "    .hist(bins=30, figsize=(13, 5), range=[0, 200])\n"
   ]
  },
  {
   "cell_type": "markdown",
   "metadata": {},
   "source": [
    "https://en.wikipedia.org/wiki/Chi-squared_distribution#Table_of_χ2_values_vs_p-values"
   ]
  },
  {
   "cell_type": "code",
   "execution_count": 95,
   "metadata": {},
   "outputs": [
    {
     "name": "stdout",
     "output_type": "stream",
     "text": [
      "269480\n",
      "146976\n",
      "31957\n",
      "26431\n"
     ]
    }
   ],
   "source": [
    "# very at least 100 searches and Pval<.01\n",
    "\n",
    "print(tmp.count())\n",
    "print(tmp.filter(col('X') > 3.84).count())\n",
    "print(tmp.filter((col('n') > 100)).count())\n",
    "print(tmp.filter((col('X') > 6.63) & (col('n') > 100)).count())"
   ]
  },
  {
   "cell_type": "code",
   "execution_count": 96,
   "metadata": {},
   "outputs": [
    {
     "data": {
      "text/plain": [
       "26431"
      ]
     },
     "execution_count": 96,
     "metadata": {},
     "output_type": "execute_result"
    }
   ],
   "source": [
    "# create sdf with pruned keyword variable\n",
    "\n",
    "from pyspark.sql.functions import lit\n",
    "sdf_rm_keywords = tmp.filter((col('X') > 6.63) & (col('n') > 100)).select(cat_var).withColumn(\"valid\", lit(1)).persist()\n",
    "sdf_rm_keywords.count()"
   ]
  },
  {
   "cell_type": "code",
   "execution_count": 97,
   "metadata": {
    "scrolled": true
   },
   "outputs": [
    {
     "data": {
      "text/plain": [
       "8362990"
      ]
     },
     "execution_count": 97,
     "metadata": {},
     "output_type": "execute_result"
    }
   ],
   "source": [
    "sdf_exp_w_r = sdf_exp_w_r.alias('A') \\\n",
    "        .join(sdf_rm_keywords.alias('B'), col('A.' + cat_var) == col('B.' + cat_var), how='left') \\\n",
    "        .withColumn('valid', when(col('valid').isNull(), 0).otherwise(col('valid'))) \\\n",
    "        .drop(col('B.' + cat_var)) \\\n",
    "        .withColumn(cat_var + '_r', when(col('valid') == 1, col(cat_var)).otherwise(0)) \\\n",
    "        .persist()\n",
    "        \n",
    "sdf_exp_w_r.count()"
   ]
  },
  {
   "cell_type": "markdown",
   "metadata": {},
   "source": [
    "### Clean the data"
   ]
  },
  {
   "cell_type": "code",
   "execution_count": 98,
   "metadata": {},
   "outputs": [
    {
     "name": "stdout",
     "output_type": "stream",
     "text": [
      "Removing 0.0$ conversions: 1378 (0.85%)\n"
     ]
    },
    {
     "data": {
      "text/plain": [
       "8361612"
      ]
     },
     "execution_count": 98,
     "metadata": {},
     "output_type": "execute_result"
    }
   ],
   "source": [
    "# remove 0.0$ conversions\n",
    "m_n_0 = sdf_exp_w_r.filter((col('y') > 0) & (col('m') == 0)).count()\n",
    "m_n = sdf_exp_w_r.filter((col('y') > 0)).count()\n",
    "\n",
    "print('Removing 0.0$ conversions: {} ({:2.2f}%)'.format(m_n_0, m_n_0 / m_n * 100))\n",
    "\n",
    "ff = ((col('y') > 0) & (col('m') > 0)) | (col('y') == 0)\n",
    "sdf_exp_w_r = sdf_exp_w_r.filter(ff).persist()\n",
    "sdf_exp_w_r.count()"
   ]
  },
  {
   "cell_type": "markdown",
   "metadata": {},
   "source": [
    "### Import data to h2o DataFrame"
   ]
  },
  {
   "cell_type": "code",
   "execution_count": 99,
   "metadata": {
    "scrolled": false
   },
   "outputs": [
    {
     "name": "stdout",
     "output_type": "stream",
     "text": [
      "Connecting to H2O server at http://172.31.46.219:54321... successful.\n"
     ]
    },
    {
     "data": {
      "text/html": [
       "<div style=\"overflow:auto\"><table style=\"width:50%\"><tr><td>H2O cluster uptime:</td>\n",
       "<td>51 mins 29 secs</td></tr>\n",
       "<tr><td>H2O cluster version:</td>\n",
       "<td>3.16.0.2</td></tr>\n",
       "<tr><td>H2O cluster version age:</td>\n",
       "<td>1 month and 4 days </td></tr>\n",
       "<tr><td>H2O cluster name:</td>\n",
       "<td>sparkling-water-ubuntu_local-1515074242855</td></tr>\n",
       "<tr><td>H2O cluster total nodes:</td>\n",
       "<td>1</td></tr>\n",
       "<tr><td>H2O cluster free memory:</td>\n",
       "<td>10.51 Gb</td></tr>\n",
       "<tr><td>H2O cluster total cores:</td>\n",
       "<td>8</td></tr>\n",
       "<tr><td>H2O cluster allowed cores:</td>\n",
       "<td>8</td></tr>\n",
       "<tr><td>H2O cluster status:</td>\n",
       "<td>locked, healthy</td></tr>\n",
       "<tr><td>H2O connection url:</td>\n",
       "<td>http://172.31.46.219:54321</td></tr>\n",
       "<tr><td>H2O connection proxy:</td>\n",
       "<td>None</td></tr>\n",
       "<tr><td>H2O internal security:</td>\n",
       "<td>False</td></tr>\n",
       "<tr><td>H2O API Extensions:</td>\n",
       "<td>XGBoost, Algos, AutoML, Core V3, Core V4</td></tr>\n",
       "<tr><td>Python version:</td>\n",
       "<td>3.5.2 final</td></tr></table></div>"
      ],
      "text/plain": [
       "--------------------------  ------------------------------------------\n",
       "H2O cluster uptime:         51 mins 29 secs\n",
       "H2O cluster version:        3.16.0.2\n",
       "H2O cluster version age:    1 month and 4 days\n",
       "H2O cluster name:           sparkling-water-ubuntu_local-1515074242855\n",
       "H2O cluster total nodes:    1\n",
       "H2O cluster free memory:    10.51 Gb\n",
       "H2O cluster total cores:    8\n",
       "H2O cluster allowed cores:  8\n",
       "H2O cluster status:         locked, healthy\n",
       "H2O connection url:         http://172.31.46.219:54321\n",
       "H2O connection proxy:\n",
       "H2O internal security:      False\n",
       "H2O API Extensions:         XGBoost, Algos, AutoML, Core V3, Core V4\n",
       "Python version:             3.5.2 final\n",
       "--------------------------  ------------------------------------------"
      ]
     },
     "metadata": {},
     "output_type": "display_data"
    },
    {
     "name": "stdout",
     "output_type": "stream",
     "text": [
      "\n",
      "Sparkling Water Context:\n",
      " * H2O name: sparkling-water-ubuntu_local-1515074242855\n",
      " * cluster size: 1\n",
      " * list of used nodes:\n",
      "  (executorId, host, port)\n",
      "  ------------------------\n",
      "  (driver,172.31.46.219,54321)\n",
      "  ------------------------\n",
      "\n",
      "  Open H2O Flow in browser: http://172.31.46.219:54321 (CMD + click in Mac OSX)\n",
      "\n",
      "    \n"
     ]
    }
   ],
   "source": [
    "import h2o\n",
    "from pysparkling import H2OContext\n",
    "hc = H2OContext.getOrCreate(spark)"
   ]
  },
  {
   "cell_type": "code",
   "execution_count": 108,
   "metadata": {},
   "outputs": [],
   "source": [
    "h2o.remove_all()\n",
    "df = hc.as_h2o_frame(sdf_exp_w_r, framename='sdf_exp_w_r')"
   ]
  },
  {
   "cell_type": "code",
   "execution_count": 109,
   "metadata": {},
   "outputs": [],
   "source": [
    "df['Keyword_ID'] = df['Keyword_ID'].asfactor()\n",
    "df['Keyword_ID_r'] = df['Keyword_ID_r'].asfactor()\n",
    "df['Ad_group_ID'] = df['Ad_group_ID'].asfactor()\n",
    "df['Ad_group_ID_r'] = df['Ad_group_ID_r'].asfactor()\n",
    "df['Campaign_ID'] = df['Campaign_ID'].asfactor()\n",
    "df['Match_type_ID'] = df['Match_type_ID'].asfactor()\n",
    "df['Device_ID'] = df['Device_ID'].asfactor()\n",
    "\n",
    "df['Month'] = df['Date'].month().asfactor()\n",
    "df['Week'] = df['Date'].week().asfactor()\n",
    "df['Day'] = df['Date'].dayOfWeek().asfactor()\n",
    "\n",
    "df['rpc'] = df['rpc'].asnumeric()\n",
    "\n",
    "df['y'] = df['y'].asfactor()"
   ]
  },
  {
   "cell_type": "code",
   "execution_count": 110,
   "metadata": {},
   "outputs": [
    {
     "data": {
      "text/plain": [
       "['Date',\n",
       " 'Keyword_ID',\n",
       " 'Ad_group_ID',\n",
       " 'Campaign_ID',\n",
       " 'Account_ID',\n",
       " 'Device_ID',\n",
       " 'Match_type_ID',\n",
       " 'Revenue',\n",
       " 'Clicks',\n",
       " 'Conversions',\n",
       " 'n',\n",
       " 'y',\n",
       " 'm',\n",
       " 'rpc',\n",
       " 'n_orig',\n",
       " 'Keyword_ID_r',\n",
       " 'valid',\n",
       " 'Ad_group_ID_r',\n",
       " 'Month',\n",
       " 'Week',\n",
       " 'Day']"
      ]
     },
     "execution_count": 110,
     "metadata": {},
     "output_type": "execute_result"
    }
   ],
   "source": [
    "df.names"
   ]
  },
  {
   "cell_type": "markdown",
   "metadata": {},
   "source": [
    "### Detect outliers of m - on logarithmic scale (average Revenue per conversion)"
   ]
  },
  {
   "cell_type": "code",
   "execution_count": 111,
   "metadata": {},
   "outputs": [
    {
     "data": {
      "text/html": [
       "<div>\n",
       "<style scoped>\n",
       "    .dataframe tbody tr th:only-of-type {\n",
       "        vertical-align: middle;\n",
       "    }\n",
       "\n",
       "    .dataframe tbody tr th {\n",
       "        vertical-align: top;\n",
       "    }\n",
       "\n",
       "    .dataframe thead th {\n",
       "        text-align: right;\n",
       "    }\n",
       "</style>\n",
       "<table border=\"1\" class=\"dataframe\">\n",
       "  <thead>\n",
       "    <tr style=\"text-align: right;\">\n",
       "      <th></th>\n",
       "      <th>m</th>\n",
       "      <th>y</th>\n",
       "    </tr>\n",
       "  </thead>\n",
       "  <tbody>\n",
       "    <tr>\n",
       "      <th>0</th>\n",
       "      <td>0.0</td>\n",
       "      <td>0</td>\n",
       "    </tr>\n",
       "    <tr>\n",
       "      <th>1</th>\n",
       "      <td>0.0</td>\n",
       "      <td>0</td>\n",
       "    </tr>\n",
       "    <tr>\n",
       "      <th>2</th>\n",
       "      <td>0.0</td>\n",
       "      <td>0</td>\n",
       "    </tr>\n",
       "    <tr>\n",
       "      <th>3</th>\n",
       "      <td>0.0</td>\n",
       "      <td>0</td>\n",
       "    </tr>\n",
       "    <tr>\n",
       "      <th>4</th>\n",
       "      <td>0.0</td>\n",
       "      <td>0</td>\n",
       "    </tr>\n",
       "  </tbody>\n",
       "</table>\n",
       "</div>"
      ],
      "text/plain": [
       "     m  y\n",
       "0  0.0  0\n",
       "1  0.0  0\n",
       "2  0.0  0\n",
       "3  0.0  0\n",
       "4  0.0  0"
      ]
     },
     "execution_count": 111,
     "metadata": {},
     "output_type": "execute_result"
    }
   ],
   "source": [
    "tmp = df[['m', 'y']].as_data_frame()\n",
    "len(tmp)\n",
    "tmp.head()"
   ]
  },
  {
   "cell_type": "code",
   "execution_count": 112,
   "metadata": {},
   "outputs": [
    {
     "data": {
      "text/html": [
       "<div>\n",
       "<style scoped>\n",
       "    .dataframe tbody tr th:only-of-type {\n",
       "        vertical-align: middle;\n",
       "    }\n",
       "\n",
       "    .dataframe tbody tr th {\n",
       "        vertical-align: top;\n",
       "    }\n",
       "\n",
       "    .dataframe thead th {\n",
       "        text-align: right;\n",
       "    }\n",
       "</style>\n",
       "<table border=\"1\" class=\"dataframe\">\n",
       "  <thead>\n",
       "    <tr style=\"text-align: right;\">\n",
       "      <th></th>\n",
       "      <th>m</th>\n",
       "      <th>y</th>\n",
       "      <th>log_m</th>\n",
       "    </tr>\n",
       "  </thead>\n",
       "  <tbody>\n",
       "    <tr>\n",
       "      <th>count</th>\n",
       "      <td>8.361612e+06</td>\n",
       "      <td>8.361612e+06</td>\n",
       "      <td>160649.000000</td>\n",
       "    </tr>\n",
       "    <tr>\n",
       "      <th>mean</th>\n",
       "      <td>7.656375e+01</td>\n",
       "      <td>1.921268e-02</td>\n",
       "      <td>7.847454</td>\n",
       "    </tr>\n",
       "    <tr>\n",
       "      <th>std</th>\n",
       "      <td>8.807943e+02</td>\n",
       "      <td>1.372718e-01</td>\n",
       "      <td>0.970534</td>\n",
       "    </tr>\n",
       "    <tr>\n",
       "      <th>min</th>\n",
       "      <td>0.000000e+00</td>\n",
       "      <td>0.000000e+00</td>\n",
       "      <td>2.010895</td>\n",
       "    </tr>\n",
       "    <tr>\n",
       "      <th>25%</th>\n",
       "      <td>0.000000e+00</td>\n",
       "      <td>0.000000e+00</td>\n",
       "      <td>7.220403</td>\n",
       "    </tr>\n",
       "    <tr>\n",
       "      <th>50%</th>\n",
       "      <td>0.000000e+00</td>\n",
       "      <td>0.000000e+00</td>\n",
       "      <td>7.899241</td>\n",
       "    </tr>\n",
       "    <tr>\n",
       "      <th>75%</th>\n",
       "      <td>0.000000e+00</td>\n",
       "      <td>0.000000e+00</td>\n",
       "      <td>8.527111</td>\n",
       "    </tr>\n",
       "    <tr>\n",
       "      <th>max</th>\n",
       "      <td>5.148236e+05</td>\n",
       "      <td>1.000000e+00</td>\n",
       "      <td>13.151580</td>\n",
       "    </tr>\n",
       "  </tbody>\n",
       "</table>\n",
       "</div>"
      ],
      "text/plain": [
       "                  m             y          log_m\n",
       "count  8.361612e+06  8.361612e+06  160649.000000\n",
       "mean   7.656375e+01  1.921268e-02       7.847454\n",
       "std    8.807943e+02  1.372718e-01       0.970534\n",
       "min    0.000000e+00  0.000000e+00       2.010895\n",
       "25%    0.000000e+00  0.000000e+00       7.220403\n",
       "50%    0.000000e+00  0.000000e+00       7.899241\n",
       "75%    0.000000e+00  0.000000e+00       8.527111\n",
       "max    5.148236e+05  1.000000e+00      13.151580"
      ]
     },
     "execution_count": 112,
     "metadata": {},
     "output_type": "execute_result"
    }
   ],
   "source": [
    "# take log where it is positive, else we put NaN to capture possible errors when using wrong values\n",
    "tmp.loc[tmp['y'] > 0, 'log_m'] = np.log(tmp[tmp['y'] > 0]['m'])\n",
    "tmp.describe()"
   ]
  },
  {
   "cell_type": "code",
   "execution_count": 113,
   "metadata": {},
   "outputs": [
    {
     "data": {
      "text/html": [
       "<div>\n",
       "<style scoped>\n",
       "    .dataframe tbody tr th:only-of-type {\n",
       "        vertical-align: middle;\n",
       "    }\n",
       "\n",
       "    .dataframe tbody tr th {\n",
       "        vertical-align: top;\n",
       "    }\n",
       "\n",
       "    .dataframe thead th {\n",
       "        text-align: right;\n",
       "    }\n",
       "</style>\n",
       "<table border=\"1\" class=\"dataframe\">\n",
       "  <thead>\n",
       "    <tr style=\"text-align: right;\">\n",
       "      <th></th>\n",
       "      <th>m</th>\n",
       "      <th>y</th>\n",
       "      <th>log_m</th>\n",
       "      <th>outlier</th>\n",
       "    </tr>\n",
       "  </thead>\n",
       "  <tbody>\n",
       "    <tr>\n",
       "      <th>count</th>\n",
       "      <td>8.361612e+06</td>\n",
       "      <td>8.361612e+06</td>\n",
       "      <td>160649.000000</td>\n",
       "      <td>160649.000000</td>\n",
       "    </tr>\n",
       "    <tr>\n",
       "      <th>mean</th>\n",
       "      <td>7.656375e+01</td>\n",
       "      <td>1.921268e-02</td>\n",
       "      <td>7.847454</td>\n",
       "      <td>0.800098</td>\n",
       "    </tr>\n",
       "    <tr>\n",
       "      <th>std</th>\n",
       "      <td>8.807943e+02</td>\n",
       "      <td>1.372718e-01</td>\n",
       "      <td>0.970534</td>\n",
       "      <td>0.599871</td>\n",
       "    </tr>\n",
       "    <tr>\n",
       "      <th>min</th>\n",
       "      <td>0.000000e+00</td>\n",
       "      <td>0.000000e+00</td>\n",
       "      <td>2.010895</td>\n",
       "      <td>-1.000000</td>\n",
       "    </tr>\n",
       "    <tr>\n",
       "      <th>25%</th>\n",
       "      <td>0.000000e+00</td>\n",
       "      <td>0.000000e+00</td>\n",
       "      <td>7.220403</td>\n",
       "      <td>1.000000</td>\n",
       "    </tr>\n",
       "    <tr>\n",
       "      <th>50%</th>\n",
       "      <td>0.000000e+00</td>\n",
       "      <td>0.000000e+00</td>\n",
       "      <td>7.899241</td>\n",
       "      <td>1.000000</td>\n",
       "    </tr>\n",
       "    <tr>\n",
       "      <th>75%</th>\n",
       "      <td>0.000000e+00</td>\n",
       "      <td>0.000000e+00</td>\n",
       "      <td>8.527111</td>\n",
       "      <td>1.000000</td>\n",
       "    </tr>\n",
       "    <tr>\n",
       "      <th>max</th>\n",
       "      <td>5.148236e+05</td>\n",
       "      <td>1.000000e+00</td>\n",
       "      <td>13.151580</td>\n",
       "      <td>1.000000</td>\n",
       "    </tr>\n",
       "  </tbody>\n",
       "</table>\n",
       "</div>"
      ],
      "text/plain": [
       "                  m             y          log_m        outlier\n",
       "count  8.361612e+06  8.361612e+06  160649.000000  160649.000000\n",
       "mean   7.656375e+01  1.921268e-02       7.847454       0.800098\n",
       "std    8.807943e+02  1.372718e-01       0.970534       0.599871\n",
       "min    0.000000e+00  0.000000e+00       2.010895      -1.000000\n",
       "25%    0.000000e+00  0.000000e+00       7.220403       1.000000\n",
       "50%    0.000000e+00  0.000000e+00       7.899241       1.000000\n",
       "75%    0.000000e+00  0.000000e+00       8.527111       1.000000\n",
       "max    5.148236e+05  1.000000e+00      13.151580       1.000000"
      ]
     },
     "execution_count": 113,
     "metadata": {},
     "output_type": "execute_result"
    }
   ],
   "source": [
    "# remove outliers using EllipticEnvelope\n",
    "from sklearn.covariance import EllipticEnvelope\n",
    "\n",
    "ee = EllipticEnvelope()\n",
    "ee.fit(tmp[tmp['y'] > 0][['log_m']])\n",
    "tmp.loc[tmp['y'] > 0, 'outlier'] = ee.predict(tmp[tmp['y'] > 0][['log_m']])\n",
    "tmp.describe()"
   ]
  },
  {
   "cell_type": "code",
   "execution_count": 114,
   "metadata": {
    "scrolled": false
   },
   "outputs": [
    {
     "data": {
      "text/plain": [
       "outlier\n",
       "-1.0    [[AxesSubplot(0.125,0.125;0.775x0.755)]]\n",
       " 1.0    [[AxesSubplot(0.125,0.125;0.775x0.755)]]\n",
       "dtype: object"
      ]
     },
     "execution_count": 114,
     "metadata": {},
     "output_type": "execute_result"
    },
    {
     "data": {
      "image/png": "[encoded data removed]",
      "text/plain": [
       "<matplotlib.figure.Figure at 0x7fbf674af940>"
      ]
     },
     "metadata": {},
     "output_type": "display_data"
    },
    {
     "data": {
      "image/png": "[encoded data removed]",
      "text/plain": [
       "<matplotlib.figure.Figure at 0x7fbf674ae7f0>"
      ]
     },
     "metadata": {},
     "output_type": "display_data"
    }
   ],
   "source": [
    "tmp[tmp['y'] > 0][['log_m', 'outlier']].groupby('outlier').hist()"
   ]
  },
  {
   "cell_type": "code",
   "execution_count": 115,
   "metadata": {},
   "outputs": [
    {
     "data": {
      "text/html": [
       "<div>\n",
       "<style scoped>\n",
       "    .dataframe tbody tr th:only-of-type {\n",
       "        vertical-align: middle;\n",
       "    }\n",
       "\n",
       "    .dataframe tbody tr th {\n",
       "        vertical-align: top;\n",
       "    }\n",
       "\n",
       "    .dataframe thead th {\n",
       "        text-align: right;\n",
       "    }\n",
       "</style>\n",
       "<table border=\"1\" class=\"dataframe\">\n",
       "  <thead>\n",
       "    <tr style=\"text-align: right;\">\n",
       "      <th></th>\n",
       "      <th>m</th>\n",
       "      <th>y</th>\n",
       "      <th>log_m</th>\n",
       "      <th>outlier</th>\n",
       "    </tr>\n",
       "  </thead>\n",
       "  <tbody>\n",
       "    <tr>\n",
       "      <th>count</th>\n",
       "      <td>8.361612e+06</td>\n",
       "      <td>8.361612e+06</td>\n",
       "      <td>160649.000000</td>\n",
       "      <td>8.361612e+06</td>\n",
       "    </tr>\n",
       "    <tr>\n",
       "      <th>mean</th>\n",
       "      <td>7.656375e+01</td>\n",
       "      <td>1.921268e-02</td>\n",
       "      <td>7.847454</td>\n",
       "      <td>1.537204e-02</td>\n",
       "    </tr>\n",
       "    <tr>\n",
       "      <th>std</th>\n",
       "      <td>8.807943e+02</td>\n",
       "      <td>1.372718e-01</td>\n",
       "      <td>0.970534</td>\n",
       "      <td>1.377548e-01</td>\n",
       "    </tr>\n",
       "    <tr>\n",
       "      <th>min</th>\n",
       "      <td>0.000000e+00</td>\n",
       "      <td>0.000000e+00</td>\n",
       "      <td>2.010895</td>\n",
       "      <td>-1.000000e+00</td>\n",
       "    </tr>\n",
       "    <tr>\n",
       "      <th>25%</th>\n",
       "      <td>0.000000e+00</td>\n",
       "      <td>0.000000e+00</td>\n",
       "      <td>7.220403</td>\n",
       "      <td>0.000000e+00</td>\n",
       "    </tr>\n",
       "    <tr>\n",
       "      <th>50%</th>\n",
       "      <td>0.000000e+00</td>\n",
       "      <td>0.000000e+00</td>\n",
       "      <td>7.899241</td>\n",
       "      <td>0.000000e+00</td>\n",
       "    </tr>\n",
       "    <tr>\n",
       "      <th>75%</th>\n",
       "      <td>0.000000e+00</td>\n",
       "      <td>0.000000e+00</td>\n",
       "      <td>8.527111</td>\n",
       "      <td>0.000000e+00</td>\n",
       "    </tr>\n",
       "    <tr>\n",
       "      <th>max</th>\n",
       "      <td>5.148236e+05</td>\n",
       "      <td>1.000000e+00</td>\n",
       "      <td>13.151580</td>\n",
       "      <td>1.000000e+00</td>\n",
       "    </tr>\n",
       "  </tbody>\n",
       "</table>\n",
       "</div>"
      ],
      "text/plain": [
       "                  m             y          log_m       outlier\n",
       "count  8.361612e+06  8.361612e+06  160649.000000  8.361612e+06\n",
       "mean   7.656375e+01  1.921268e-02       7.847454  1.537204e-02\n",
       "std    8.807943e+02  1.372718e-01       0.970534  1.377548e-01\n",
       "min    0.000000e+00  0.000000e+00       2.010895 -1.000000e+00\n",
       "25%    0.000000e+00  0.000000e+00       7.220403  0.000000e+00\n",
       "50%    0.000000e+00  0.000000e+00       7.899241  0.000000e+00\n",
       "75%    0.000000e+00  0.000000e+00       8.527111  0.000000e+00\n",
       "max    5.148236e+05  1.000000e+00      13.151580  1.000000e+00"
      ]
     },
     "execution_count": 115,
     "metadata": {},
     "output_type": "execute_result"
    }
   ],
   "source": [
    "tmp.loc[np.isnan(tmp['outlier']), 'outlier'] = 0\n",
    "tmp.describe()"
   ]
  },
  {
   "cell_type": "code",
   "execution_count": 116,
   "metadata": {},
   "outputs": [
    {
     "name": "stdout",
     "output_type": "stream",
     "text": [
      "Parse progress: |█████████████████████████████████████████████████████████| 100%\n"
     ]
    }
   ],
   "source": [
    "# merge back with h2o df:\n",
    "df_out_m = h2o.H2OFrame(tmp[['outlier']])"
   ]
  },
  {
   "cell_type": "code",
   "execution_count": 117,
   "metadata": {},
   "outputs": [
    {
     "data": {
      "text/plain": [
       "['Date',\n",
       " 'Keyword_ID',\n",
       " 'Ad_group_ID',\n",
       " 'Campaign_ID',\n",
       " 'Account_ID',\n",
       " 'Device_ID',\n",
       " 'Match_type_ID',\n",
       " 'Revenue',\n",
       " 'Clicks',\n",
       " 'Conversions',\n",
       " 'n',\n",
       " 'y',\n",
       " 'm',\n",
       " 'rpc',\n",
       " 'n_orig',\n",
       " 'Keyword_ID_r',\n",
       " 'valid',\n",
       " 'Ad_group_ID_r',\n",
       " 'Month',\n",
       " 'Week',\n",
       " 'Day',\n",
       " 'outlier']"
      ]
     },
     "execution_count": 117,
     "metadata": {},
     "output_type": "execute_result"
    }
   ],
   "source": [
    "df = df.cbind(df_out_m)\n",
    "df.names"
   ]
  },
  {
   "cell_type": "markdown",
   "metadata": {},
   "source": [
    "### Test, Train, Validate\n",
    "\n",
    "Few comments about splitting the dataset (date and Keyword are the key)"
   ]
  },
  {
   "cell_type": "code",
   "execution_count": 118,
   "metadata": {},
   "outputs": [],
   "source": [
    "train, validate, test = df[df['outlier'] > -1, :].split_frame([.8, .1], seed=2014)\n",
    "\n",
    "predictors = ['Keyword_ID_r', 'Ad_group_ID_r', 'Campaign_ID', \n",
    "              'Account_ID', 'Match_type_ID', 'Device_ID', 'Month', 'Day', 'Week']\n",
    "response = 'y'\n",
    "weights_col = 'n'"
   ]
  },
  {
   "cell_type": "markdown",
   "metadata": {},
   "source": [
    "### Model building process\n",
    "\n",
    "We keep track of the progress with respect to the 'trivial model' to evaluate dimnishing returns of model exploration process:\n",
    "\n",
    "- majority class assignment for `y`\n",
    "- dataset average for `m`\n",
    "\n",
    "Note: We evaluate model bulding progress using validation set."
   ]
  },
  {
   "cell_type": "code",
   "execution_count": 120,
   "metadata": {},
   "outputs": [
    {
     "name": "stdout",
     "output_type": "stream",
     "text": [
      "Average revenue per click: 1692.10$\n",
      "Average revenue per click (unweighted): 44.43$\n",
      "RMSE: 2097.09$\n",
      "RMSE (unweighted): 412.61$\n"
     ]
    }
   ],
   "source": [
    "# trivial model predictions:\n",
    "\n",
    "model_0_m_avg = (train[['m']] * train[['n']]).sum() / train[['n']].sum()\n",
    "model_0_m_avg_uw = (train[['m']] * train[['n_orig']]).sum() / train[['n_orig']].sum()\n",
    "print('Average revenue per click: {:.2f}$'.format(model_0_m_avg))\n",
    "print('Average revenue per click (unweighted): {:.2f}$'.format(model_0_m_avg_uw))\n",
    "\n",
    "validate['pred_revenue'] = model_0_m_avg\n",
    "validate['pred_revenue_uw'] = model_0_m_avg_uw\n",
    "\n",
    "# evaluate target metrics:\n",
    "\n",
    "frame = validate\n",
    "model_0_err1 = ((frame['pred_revenue'] - frame['rpc']) * (frame['pred_revenue'] - frame['rpc']) * frame['n']).sum() / frame['n'].sum()\n",
    "model_0_err2 = np.sqrt(model_0_err1)\n",
    "\n",
    "model_0_err1_uw = ((frame['pred_revenue_uw'] - frame['rpc']) * (frame['pred_revenue_uw'] - frame['rpc']) * frame['n_orig']).sum() / frame['n_orig'].sum()\n",
    "model_0_err2_uw = np.sqrt(model_0_err1_uw)\n",
    "\n",
    "print('RMSE: {:.2f}$'.format(model_0_err2))\n",
    "print('RMSE (unweighted): {:.2f}$'.format(model_0_err2_uw))"
   ]
  },
  {
   "cell_type": "markdown",
   "metadata": {},
   "source": [
    "### Model for `P[Conversion]`: Lasso Logistic regression\n",
    "\n",
    "http://docs.h2o.ai/h2o/latest-stable/h2o-docs/booklets/GLMBooklet.pdf  \n",
    "http://docs.h2o.ai/h2o/latest-stable/h2o-docs/data-science/glm.html"
   ]
  },
  {
   "cell_type": "markdown",
   "metadata": {},
   "source": [
    "#### Tune lasso parameters"
   ]
  },
  {
   "cell_type": "code",
   "execution_count": 195,
   "metadata": {},
   "outputs": [
    {
     "name": "stdout",
     "output_type": "stream",
     "text": [
      "glm Grid Build progress: |████████████████████████████████████████████████| 100%\n"
     ]
    },
    {
     "name": "stderr",
     "output_type": "stream",
     "text": [
      "/home/ubuntu/.local/share/virtualenvs/ml-rpc-LO9Wo36E/lib/python3.5/site-packages/h2o/job.py:69: UserWarning: Reached maximum number of iterations 50!\n",
      "  warnings.warn(w)\n"
     ]
    }
   ],
   "source": [
    "from h2o.grid import H2OGridSearch\n",
    "from h2o.estimators.glm import H2OGeneralizedLinearEstimator\n",
    "\n",
    "import numpy as np\n",
    "\n",
    "lambda_grid = list(np.logspace(start=-7.0, stop=-3.0, num=10, base=10.0))\n",
    "\n",
    "g = H2OGridSearch(\n",
    "        model=H2OGeneralizedLinearEstimator(family=\"binomial\", alpha=1.0),\n",
    "        hyper_params={\"lambda\": lambda_grid},\n",
    "        grid_id=\"glm_grid\"\n",
    "    )\n",
    "\n",
    "g.train(predictors, response, training_frame=train, validation_frame=validate, weights_column = weights_col)"
   ]
  },
  {
   "cell_type": "code",
   "execution_count": 196,
   "metadata": {},
   "outputs": [
    {
     "data": {
      "text/html": [
       "<div>\n",
       "<style scoped>\n",
       "    .dataframe tbody tr th:only-of-type {\n",
       "        vertical-align: middle;\n",
       "    }\n",
       "\n",
       "    .dataframe tbody tr th {\n",
       "        vertical-align: top;\n",
       "    }\n",
       "\n",
       "    .dataframe thead th {\n",
       "        text-align: right;\n",
       "    }\n",
       "</style>\n",
       "<table border=\"1\" class=\"dataframe\">\n",
       "  <thead>\n",
       "    <tr style=\"text-align: right;\">\n",
       "      <th></th>\n",
       "      <th>Model_ID</th>\n",
       "      <th>AUC</th>\n",
       "      <th>lambda</th>\n",
       "    </tr>\n",
       "  </thead>\n",
       "  <tbody>\n",
       "    <tr>\n",
       "      <th>7</th>\n",
       "      <td>glm_grid_model_5</td>\n",
       "      <td>0.785573</td>\n",
       "      <td>1.668101e-05</td>\n",
       "    </tr>\n",
       "    <tr>\n",
       "      <th>3</th>\n",
       "      <td>glm_grid_model_1</td>\n",
       "      <td>0.774179</td>\n",
       "      <td>2.782559e-07</td>\n",
       "    </tr>\n",
       "    <tr>\n",
       "      <th>6</th>\n",
       "      <td>glm_grid_model_0</td>\n",
       "      <td>0.773101</td>\n",
       "      <td>1.000000e-07</td>\n",
       "    </tr>\n",
       "    <tr>\n",
       "      <th>2</th>\n",
       "      <td>glm_grid_model_2</td>\n",
       "      <td>0.768700</td>\n",
       "      <td>7.742637e-07</td>\n",
       "    </tr>\n",
       "    <tr>\n",
       "      <th>5</th>\n",
       "      <td>glm_grid_model_6</td>\n",
       "      <td>0.767554</td>\n",
       "      <td>4.641589e-05</td>\n",
       "    </tr>\n",
       "    <tr>\n",
       "      <th>4</th>\n",
       "      <td>glm_grid_model_3</td>\n",
       "      <td>0.763050</td>\n",
       "      <td>2.154435e-06</td>\n",
       "    </tr>\n",
       "    <tr>\n",
       "      <th>8</th>\n",
       "      <td>glm_grid_model_4</td>\n",
       "      <td>0.756216</td>\n",
       "      <td>5.994843e-06</td>\n",
       "    </tr>\n",
       "    <tr>\n",
       "      <th>1</th>\n",
       "      <td>glm_grid_model_7</td>\n",
       "      <td>0.750369</td>\n",
       "      <td>1.291550e-04</td>\n",
       "    </tr>\n",
       "    <tr>\n",
       "      <th>9</th>\n",
       "      <td>glm_grid_model_8</td>\n",
       "      <td>0.733851</td>\n",
       "      <td>3.593814e-04</td>\n",
       "    </tr>\n",
       "    <tr>\n",
       "      <th>0</th>\n",
       "      <td>glm_grid_model_9</td>\n",
       "      <td>0.719154</td>\n",
       "      <td>1.000000e-03</td>\n",
       "    </tr>\n",
       "  </tbody>\n",
       "</table>\n",
       "</div>"
      ],
      "text/plain": [
       "           Model_ID       AUC        lambda\n",
       "7  glm_grid_model_5  0.785573  1.668101e-05\n",
       "3  glm_grid_model_1  0.774179  2.782559e-07\n",
       "6  glm_grid_model_0  0.773101  1.000000e-07\n",
       "2  glm_grid_model_2  0.768700  7.742637e-07\n",
       "5  glm_grid_model_6  0.767554  4.641589e-05\n",
       "4  glm_grid_model_3  0.763050  2.154435e-06\n",
       "8  glm_grid_model_4  0.756216  5.994843e-06\n",
       "1  glm_grid_model_7  0.750369  1.291550e-04\n",
       "9  glm_grid_model_8  0.733851  3.593814e-04\n",
       "0  glm_grid_model_9  0.719154  1.000000e-03"
      ]
     },
     "execution_count": 196,
     "metadata": {},
     "output_type": "execute_result"
    }
   ],
   "source": [
    "import pandas as pd\n",
    "pd_auc = pd.DataFrame(list(g.auc().items()), columns=['Model_ID', 'AUC']).sort_values('AUC', ascending=False)\n",
    "model_ids = pd_auc['Model_ID'].values\n",
    "pd_auc['lambda'] = np.array([g.get_hyperparams_dict(model, display=False)['lambda'] for model in model_ids])\n",
    "pd_auc = pd_auc.sort_values('AUC', ascending=False)\n",
    "\n",
    "pd_auc\n",
    "\n",
    "# select best model and remove the rest\n",
    "# h2o.remove_all()"
   ]
  },
  {
   "cell_type": "code",
   "execution_count": 121,
   "metadata": {},
   "outputs": [
    {
     "name": "stdout",
     "output_type": "stream",
     "text": [
      "glm Model Build progress: |███████████████████████████████████████████████| 100%\n"
     ]
    }
   ],
   "source": [
    "from h2o.estimators.glm import H2OGeneralizedLinearEstimator\n",
    "\n",
    "glm_model = H2OGeneralizedLinearEstimator(family=\"binomial\", \n",
    "                                          lambda_=1.668101e-05, \n",
    "                                          standardize=True,\n",
    "                                          alpha=1.0,\n",
    "                                          max_iterations=100)\n",
    "\n",
    "glm_model.train(predictors, response, training_frame=train, validation_frame=validate, weights_column = 'n')"
   ]
  },
  {
   "cell_type": "code",
   "execution_count": 122,
   "metadata": {
    "scrolled": false
   },
   "outputs": [
    {
     "name": "stdout",
     "output_type": "stream",
     "text": [
      "Could not find exact threshold 0.5; using closest threshold found 0.5006957587542978.\n",
      "Confusion Matrix (Act/Pred) @ threshold = 0.5006957587542978: \n"
     ]
    },
    {
     "data": {
      "text/html": [
       "<div style=\"overflow:auto\"><table style=\"width:50%\"><tr><td><b></b></td>\n",
       "<td><b>0</b></td>\n",
       "<td><b>1</b></td>\n",
       "<td><b>Error</b></td>\n",
       "<td><b>Rate</b></td></tr>\n",
       "<tr><td>0</td>\n",
       "<td>8394824.0</td>\n",
       "<td>2825344.0</td>\n",
       "<td>0.2518</td>\n",
       "<td> (2825344.0/11220168.0)</td></tr>\n",
       "<tr><td>1</td>\n",
       "<td>3270113.0</td>\n",
       "<td>6860828.0</td>\n",
       "<td>0.3228</td>\n",
       "<td> (3270113.0/10130941.0)</td></tr>\n",
       "<tr><td>Total</td>\n",
       "<td>11664937.0000000</td>\n",
       "<td>9686172.0</td>\n",
       "<td>0.2855</td>\n",
       "<td> (6095457.0/21351109.0)</td></tr></table></div>"
      ],
      "text/plain": [
       "       0            1            Error    Rate\n",
       "-----  -----------  -----------  -------  ----------------------\n",
       "0      8.39482e+06  2.82534e+06  0.2518   (2825344.0/11220168.0)\n",
       "1      3.27011e+06  6.86083e+06  0.3228   (3270113.0/10130941.0)\n",
       "Total  1.16649e+07  9.68617e+06  0.2855   (6095457.0/21351109.0)"
      ]
     },
     "metadata": {},
     "output_type": "display_data"
    },
    {
     "name": "stdout",
     "output_type": "stream",
     "text": [
      "Confusion Matrix (Act/Pred) for max accuracy @ threshold = 0.5028807298090842: \n"
     ]
    },
    {
     "data": {
      "text/html": [
       "<div style=\"overflow:auto\"><table style=\"width:50%\"><tr><td><b></b></td>\n",
       "<td><b>0</b></td>\n",
       "<td><b>1</b></td>\n",
       "<td><b>Error</b></td>\n",
       "<td><b>Rate</b></td></tr>\n",
       "<tr><td>0</td>\n",
       "<td>8425097.0</td>\n",
       "<td>2795071.0</td>\n",
       "<td>0.2491</td>\n",
       "<td> (2795071.0/11220168.0)</td></tr>\n",
       "<tr><td>1</td>\n",
       "<td>3300123.0</td>\n",
       "<td>6830818.0</td>\n",
       "<td>0.3257</td>\n",
       "<td> (3300123.0/10130941.0)</td></tr>\n",
       "<tr><td>Total</td>\n",
       "<td>11725220.0000000</td>\n",
       "<td>9625889.0</td>\n",
       "<td>0.2855</td>\n",
       "<td> (6095194.0/21351109.0)</td></tr></table></div>"
      ],
      "text/plain": [
       "       0            1            Error    Rate\n",
       "-----  -----------  -----------  -------  ----------------------\n",
       "0      8.4251e+06   2.79507e+06  0.2491   (2795071.0/11220168.0)\n",
       "1      3.30012e+06  6.83082e+06  0.3257   (3300123.0/10130941.0)\n",
       "Total  1.17252e+07  9.62589e+06  0.2855   (6095194.0/21351109.0)"
      ]
     },
     "metadata": {},
     "output_type": "display_data"
    },
    {
     "data": {
      "text/plain": [
       "[, ]"
      ]
     },
     "execution_count": 122,
     "metadata": {},
     "output_type": "execute_result"
    }
   ],
   "source": [
    "glm_model.model_performance(train).confusion_matrix(metrics='accuracy', thresholds=[.5])"
   ]
  },
  {
   "cell_type": "code",
   "execution_count": 59,
   "metadata": {},
   "outputs": [
    {
     "name": "stdout",
     "output_type": "stream",
     "text": [
      "Could not find exact threshold 0.5; using closest threshold found 0.49921668293114435.\n",
      "Confusion Matrix (Act/Pred) @ threshold = 0.49921668293114435: \n"
     ]
    },
    {
     "data": {
      "text/html": [
       "<div style=\"overflow:auto\"><table style=\"width:50%\"><tr><td><b></b></td>\n",
       "<td><b>0</b></td>\n",
       "<td><b>1</b></td>\n",
       "<td><b>Error</b></td>\n",
       "<td><b>Rate</b></td></tr>\n",
       "<tr><td>0</td>\n",
       "<td>1044987.0</td>\n",
       "<td>354114.0</td>\n",
       "<td>0.2531</td>\n",
       "<td> (354114.0/1399101.0)</td></tr>\n",
       "<tr><td>1</td>\n",
       "<td>422390.0</td>\n",
       "<td>840389.0</td>\n",
       "<td>0.3345</td>\n",
       "<td> (422390.0/1262779.0)</td></tr>\n",
       "<tr><td>Total</td>\n",
       "<td>1467377.0</td>\n",
       "<td>1194503.0</td>\n",
       "<td>0.2917</td>\n",
       "<td> (776504.0/2661880.0)</td></tr></table></div>"
      ],
      "text/plain": [
       "       0            1           Error    Rate\n",
       "-----  -----------  ----------  -------  --------------------\n",
       "0      1.04499e+06  354114      0.2531   (354114.0/1399101.0)\n",
       "1      422390       840389      0.3345   (422390.0/1262779.0)\n",
       "Total  1.46738e+06  1.1945e+06  0.2917   (776504.0/2661880.0)"
      ]
     },
     "metadata": {},
     "output_type": "display_data"
    },
    {
     "name": "stdout",
     "output_type": "stream",
     "text": [
      "Confusion Matrix (Act/Pred) for max accuracy @ threshold = 0.5274366964409944: \n"
     ]
    },
    {
     "data": {
      "text/html": [
       "<div style=\"overflow:auto\"><table style=\"width:50%\"><tr><td><b></b></td>\n",
       "<td><b>0</b></td>\n",
       "<td><b>1</b></td>\n",
       "<td><b>Error</b></td>\n",
       "<td><b>Rate</b></td></tr>\n",
       "<tr><td>0</td>\n",
       "<td>1094220.0</td>\n",
       "<td>304880.0</td>\n",
       "<td>0.2179</td>\n",
       "<td> (304880.0/1399100.0)</td></tr>\n",
       "<tr><td>1</td>\n",
       "<td>469455.0</td>\n",
       "<td>793324.0</td>\n",
       "<td>0.3718</td>\n",
       "<td> (469455.0/1262779.0)</td></tr>\n",
       "<tr><td>Total</td>\n",
       "<td>1563675.0</td>\n",
       "<td>1098204.0</td>\n",
       "<td>0.2909</td>\n",
       "<td> (774335.0/2661879.0)</td></tr></table></div>"
      ],
      "text/plain": [
       "       0            1           Error    Rate\n",
       "-----  -----------  ----------  -------  --------------------\n",
       "0      1.09422e+06  304880      0.2179   (304880.0/1399100.0)\n",
       "1      469455       793324      0.3718   (469455.0/1262779.0)\n",
       "Total  1.56368e+06  1.0982e+06  0.2909   (774335.0/2661879.0)"
      ]
     },
     "metadata": {},
     "output_type": "display_data"
    },
    {
     "data": {
      "text/plain": [
       "[, ]"
      ]
     },
     "execution_count": 59,
     "metadata": {},
     "output_type": "execute_result"
    }
   ],
   "source": [
    "glm_model.model_performance(validate).confusion_matrix(metrics='accuracy', thresholds=[.5])"
   ]
  },
  {
   "cell_type": "code",
   "execution_count": 123,
   "metadata": {},
   "outputs": [
    {
     "data": {
      "image/png": "[encoded data removed]",
      "text/plain": [
       "<matplotlib.figure.Figure at 0x7fbf788c67f0>"
      ]
     },
     "metadata": {},
     "output_type": "display_data"
    }
   ],
   "source": [
    "tmp = glm_model.model_performance(train)\n",
    "from matplotlib import pyplot as plt\n",
    "# plt.figure(figsize=(7, 7))\n",
    "tmp.plot()"
   ]
  },
  {
   "cell_type": "markdown",
   "metadata": {},
   "source": [
    "### Validate model:\n",
    "\n",
    "We keep track of the progress with respect to the 'trivial model' to evaluate dimnishing returns of model exploration process:\n",
    "\n",
    "- class assignment for `y` according to `P[Conversion]` with tuned threshold\n",
    "- dataset average for `m`"
   ]
  },
  {
   "cell_type": "code",
   "execution_count": 130,
   "metadata": {},
   "outputs": [],
   "source": []
  },
  {
   "cell_type": "code",
   "execution_count": 136,
   "metadata": {
    "scrolled": true
   },
   "outputs": [
    {
     "name": "stdout",
     "output_type": "stream",
     "text": [
      "Average revenue per conversion: 3566.13$\n",
      "glm prediction progress: |████████████████████████████████████████████████| 100%\n",
      "RMSE: 2107.25$\n",
      "RMSE (unweighted): 409.91$\n"
     ]
    }
   ],
   "source": [
    "model_0_m_avg_per_conv = (train[['m']] * train[['n']]).sum() / train[train['y']=='1', 'n'].sum()\n",
    "print('Average revenue per conversion: {:.2f}$'.format(model_0_m_avg_per_conv))\n",
    "\n",
    "glm_model_pred = glm_model.predict(validate)\n",
    "glm_model_pred\n",
    "validate['pred_revenue'] = model_0_m_avg_per_conv * glm_model_pred['p1']\n",
    "\n",
    "pp = glm_model_pred['p1'].sum() / glm_model_pred['p1'].nrows\n",
    "validate['pred_revenue_uw'] = model_0_m_avg_per_conv * (glm_model_pred['p1'] / pp * .0138)\n",
    "\n",
    "# evaluate target metrics:\n",
    "\n",
    "frame = validate\n",
    "model_1_err1 = ((frame['pred_revenue'] - frame['rpc']) * (frame['pred_revenue'] - frame['rpc']) * frame['n']).sum() / frame['n'].sum()\n",
    "model_1_err2 = np.sqrt(model_1_err1)\n",
    "\n",
    "model_1_err1_uw = ((frame['pred_revenue_uw'] - frame['rpc']) * (frame['pred_revenue_uw'] - frame['rpc']) * frame['n_orig']).sum() / frame['n_orig'].sum()\n",
    "model_1_err2_uw = np.sqrt(model_1_err1_uw)\n",
    "\n",
    "print('RMSE: {:.2f}$'.format(model_1_err2))\n",
    "print('RMSE (unweighted): {:.2f}$'.format(model_1_err2_uw))"
   ]
  },
  {
   "cell_type": "code",
   "execution_count": 137,
   "metadata": {},
   "outputs": [
    {
     "name": "stdout",
     "output_type": "stream",
     "text": [
      "glm prediction progress: |████████████████████████████████████████████████| 100%\n",
      "glm prediction progress: |████████████████████████████████████████████████| 100%\n",
      "glm prediction progress: |████████████████████████████████████████████████| 100%\n"
     ]
    }
   ],
   "source": [
    "# add offsets to df's\n",
    "validate['offset'] = model_0_m_avg_per_conv * (glm_model.predict(validate)['p1'] / pp * .0138)\n",
    "train['offset'] = model_0_m_avg_per_conv * (glm_model.predict(train)['p1'] / pp * .0138)\n",
    "test['offset'] = model_0_m_avg_per_conv * (glm_model.predict(test)['p1'] / pp * .0138)"
   ]
  },
  {
   "cell_type": "markdown",
   "metadata": {},
   "source": [
    "### Model for `E[logm]`: Lasso Linear Regression\n",
    "\n",
    "http://docs.h2o.ai/h2o/latest-stable/h2o-docs/booklets/GLMBooklet.pdf  \n",
    "http://docs.h2o.ai/h2o/latest-stable/h2o-docs/data-science/glm.html"
   ]
  },
  {
   "cell_type": "code",
   "execution_count": 132,
   "metadata": {},
   "outputs": [],
   "source": [
    "predictors = ['Keyword_ID_r', 'Ad_group_ID_r', 'Campaign_ID', \n",
    "              'Account_ID', 'Match_type_ID', 'Device_ID', 'Month', 'Day', 'Week']\n",
    "response = 'rpc'\n",
    "weights_col = 'n_orig'"
   ]
  },
  {
   "cell_type": "markdown",
   "metadata": {},
   "source": [
    "#### Tune lasso parameters"
   ]
  },
  {
   "cell_type": "code",
   "execution_count": 244,
   "metadata": {
    "scrolled": true
   },
   "outputs": [
    {
     "name": "stdout",
     "output_type": "stream",
     "text": [
      "glm Grid Build progress: |████████████████████████████████████████████████| 100%\n"
     ]
    },
    {
     "name": "stderr",
     "output_type": "stream",
     "text": [
      "/home/ubuntu/.local/share/virtualenvs/ml-rpc-LO9Wo36E/lib/python3.5/site-packages/h2o/job.py:69: UserWarning: Reached maximum number of iterations 50!\n",
      "  warnings.warn(w)\n"
     ]
    }
   ],
   "source": [
    "from h2o.grid import H2OGridSearch\n",
    "from h2o.estimators.glm import H2OGeneralizedLinearEstimator\n",
    "\n",
    "import numpy as np\n",
    "\n",
    "lambda_grid = list(np.logspace(start=-7.0, stop=-3.0, num=10, base=10.0))\n",
    "\n",
    "h2o.remove('lm_grid')\n",
    "g_lm = H2OGridSearch(\n",
    "        model=H2OGeneralizedLinearEstimator(family=\"gaussian\", alpha=1.0),\n",
    "        hyper_params={\"lambda\": lambda_grid},\n",
    "        grid_id=\"lm_grid\"\n",
    "    )\n",
    "\n",
    "g_lm.train(predictors, response, training_frame=train_m, validation_frame=validate_m, weights_column = weights_col)"
   ]
  },
  {
   "cell_type": "code",
   "execution_count": 245,
   "metadata": {},
   "outputs": [
    {
     "data": {
      "text/html": [
       "<div>\n",
       "<style scoped>\n",
       "    .dataframe tbody tr th:only-of-type {\n",
       "        vertical-align: middle;\n",
       "    }\n",
       "\n",
       "    .dataframe tbody tr th {\n",
       "        vertical-align: top;\n",
       "    }\n",
       "\n",
       "    .dataframe thead th {\n",
       "        text-align: right;\n",
       "    }\n",
       "</style>\n",
       "<table border=\"1\" class=\"dataframe\">\n",
       "  <thead>\n",
       "    <tr style=\"text-align: right;\">\n",
       "      <th></th>\n",
       "      <th>Model_ID</th>\n",
       "      <th>DEV</th>\n",
       "      <th>lambda</th>\n",
       "    </tr>\n",
       "  </thead>\n",
       "  <tbody>\n",
       "    <tr>\n",
       "      <th>9</th>\n",
       "      <td>lm_grid_model_5</td>\n",
       "      <td>496973.378436</td>\n",
       "      <td>1.668101e-05</td>\n",
       "    </tr>\n",
       "    <tr>\n",
       "      <th>3</th>\n",
       "      <td>lm_grid_model_0</td>\n",
       "      <td>513437.855494</td>\n",
       "      <td>1.000000e-07</td>\n",
       "    </tr>\n",
       "    <tr>\n",
       "      <th>4</th>\n",
       "      <td>lm_grid_model_1</td>\n",
       "      <td>514856.061078</td>\n",
       "      <td>2.782559e-07</td>\n",
       "    </tr>\n",
       "    <tr>\n",
       "      <th>8</th>\n",
       "      <td>lm_grid_model_6</td>\n",
       "      <td>517172.365577</td>\n",
       "      <td>4.641589e-05</td>\n",
       "    </tr>\n",
       "    <tr>\n",
       "      <th>0</th>\n",
       "      <td>lm_grid_model_2</td>\n",
       "      <td>517330.737258</td>\n",
       "      <td>7.742637e-07</td>\n",
       "    </tr>\n",
       "    <tr>\n",
       "      <th>1</th>\n",
       "      <td>lm_grid_model_4</td>\n",
       "      <td>536947.325274</td>\n",
       "      <td>5.994843e-06</td>\n",
       "    </tr>\n",
       "    <tr>\n",
       "      <th>7</th>\n",
       "      <td>lm_grid_model_3</td>\n",
       "      <td>540413.424992</td>\n",
       "      <td>2.154435e-06</td>\n",
       "    </tr>\n",
       "    <tr>\n",
       "      <th>6</th>\n",
       "      <td>lm_grid_model_7</td>\n",
       "      <td>543812.460912</td>\n",
       "      <td>1.291550e-04</td>\n",
       "    </tr>\n",
       "    <tr>\n",
       "      <th>5</th>\n",
       "      <td>lm_grid_model_8</td>\n",
       "      <td>571109.983731</td>\n",
       "      <td>3.593814e-04</td>\n",
       "    </tr>\n",
       "    <tr>\n",
       "      <th>2</th>\n",
       "      <td>lm_grid_model_9</td>\n",
       "      <td>597102.991043</td>\n",
       "      <td>1.000000e-03</td>\n",
       "    </tr>\n",
       "  </tbody>\n",
       "</table>\n",
       "</div>"
      ],
      "text/plain": [
       "          Model_ID            DEV        lambda\n",
       "9  lm_grid_model_5  496973.378436  1.668101e-05\n",
       "3  lm_grid_model_0  513437.855494  1.000000e-07\n",
       "4  lm_grid_model_1  514856.061078  2.782559e-07\n",
       "8  lm_grid_model_6  517172.365577  4.641589e-05\n",
       "0  lm_grid_model_2  517330.737258  7.742637e-07\n",
       "1  lm_grid_model_4  536947.325274  5.994843e-06\n",
       "7  lm_grid_model_3  540413.424992  2.154435e-06\n",
       "6  lm_grid_model_7  543812.460912  1.291550e-04\n",
       "5  lm_grid_model_8  571109.983731  3.593814e-04\n",
       "2  lm_grid_model_9  597102.991043  1.000000e-03"
      ]
     },
     "execution_count": 245,
     "metadata": {},
     "output_type": "execute_result"
    }
   ],
   "source": [
    "import pandas as pd\n",
    "pd_dev = pd.DataFrame(list(g_lm.residual_deviance(valid=True).items()), columns=['Model_ID', 'DEV'])\n",
    "model_ids = pd_dev['Model_ID'].values\n",
    "pd_dev['lambda'] = np.array([g_lm.get_hyperparams_dict(model, display=False)['lambda'] for model in model_ids])\n",
    "pd_dev = pd_dev.sort_values('DEV', ascending=True)\n",
    "\n",
    "pd_dev"
   ]
  },
  {
   "cell_type": "code",
   "execution_count": 145,
   "metadata": {},
   "outputs": [
    {
     "name": "stdout",
     "output_type": "stream",
     "text": [
      "glm Model Build progress: |███████████████████████████████████████████████| 100%\n"
     ]
    },
    {
     "name": "stderr",
     "output_type": "stream",
     "text": [
      "/home/ubuntu/.local/share/virtualenvs/ml-rpc-LO9Wo36E/lib/python3.5/site-packages/h2o/job.py:69: UserWarning: Reached maximum number of iterations 100!\n",
      "  warnings.warn(w)\n"
     ]
    }
   ],
   "source": [
    "from h2o.estimators.glm import H2OGeneralizedLinearEstimator\n",
    "\n",
    "lm_model = H2OGeneralizedLinearEstimator(family=\"gaussian\", \n",
    "                                          lambda_=.00001, \n",
    "                                          standardize=True,\n",
    "                                          alpha=1.0,\n",
    "                                          max_iterations=100)\n",
    "\n",
    "lm_model.train(predictors, response, training_frame=train, validation_frame=validate, \n",
    "               weights_column = weights_col,\n",
    "               offset_column='offset')"
   ]
  },
  {
   "cell_type": "code",
   "execution_count": 149,
   "metadata": {
    "scrolled": false
   },
   "outputs": [
    {
     "name": "stdout",
     "output_type": "stream",
     "text": [
      "400.0827224271636\n",
      "407.4868445244403\n"
     ]
    }
   ],
   "source": [
    "print(lm_model.model_performance(train).rmse())\n",
    "print(lm_model.model_performance(validate).rmse())"
   ]
  },
  {
   "cell_type": "markdown",
   "metadata": {},
   "source": [
    "### Validate model:\n",
    "\n",
    "We keep track of the progress with respect to the 'trivial model' to evaluate dimnishing returns of model exploration process:\n",
    "\n",
    "- class assignment for `y` according to `P[Conversion]` with tuned threshold\n",
    "- `m` as `$exp(E[m|data])$`"
   ]
  },
  {
   "cell_type": "code",
   "execution_count": 150,
   "metadata": {
    "scrolled": false
   },
   "outputs": [
    {
     "name": "stdout",
     "output_type": "stream",
     "text": [
      "glm prediction progress: |████████████████████████████████████████████████| 100%\n",
      "glm prediction progress: |████████████████████████████████████████████████| 100%\n",
      "RMSE (unweighted): 407.49$\n"
     ]
    }
   ],
   "source": [
    "glm_model_pred = glm_model.predict(validate)\n",
    "lm_model_pred = lm_model.predict(validate)\n",
    "\n",
    "# validate['pred_revenue'] = lm_model_pred\n",
    "validate['pred_revenue_uw'] = lm_model_pred\n",
    "\n",
    "# evaluate target metrics:\n",
    "\n",
    "frame = validate\n",
    "# model_1_err1 = ((frame['pred_revenue'] - frame['m']) * (frame['pred_revenue'] - frame['m']) * frame['n']).sum() / frame['n'].sum()\n",
    "# model_1_err2 = np.sqrt(model_1_err1)\n",
    "\n",
    "model_1_err1_uw = ((frame['pred_revenue_uw'] - frame['rpc']) * (frame['pred_revenue_uw'] - frame['rpc']) * frame['n_orig']).sum() / frame['n_orig'].sum()\n",
    "model_1_err2_uw = np.sqrt(model_1_err1_uw)\n",
    "\n",
    "# print('RMSE: {:.2f}$'.format(model_1_err2))\n",
    "print('RMSE (unweighted): {:.2f}$'.format(model_1_err2_uw))"
   ]
  },
  {
   "cell_type": "code",
   "execution_count": 156,
   "metadata": {},
   "outputs": [
    {
     "data": {
      "image/png": "[encoded data removed]",
      "text/plain": [
       "<matplotlib.figure.Figure at 0x7fbf39da7cf8>"
      ]
     },
     "metadata": {},
     "output_type": "display_data"
    }
   ],
   "source": [
    "tmp = validate[validate['rpc'] > 0, ['rpc', 'pred_revenue_uw', 'offset']].as_data_frame()\n",
    "\n",
    "import pandas as pd\n",
    "import matplotlib.pyplot as plt\n",
    "%matplotlib inline\n",
    "\n",
    "p = pd.plotting.scatter_matrix(tmp, figsize=(11, 8), marker='o',\n",
    "                        hist_kwds={'bins': 20}, s=60, alpha=.8)"
   ]
  },
  {
   "cell_type": "markdown",
   "metadata": {},
   "source": [
    "### Use simple deep learning model:"
   ]
  },
  {
   "cell_type": "code",
   "execution_count": 313,
   "metadata": {},
   "outputs": [
    {
     "data": {
      "text/plain": [
       "66782"
      ]
     },
     "execution_count": 313,
     "metadata": {},
     "output_type": "execute_result"
    }
   ],
   "source": [
    "tt, _  = train.split_frame([.01], seed=2014)\n",
    "tt.nrows"
   ]
  },
  {
   "cell_type": "code",
   "execution_count": 50,
   "metadata": {
    "scrolled": false
   },
   "outputs": [
    {
     "name": "stdout",
     "output_type": "stream",
     "text": [
      "glm Model Build progress: |███████████████████████████████████████████████| 100%\n"
     ]
    },
    {
     "name": "stderr",
     "output_type": "stream",
     "text": [
      "/home/ubuntu/.local/share/virtualenvs/ml-rpc-LO9Wo36E/lib/python3.5/site-packages/h2o/job.py:69: UserWarning: Reached maximum number of iterations 100!\n",
      "  warnings.warn(w)\n"
     ]
    }
   ],
   "source": [
    "from h2o.estimators.glm import H2OGeneralizedLinearEstimator\n",
    "\n",
    "lm_model = H2OGeneralizedLinearEstimator(family=\"gaussian\", \n",
    "                                          lambda_=1.668101e-06, \n",
    "                                          standardize=True,\n",
    "                                          alpha=1.0,\n",
    "                                          max_iterations=100)\n",
    "\n",
    "lm_model.train(predictors, 'm', training_frame=train, validation_frame=validate, weights_column = 'n_orig')"
   ]
  },
  {
   "cell_type": "code",
   "execution_count": 51,
   "metadata": {},
   "outputs": [
    {
     "name": "stdout",
     "output_type": "stream",
     "text": [
      "486.7066268206049\n",
      "493.6666899268249\n"
     ]
    }
   ],
   "source": [
    "print(lm_model.rmse(train=True))\n",
    "print(lm_model.rmse(valid=True))"
   ]
  },
  {
   "cell_type": "code",
   "execution_count": 53,
   "metadata": {},
   "outputs": [
    {
     "name": "stdout",
     "output_type": "stream",
     "text": [
      "glm prediction progress: |████████████████████████████████████████████████| 100%\n",
      "RMSE: 3017.17$\n",
      "RMSE (unweighted): 493.67$\n"
     ]
    }
   ],
   "source": [
    "lm_model_pred = lm_model.predict(validate)\n",
    "\n",
    "validate['pred_revenue'] = lm_model_pred\n",
    "validate['pred_revenue_uw'] = lm_model_pred\n",
    "\n",
    "# evaluate target metrics:\n",
    "\n",
    "frame = validate\n",
    "model_1_err1 = ((frame['pred_revenue'] - frame['m']) * (frame['pred_revenue'] - frame['m']) * frame['n']).sum() / frame['n'].sum()\n",
    "model_1_err2 = np.sqrt(model_1_err1)\n",
    "\n",
    "model_1_err1_uw = ((frame['pred_revenue_uw'] - frame['m']) * (frame['pred_revenue_uw'] - frame['m']) * frame['n_orig']).sum() / frame['n_orig'].sum()\n",
    "model_1_err2_uw = np.sqrt(model_1_err1_uw)\n",
    "\n",
    "print('RMSE: {:.2f}$'.format(model_1_err2))\n",
    "print('RMSE (unweighted): {:.2f}$'.format(model_1_err2_uw))"
   ]
  },
  {
   "cell_type": "markdown",
   "metadata": {},
   "source": [
    "### Summary\n",
    "\n",
    "- two stage models do not really work! (unless first level is very, very accurate)\n",
    "- Always use simpler model from the very beginning that will open the road to smart feature engineering\n",
    "    - average rev per campaign\n",
    "    - avreage rev per account etcc\n",
    "- All in all sampling and weighting can make a process much faste\n",
    "- Balancing is a good idea but not in two step models (too much to be done in the end)\n",
    "- Workflow with Sparkling water is very robust and enables to leverage a lot of Python libraries (scikit-learn, scipy)\n",
    "- deep learning is not super fast (even on fast machine) so for big datasets like this one would probably still use XGboost\n",
    "\n"
   ]
  },
  {
   "cell_type": "code",
   "execution_count": null,
   "metadata": {},
   "outputs": [],
   "source": []
  }
 ],
 "metadata": {
  "kernelspec": {
   "display_name": "Python 3",
   "language": "python",
   "name": "python3"
  },
  "language_info": {
   "codemirror_mode": {
    "name": "ipython",
    "version": 3
   },
   "file_extension": ".py",
   "mimetype": "text/x-python",
   "name": "python",
   "nbconvert_exporter": "python",
   "pygments_lexer": "ipython3",
   "version": "3.5.2"
  }
 },
 "nbformat": 4,
 "nbformat_minor": 2
}
